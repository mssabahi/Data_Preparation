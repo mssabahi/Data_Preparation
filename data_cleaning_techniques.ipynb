{
  "nbformat": 4,
  "nbformat_minor": 5,
  "metadata": {
    "kernelspec": {
      "display_name": "Python 3",
      "language": "python",
      "name": "python3"
    },
    "language_info": {
      "codemirror_mode": {
        "name": "ipython",
        "version": 3
      },
      "file_extension": ".py",
      "mimetype": "text/x-python",
      "name": "python",
      "nbconvert_exporter": "python",
      "pygments_lexer": "ipython3",
      "version": "3.9.1"
    },
    "colab": {
      "name": "data_cleaning_techniques.ipynb",
      "provenance": [],
      "toc_visible": true,
      "include_colab_link": true
    }
  },
  "cells": [
    {
      "cell_type": "markdown",
      "metadata": {
        "id": "view-in-github",
        "colab_type": "text"
      },
      "source": [
        "<a href=\"https://colab.research.google.com/github/mssabahi/Data_Preparation/blob/main/data_cleaning_techniques.ipynb\" target=\"_parent\"><img src=\"https://colab.research.google.com/assets/colab-badge.svg\" alt=\"Open In Colab\"/></a>"
      ]
    },
    {
      "cell_type": "markdown",
      "metadata": {
        "id": "metric-particle"
      },
      "source": [
        "# Important Notes\n",
        "###  To do the data cleaning, some preliminary steps needed to check. Some of them are shown below:\n",
        "\n",
        "\n",
        "*   Check the dataframe info data types. commands:(df.info() and df.describe())\n",
        "\n",
        "*   Check categorical data and make sure they are not cosidered as numbers. \n",
        "1.  series.astype('category') \n",
        "2.  and make sure with assert series_name.dtype=='category'\n",
        "\n",
        "*   Consider the out of range data with dropping the dara or treating and imputing the data.\n",
        "*   Consider the duplicate values and rows.\n",
        "1.   duplicates = df.duplicated(subset = column_names, keep = False)\n",
        "2.   df[duplicates].sort_values(by = 'name of interest')\n",
        "*   Treat the duplicated values with the aggregation technique. This technique is usefull when some rows are similar except for some numeric columns. \n",
        "1.   column_names = ['col1','col2','col3']\n",
        "2.   summaries = {'height': 'max', 'weight': 'mean'}\n",
        "3.   df = df.groupby(by = column_names).agg(summaries).reset_index()\n",
        "4.   List item\n",
        "\n",
        "*   Check the nan values with msno.matrix(df)\n",
        "\n",
        "*   Use fuzzywuzzy library to deal with typos in dataframe.\n",
        "1.   from fuzzywuzzy import process\n",
        "\n",
        "*   Steps we need to follow:\n",
        "1.   Create a list of of names with correct spells. \n",
        "2.   Create matches: with the following for loop:\n",
        "\n",
        "\n",
        "```\n",
        "An example of matching state names with the correct spelling forms.\n",
        "categoris = ['California', 'New York']\n",
        "for i in categories['state']:\n",
        "  # Find potential matches in a column with typos\n",
        "    matches = process.extract(state, survey['state'], limit = survey.shape[0])\n",
        "    # For each potential match match\n",
        "      for potential_match in matches:\n",
        "        # If high similarity score\n",
        "        if potential_match[1] >= 80:\n",
        "          # Replace typo with correct category\n",
        "          survey.loc[survey['state'] == potential_match[0], 'state'] = state\n",
        "\n",
        "match is a tuple of 3 elements. for example in this case match=('New York', 100,56) the last element in this tuple is the index of the row. \n",
        "\n",
        "```\n",
        "\n",
        "\n",
        "*   Another useful command to deal with data with time format.\n",
        "\n",
        "\n",
        "```\n",
        "# Convert a column to datetime.\n",
        "df['col_time'] = pd.to_datetime(df['col_time'],\n",
        "                                           # Infer datetime format\n",
        "                                           infer_datetime_format = True,\n",
        "                                           # Return missing value for error\n",
        "                                           errors = 'coerce') \n",
        "```\n",
        "\n",
        "\n",
        "\n",
        "\n"
      ],
      "id": "metric-particle"
    },
    {
      "cell_type": "code",
      "metadata": {
        "id": "funky-machine"
      },
      "source": [
        "import pandas as pd\n",
        "import matplotlib.pyplot as plt\n",
        "%matplotlib inline\n",
        "import numpy as np\n",
        "from operator import add\n",
        "import datetime\n",
        "import os\n",
        "import sys\n",
        "import matplotlib\n",
        "import re\n",
        "import warnings\n",
        "warnings.filterwarnings('ignore')\n",
        "import matplotlib.dates as mdates\n",
        "from matplotlib.dates import DateFormatter\n",
        "import pylab\n",
        "import datetime as dt\n",
        "import missingno as msno\n",
        "\n",
        "# pd.set_option('display.max_rows', 5000)\n",
        "# pd.set_option('display.max_columns', 5000)\n",
        "# pd.set_option('display.width', 1000)"
      ],
      "id": "funky-machine",
      "execution_count": null,
      "outputs": []
    },
    {
      "cell_type": "code",
      "metadata": {
        "colab": {
          "base_uri": "https://localhost:8080/"
        },
        "id": "5k7V4iuHqhBc",
        "outputId": "b94685eb-9c67-4bcc-ee5a-1e7c94c82e88"
      },
      "source": [
        "from google.colab import drive\r\n",
        "drive.mount('/content/drive/')"
      ],
      "id": "5k7V4iuHqhBc",
      "execution_count": null,
      "outputs": [
        {
          "output_type": "stream",
          "text": [
            "Drive already mounted at /content/drive/; to attempt to forcibly remount, call drive.mount(\"/content/drive/\", force_remount=True).\n"
          ],
          "name": "stdout"
        }
      ]
    },
    {
      "cell_type": "code",
      "metadata": {
        "id": "broke-birmingham"
      },
      "source": [
        "path = '/content/drive/MyDrive/Data_Science/Data_Cleaning'"
      ],
      "id": "broke-birmingham",
      "execution_count": null,
      "outputs": []
    },
    {
      "cell_type": "code",
      "metadata": {
        "id": "DbYUcHActitp"
      },
      "source": [
        "ride_sharing = pd.read_csv(path+'/ride_sharing_new.csv')"
      ],
      "id": "DbYUcHActitp",
      "execution_count": null,
      "outputs": []
    },
    {
      "cell_type": "code",
      "metadata": {
        "colab": {
          "base_uri": "https://localhost:8080/",
          "height": 204
        },
        "id": "maritime-onion",
        "outputId": "08270f5d-4374-491d-e1d3-21f4094f9b17"
      },
      "source": [
        "ride_sharing.head()"
      ],
      "id": "maritime-onion",
      "execution_count": null,
      "outputs": [
        {
          "output_type": "execute_result",
          "data": {
            "text/html": [
              "<div>\n",
              "<style scoped>\n",
              "    .dataframe tbody tr th:only-of-type {\n",
              "        vertical-align: middle;\n",
              "    }\n",
              "\n",
              "    .dataframe tbody tr th {\n",
              "        vertical-align: top;\n",
              "    }\n",
              "\n",
              "    .dataframe thead th {\n",
              "        text-align: right;\n",
              "    }\n",
              "</style>\n",
              "<table border=\"1\" class=\"dataframe\">\n",
              "  <thead>\n",
              "    <tr style=\"text-align: right;\">\n",
              "      <th></th>\n",
              "      <th>Unnamed: 0</th>\n",
              "      <th>duration</th>\n",
              "      <th>station_A_id</th>\n",
              "      <th>station_A_name</th>\n",
              "      <th>station_B_id</th>\n",
              "      <th>station_B_name</th>\n",
              "      <th>bike_id</th>\n",
              "      <th>user_type</th>\n",
              "      <th>user_birth_year</th>\n",
              "      <th>user_gender</th>\n",
              "    </tr>\n",
              "  </thead>\n",
              "  <tbody>\n",
              "    <tr>\n",
              "      <th>0</th>\n",
              "      <td>0</td>\n",
              "      <td>12 minutes</td>\n",
              "      <td>81</td>\n",
              "      <td>Berry St at 4th St</td>\n",
              "      <td>323</td>\n",
              "      <td>Broadway at Kearny</td>\n",
              "      <td>5480</td>\n",
              "      <td>2</td>\n",
              "      <td>1959</td>\n",
              "      <td>Male</td>\n",
              "    </tr>\n",
              "    <tr>\n",
              "      <th>1</th>\n",
              "      <td>1</td>\n",
              "      <td>24 minutes</td>\n",
              "      <td>3</td>\n",
              "      <td>Powell St BART Station (Market St at 4th St)</td>\n",
              "      <td>118</td>\n",
              "      <td>Eureka Valley Recreation Center</td>\n",
              "      <td>5193</td>\n",
              "      <td>2</td>\n",
              "      <td>1965</td>\n",
              "      <td>Male</td>\n",
              "    </tr>\n",
              "    <tr>\n",
              "      <th>2</th>\n",
              "      <td>2</td>\n",
              "      <td>8 minutes</td>\n",
              "      <td>67</td>\n",
              "      <td>San Francisco Caltrain Station 2  (Townsend St...</td>\n",
              "      <td>23</td>\n",
              "      <td>The Embarcadero at Steuart St</td>\n",
              "      <td>3652</td>\n",
              "      <td>3</td>\n",
              "      <td>1993</td>\n",
              "      <td>Male</td>\n",
              "    </tr>\n",
              "    <tr>\n",
              "      <th>3</th>\n",
              "      <td>3</td>\n",
              "      <td>4 minutes</td>\n",
              "      <td>16</td>\n",
              "      <td>Steuart St at Market St</td>\n",
              "      <td>28</td>\n",
              "      <td>The Embarcadero at Bryant St</td>\n",
              "      <td>1883</td>\n",
              "      <td>1</td>\n",
              "      <td>1979</td>\n",
              "      <td>Male</td>\n",
              "    </tr>\n",
              "    <tr>\n",
              "      <th>4</th>\n",
              "      <td>4</td>\n",
              "      <td>11 minutes</td>\n",
              "      <td>22</td>\n",
              "      <td>Howard St at Beale St</td>\n",
              "      <td>350</td>\n",
              "      <td>8th St at Brannan St</td>\n",
              "      <td>4626</td>\n",
              "      <td>2</td>\n",
              "      <td>1994</td>\n",
              "      <td>Male</td>\n",
              "    </tr>\n",
              "  </tbody>\n",
              "</table>\n",
              "</div>"
            ],
            "text/plain": [
              "   Unnamed: 0    duration  station_A_id  ... user_type  user_birth_year user_gender\n",
              "0           0  12 minutes            81  ...         2             1959        Male\n",
              "1           1  24 minutes             3  ...         2             1965        Male\n",
              "2           2   8 minutes            67  ...         3             1993        Male\n",
              "3           3   4 minutes            16  ...         1             1979        Male\n",
              "4           4  11 minutes            22  ...         2             1994        Male\n",
              "\n",
              "[5 rows x 10 columns]"
            ]
          },
          "metadata": {
            "tags": []
          },
          "execution_count": 5
        }
      ]
    },
    {
      "cell_type": "code",
      "metadata": {
        "colab": {
          "base_uri": "https://localhost:8080/"
        },
        "id": "lyric-success",
        "outputId": "36489f4c-9dda-41df-8dd2-6d31c3903200"
      },
      "source": [
        "# Print the information of ride_sharing\n",
        "print(ride_sharing.info())"
      ],
      "id": "lyric-success",
      "execution_count": null,
      "outputs": [
        {
          "output_type": "stream",
          "text": [
            "<class 'pandas.core.frame.DataFrame'>\n",
            "RangeIndex: 25760 entries, 0 to 25759\n",
            "Data columns (total 10 columns):\n",
            " #   Column           Non-Null Count  Dtype \n",
            "---  ------           --------------  ----- \n",
            " 0   Unnamed: 0       25760 non-null  int64 \n",
            " 1   duration         25760 non-null  object\n",
            " 2   station_A_id     25760 non-null  int64 \n",
            " 3   station_A_name   25760 non-null  object\n",
            " 4   station_B_id     25760 non-null  int64 \n",
            " 5   station_B_name   25760 non-null  object\n",
            " 6   bike_id          25760 non-null  int64 \n",
            " 7   user_type        25760 non-null  int64 \n",
            " 8   user_birth_year  25760 non-null  int64 \n",
            " 9   user_gender      25760 non-null  object\n",
            "dtypes: int64(6), object(4)\n",
            "memory usage: 2.0+ MB\n",
            "None\n"
          ],
          "name": "stdout"
        }
      ]
    },
    {
      "cell_type": "markdown",
      "metadata": {
        "id": "graphic-point"
      },
      "source": [
        "The user_type column contains information on whether a user is taking a free ride and takes on the following values:\n",
        "\n",
        "1 for free riders.\n",
        "2 for pay per ride.\n",
        "3 for monthly subscribers."
      ],
      "id": "graphic-point"
    },
    {
      "cell_type": "code",
      "metadata": {
        "colab": {
          "base_uri": "https://localhost:8080/"
        },
        "id": "hourly-coupon",
        "outputId": "e7bbe202-44fc-4b1a-83c8-b5d9c77fbbb6"
      },
      "source": [
        "# Print summary statistics of user_type column\n",
        "print(ride_sharing['user_type'].describe())"
      ],
      "id": "hourly-coupon",
      "execution_count": null,
      "outputs": [
        {
          "output_type": "stream",
          "text": [
            "count    25760.000000\n",
            "mean         2.008385\n",
            "std          0.704541\n",
            "min          1.000000\n",
            "25%          2.000000\n",
            "50%          2.000000\n",
            "75%          3.000000\n",
            "max          3.000000\n",
            "Name: user_type, dtype: float64\n"
          ],
          "name": "stdout"
        }
      ]
    },
    {
      "cell_type": "code",
      "metadata": {
        "id": "outer-working"
      },
      "source": [
        "# Convert user_type from integer to category\n",
        "ride_sharing['user_type_cat'] = ride_sharing['user_type'].astype('category')"
      ],
      "id": "outer-working",
      "execution_count": null,
      "outputs": []
    },
    {
      "cell_type": "code",
      "metadata": {
        "id": "compatible-herald"
      },
      "source": [
        "# Write an assert statement confirming the change\n",
        "assert ride_sharing['user_type_cat'].dtype == 'category'"
      ],
      "id": "compatible-herald",
      "execution_count": null,
      "outputs": []
    },
    {
      "cell_type": "code",
      "metadata": {
        "colab": {
          "base_uri": "https://localhost:8080/"
        },
        "id": "moving-poultry",
        "outputId": "a6b65509-595c-4d49-c815-7a370b05d1be"
      },
      "source": [
        "# Print new summary statistics \n",
        "print(ride_sharing['user_type_cat'].describe())"
      ],
      "id": "moving-poultry",
      "execution_count": null,
      "outputs": [
        {
          "output_type": "stream",
          "text": [
            "count     25760\n",
            "unique        3\n",
            "top           2\n",
            "freq      12972\n",
            "Name: user_type_cat, dtype: int64\n"
          ],
          "name": "stdout"
        }
      ]
    },
    {
      "cell_type": "markdown",
      "metadata": {
        "id": "registered-audit"
      },
      "source": [
        "### Summing strings and concatenating numbers\n",
        "\n",
        "In the previous exercise, you were able to identify that category is the correct data type for user_type and convert it in order to extract relevant statistical summaries that shed light on the distribution of user_type.\n",
        "\n",
        "Another common data type problem is importing what should be numerical values as strings, as mathematical operations such as summing and multiplication lead to string concatenation, not numerical outputs.\n",
        "\n",
        "In this exercise, you'll be converting the string column duration to the type int. Before that however, you will need to make sure to strip \"minutes\" from the column in order to make sure pandas reads it as numerical. The pandas package has been imported as pd."
      ],
      "id": "registered-audit"
    },
    {
      "cell_type": "code",
      "metadata": {
        "id": "billion-research"
      },
      "source": [
        "# Strip duration of minutes\n",
        "ride_sharing['duration'] = ride_sharing['duration'].str.strip('minutes')\n",
        "ride_sharing['duration'] = ride_sharing['duration'].astype(int) # Convert duration to integer\n",
        "\n",
        "# Write an assert statement making sure of conversion\n",
        "assert ride_sharing['duration'].dtype == 'int'"
      ],
      "id": "billion-research",
      "execution_count": null,
      "outputs": []
    },
    {
      "cell_type": "code",
      "metadata": {
        "id": "streaming-peninsula"
      },
      "source": [
        "ride_sharing.drop(['Unnamed: 0'], axis=1,inplace=True)"
      ],
      "id": "streaming-peninsula",
      "execution_count": null,
      "outputs": []
    },
    {
      "cell_type": "code",
      "metadata": {
        "colab": {
          "base_uri": "https://localhost:8080/",
          "height": 204
        },
        "id": "equivalent-increase",
        "outputId": "6443149e-c4d2-42c4-8fdd-be6d33338306"
      },
      "source": [
        "ride_sharing.head()"
      ],
      "id": "equivalent-increase",
      "execution_count": null,
      "outputs": [
        {
          "output_type": "execute_result",
          "data": {
            "text/html": [
              "<div>\n",
              "<style scoped>\n",
              "    .dataframe tbody tr th:only-of-type {\n",
              "        vertical-align: middle;\n",
              "    }\n",
              "\n",
              "    .dataframe tbody tr th {\n",
              "        vertical-align: top;\n",
              "    }\n",
              "\n",
              "    .dataframe thead th {\n",
              "        text-align: right;\n",
              "    }\n",
              "</style>\n",
              "<table border=\"1\" class=\"dataframe\">\n",
              "  <thead>\n",
              "    <tr style=\"text-align: right;\">\n",
              "      <th></th>\n",
              "      <th>duration</th>\n",
              "      <th>station_A_id</th>\n",
              "      <th>station_A_name</th>\n",
              "      <th>station_B_id</th>\n",
              "      <th>station_B_name</th>\n",
              "      <th>bike_id</th>\n",
              "      <th>user_type</th>\n",
              "      <th>user_birth_year</th>\n",
              "      <th>user_gender</th>\n",
              "      <th>user_type_cat</th>\n",
              "    </tr>\n",
              "  </thead>\n",
              "  <tbody>\n",
              "    <tr>\n",
              "      <th>0</th>\n",
              "      <td>12</td>\n",
              "      <td>81</td>\n",
              "      <td>Berry St at 4th St</td>\n",
              "      <td>323</td>\n",
              "      <td>Broadway at Kearny</td>\n",
              "      <td>5480</td>\n",
              "      <td>2</td>\n",
              "      <td>1959</td>\n",
              "      <td>Male</td>\n",
              "      <td>2</td>\n",
              "    </tr>\n",
              "    <tr>\n",
              "      <th>1</th>\n",
              "      <td>24</td>\n",
              "      <td>3</td>\n",
              "      <td>Powell St BART Station (Market St at 4th St)</td>\n",
              "      <td>118</td>\n",
              "      <td>Eureka Valley Recreation Center</td>\n",
              "      <td>5193</td>\n",
              "      <td>2</td>\n",
              "      <td>1965</td>\n",
              "      <td>Male</td>\n",
              "      <td>2</td>\n",
              "    </tr>\n",
              "    <tr>\n",
              "      <th>2</th>\n",
              "      <td>8</td>\n",
              "      <td>67</td>\n",
              "      <td>San Francisco Caltrain Station 2  (Townsend St...</td>\n",
              "      <td>23</td>\n",
              "      <td>The Embarcadero at Steuart St</td>\n",
              "      <td>3652</td>\n",
              "      <td>3</td>\n",
              "      <td>1993</td>\n",
              "      <td>Male</td>\n",
              "      <td>3</td>\n",
              "    </tr>\n",
              "    <tr>\n",
              "      <th>3</th>\n",
              "      <td>4</td>\n",
              "      <td>16</td>\n",
              "      <td>Steuart St at Market St</td>\n",
              "      <td>28</td>\n",
              "      <td>The Embarcadero at Bryant St</td>\n",
              "      <td>1883</td>\n",
              "      <td>1</td>\n",
              "      <td>1979</td>\n",
              "      <td>Male</td>\n",
              "      <td>1</td>\n",
              "    </tr>\n",
              "    <tr>\n",
              "      <th>4</th>\n",
              "      <td>11</td>\n",
              "      <td>22</td>\n",
              "      <td>Howard St at Beale St</td>\n",
              "      <td>350</td>\n",
              "      <td>8th St at Brannan St</td>\n",
              "      <td>4626</td>\n",
              "      <td>2</td>\n",
              "      <td>1994</td>\n",
              "      <td>Male</td>\n",
              "      <td>2</td>\n",
              "    </tr>\n",
              "  </tbody>\n",
              "</table>\n",
              "</div>"
            ],
            "text/plain": [
              "   duration  station_A_id  ... user_gender  user_type_cat\n",
              "0        12            81  ...        Male              2\n",
              "1        24             3  ...        Male              2\n",
              "2         8            67  ...        Male              3\n",
              "3         4            16  ...        Male              1\n",
              "4        11            22  ...        Male              2\n",
              "\n",
              "[5 rows x 10 columns]"
            ]
          },
          "metadata": {
            "tags": []
          },
          "execution_count": 13
        }
      ]
    },
    {
      "cell_type": "markdown",
      "metadata": {
        "id": "elementary-housing"
      },
      "source": [
        "### Tire size constraints\n",
        "In this lesson, you're going to build on top of the work you've been doing with the ride_sharing DataFrame. You'll be working with the tire_sizes column which contains data on each bike's tire size.\n",
        "\n",
        "Bicycle tire sizes could be either 26″, 27″ or 29″ and are here correctly stored as a categorical value. In an effort to cut maintenance costs, the ride sharing provider decided to set the maximum tire size to be 27″.\n",
        "\n",
        "In this exercise, you will make sure the tire_sizes column has the correct range by first converting it to an integer, then setting and testing the new upper limit of 27″ for tire sizes."
      ],
      "id": "elementary-housing"
    },
    {
      "cell_type": "code",
      "metadata": {
        "id": "separated-secretariat"
      },
      "source": [
        "import random\n",
        "rand_date_ls = []\n",
        "\n",
        "for i in range(ride_sharing.shape[0]):\n",
        "    start_date = datetime.date(2018, 1, 1)\n",
        "    end_date = datetime.date(2020, 2, 1)\n",
        "\n",
        "    time_between_dates = end_date - start_date\n",
        "    days_between_dates = time_between_dates.days\n",
        "    random_number_of_days = random.randrange(days_between_dates)\n",
        "    random_date = start_date + datetime.timedelta(days=random_number_of_days)\n",
        "\n",
        "    rand_date_ls.append(random_date)"
      ],
      "id": "separated-secretariat",
      "execution_count": null,
      "outputs": []
    },
    {
      "cell_type": "code",
      "metadata": {
        "id": "considerable-bikini"
      },
      "source": [
        "tire_sizes_ls = []\n",
        "available_sizes = [26,27,29, 30, 31]\n",
        "for i in range(ride_sharing.shape[0]):\n",
        "    tire_sizes_ls.append( random.choice(available_sizes) )\n",
        "    "
      ],
      "id": "considerable-bikini",
      "execution_count": null,
      "outputs": []
    },
    {
      "cell_type": "code",
      "metadata": {
        "colab": {
          "base_uri": "https://localhost:8080/"
        },
        "id": "severe-november",
        "outputId": "79cc73d2-87fb-4adf-ffed-5c6bac7f0d15"
      },
      "source": [
        "ride_sharing.shape[0]"
      ],
      "id": "severe-november",
      "execution_count": null,
      "outputs": [
        {
          "output_type": "execute_result",
          "data": {
            "text/plain": [
              "25760"
            ]
          },
          "metadata": {
            "tags": []
          },
          "execution_count": 16
        }
      ]
    },
    {
      "cell_type": "code",
      "metadata": {
        "colab": {
          "base_uri": "https://localhost:8080/"
        },
        "id": "three-night",
        "outputId": "99c4dc3b-1ced-41bf-d2bf-cea81c24ea22"
      },
      "source": [
        "ride_sharing['tire_sizes'] = tire_sizes_ls\n",
        "ride_sharing['tire_sizes'] = ride_sharing['tire_sizes'].astype('category')\n",
        "ride_sharing['tire_sizes'].dtype"
      ],
      "id": "three-night",
      "execution_count": null,
      "outputs": [
        {
          "output_type": "execute_result",
          "data": {
            "text/plain": [
              "CategoricalDtype(categories=[26, 27, 29, 30, 31], ordered=False)"
            ]
          },
          "metadata": {
            "tags": []
          },
          "execution_count": 17
        }
      ]
    },
    {
      "cell_type": "code",
      "metadata": {
        "id": "normal-passport"
      },
      "source": [
        "ride_sharing['ride_date'] = rand_date_ls"
      ],
      "id": "normal-passport",
      "execution_count": null,
      "outputs": []
    },
    {
      "cell_type": "code",
      "metadata": {
        "colab": {
          "base_uri": "https://localhost:8080/",
          "height": 589
        },
        "id": "athletic-mills",
        "outputId": "b5738318-d987-456e-b716-2ed0f441361b"
      },
      "source": [
        "ride_sharing"
      ],
      "id": "athletic-mills",
      "execution_count": null,
      "outputs": [
        {
          "output_type": "execute_result",
          "data": {
            "text/html": [
              "<div>\n",
              "<style scoped>\n",
              "    .dataframe tbody tr th:only-of-type {\n",
              "        vertical-align: middle;\n",
              "    }\n",
              "\n",
              "    .dataframe tbody tr th {\n",
              "        vertical-align: top;\n",
              "    }\n",
              "\n",
              "    .dataframe thead th {\n",
              "        text-align: right;\n",
              "    }\n",
              "</style>\n",
              "<table border=\"1\" class=\"dataframe\">\n",
              "  <thead>\n",
              "    <tr style=\"text-align: right;\">\n",
              "      <th></th>\n",
              "      <th>duration</th>\n",
              "      <th>station_A_id</th>\n",
              "      <th>station_A_name</th>\n",
              "      <th>station_B_id</th>\n",
              "      <th>station_B_name</th>\n",
              "      <th>bike_id</th>\n",
              "      <th>user_type</th>\n",
              "      <th>user_birth_year</th>\n",
              "      <th>user_gender</th>\n",
              "      <th>user_type_cat</th>\n",
              "      <th>tire_sizes</th>\n",
              "      <th>ride_date</th>\n",
              "    </tr>\n",
              "  </thead>\n",
              "  <tbody>\n",
              "    <tr>\n",
              "      <th>0</th>\n",
              "      <td>12</td>\n",
              "      <td>81</td>\n",
              "      <td>Berry St at 4th St</td>\n",
              "      <td>323</td>\n",
              "      <td>Broadway at Kearny</td>\n",
              "      <td>5480</td>\n",
              "      <td>2</td>\n",
              "      <td>1959</td>\n",
              "      <td>Male</td>\n",
              "      <td>2</td>\n",
              "      <td>30</td>\n",
              "      <td>2020-01-21</td>\n",
              "    </tr>\n",
              "    <tr>\n",
              "      <th>1</th>\n",
              "      <td>24</td>\n",
              "      <td>3</td>\n",
              "      <td>Powell St BART Station (Market St at 4th St)</td>\n",
              "      <td>118</td>\n",
              "      <td>Eureka Valley Recreation Center</td>\n",
              "      <td>5193</td>\n",
              "      <td>2</td>\n",
              "      <td>1965</td>\n",
              "      <td>Male</td>\n",
              "      <td>2</td>\n",
              "      <td>30</td>\n",
              "      <td>2019-12-23</td>\n",
              "    </tr>\n",
              "    <tr>\n",
              "      <th>2</th>\n",
              "      <td>8</td>\n",
              "      <td>67</td>\n",
              "      <td>San Francisco Caltrain Station 2  (Townsend St...</td>\n",
              "      <td>23</td>\n",
              "      <td>The Embarcadero at Steuart St</td>\n",
              "      <td>3652</td>\n",
              "      <td>3</td>\n",
              "      <td>1993</td>\n",
              "      <td>Male</td>\n",
              "      <td>3</td>\n",
              "      <td>27</td>\n",
              "      <td>2018-11-19</td>\n",
              "    </tr>\n",
              "    <tr>\n",
              "      <th>3</th>\n",
              "      <td>4</td>\n",
              "      <td>16</td>\n",
              "      <td>Steuart St at Market St</td>\n",
              "      <td>28</td>\n",
              "      <td>The Embarcadero at Bryant St</td>\n",
              "      <td>1883</td>\n",
              "      <td>1</td>\n",
              "      <td>1979</td>\n",
              "      <td>Male</td>\n",
              "      <td>1</td>\n",
              "      <td>29</td>\n",
              "      <td>2019-05-22</td>\n",
              "    </tr>\n",
              "    <tr>\n",
              "      <th>4</th>\n",
              "      <td>11</td>\n",
              "      <td>22</td>\n",
              "      <td>Howard St at Beale St</td>\n",
              "      <td>350</td>\n",
              "      <td>8th St at Brannan St</td>\n",
              "      <td>4626</td>\n",
              "      <td>2</td>\n",
              "      <td>1994</td>\n",
              "      <td>Male</td>\n",
              "      <td>2</td>\n",
              "      <td>31</td>\n",
              "      <td>2019-07-13</td>\n",
              "    </tr>\n",
              "    <tr>\n",
              "      <th>...</th>\n",
              "      <td>...</td>\n",
              "      <td>...</td>\n",
              "      <td>...</td>\n",
              "      <td>...</td>\n",
              "      <td>...</td>\n",
              "      <td>...</td>\n",
              "      <td>...</td>\n",
              "      <td>...</td>\n",
              "      <td>...</td>\n",
              "      <td>...</td>\n",
              "      <td>...</td>\n",
              "      <td>...</td>\n",
              "    </tr>\n",
              "    <tr>\n",
              "      <th>25755</th>\n",
              "      <td>11</td>\n",
              "      <td>15</td>\n",
              "      <td>San Francisco Ferry Building (Harry Bridges Pl...</td>\n",
              "      <td>34</td>\n",
              "      <td>Father Alfred E Boeddeker Park</td>\n",
              "      <td>5063</td>\n",
              "      <td>1</td>\n",
              "      <td>2000</td>\n",
              "      <td>Male</td>\n",
              "      <td>1</td>\n",
              "      <td>29</td>\n",
              "      <td>2018-05-27</td>\n",
              "    </tr>\n",
              "    <tr>\n",
              "      <th>25756</th>\n",
              "      <td>10</td>\n",
              "      <td>15</td>\n",
              "      <td>San Francisco Ferry Building (Harry Bridges Pl...</td>\n",
              "      <td>34</td>\n",
              "      <td>Father Alfred E Boeddeker Park</td>\n",
              "      <td>5411</td>\n",
              "      <td>2</td>\n",
              "      <td>1998</td>\n",
              "      <td>Male</td>\n",
              "      <td>2</td>\n",
              "      <td>26</td>\n",
              "      <td>2018-11-04</td>\n",
              "    </tr>\n",
              "    <tr>\n",
              "      <th>25757</th>\n",
              "      <td>14</td>\n",
              "      <td>15</td>\n",
              "      <td>San Francisco Ferry Building (Harry Bridges Pl...</td>\n",
              "      <td>42</td>\n",
              "      <td>San Francisco City Hall (Polk St at Grove St)</td>\n",
              "      <td>5157</td>\n",
              "      <td>2</td>\n",
              "      <td>1995</td>\n",
              "      <td>Male</td>\n",
              "      <td>2</td>\n",
              "      <td>30</td>\n",
              "      <td>2018-06-04</td>\n",
              "    </tr>\n",
              "    <tr>\n",
              "      <th>25758</th>\n",
              "      <td>14</td>\n",
              "      <td>15</td>\n",
              "      <td>San Francisco Ferry Building (Harry Bridges Pl...</td>\n",
              "      <td>42</td>\n",
              "      <td>San Francisco City Hall (Polk St at Grove St)</td>\n",
              "      <td>4438</td>\n",
              "      <td>2</td>\n",
              "      <td>1995</td>\n",
              "      <td>Male</td>\n",
              "      <td>2</td>\n",
              "      <td>26</td>\n",
              "      <td>2018-01-21</td>\n",
              "    </tr>\n",
              "    <tr>\n",
              "      <th>25759</th>\n",
              "      <td>29</td>\n",
              "      <td>16</td>\n",
              "      <td>Steuart St at Market St</td>\n",
              "      <td>115</td>\n",
              "      <td>Jackson Playground</td>\n",
              "      <td>1705</td>\n",
              "      <td>3</td>\n",
              "      <td>1990</td>\n",
              "      <td>Male</td>\n",
              "      <td>3</td>\n",
              "      <td>30</td>\n",
              "      <td>2018-10-28</td>\n",
              "    </tr>\n",
              "  </tbody>\n",
              "</table>\n",
              "<p>25760 rows × 12 columns</p>\n",
              "</div>"
            ],
            "text/plain": [
              "       duration  station_A_id  ... tire_sizes   ride_date\n",
              "0            12            81  ...         30  2020-01-21\n",
              "1            24             3  ...         30  2019-12-23\n",
              "2             8            67  ...         27  2018-11-19\n",
              "3             4            16  ...         29  2019-05-22\n",
              "4            11            22  ...         31  2019-07-13\n",
              "...         ...           ...  ...        ...         ...\n",
              "25755        11            15  ...         29  2018-05-27\n",
              "25756        10            15  ...         26  2018-11-04\n",
              "25757        14            15  ...         30  2018-06-04\n",
              "25758        14            15  ...         26  2018-01-21\n",
              "25759        29            16  ...         30  2018-10-28\n",
              "\n",
              "[25760 rows x 12 columns]"
            ]
          },
          "metadata": {
            "tags": []
          },
          "execution_count": 19
        }
      ]
    },
    {
      "cell_type": "code",
      "metadata": {
        "colab": {
          "base_uri": "https://localhost:8080/"
        },
        "id": "familiar-november",
        "outputId": "9c2cb14c-51ab-4d4f-d548-09c1edd69db4"
      },
      "source": [
        "# Convert tire_sizes to integer\n",
        "ride_sharing['tire_sizes'] = ride_sharing['tire_sizes'].astype('int')\n",
        "\n",
        "# Set all values above 27 to 27\n",
        "ride_sharing.loc[ride_sharing['tire_sizes'] > 27, 'tire_sizes'] = 27\n",
        "\n",
        "# Reconvert tire_sizes back to categorical\n",
        "ride_sharing['tire_sizes'] = ride_sharing['tire_sizes'].astype('category')\n",
        "\n",
        "# Print tire size description\n",
        "print(ride_sharing['tire_sizes'].describe())"
      ],
      "id": "familiar-november",
      "execution_count": null,
      "outputs": [
        {
          "output_type": "stream",
          "text": [
            "count     25760\n",
            "unique        2\n",
            "top          27\n",
            "freq      20585\n",
            "Name: tire_sizes, dtype: int64\n"
          ],
          "name": "stdout"
        }
      ]
    },
    {
      "cell_type": "markdown",
      "metadata": {
        "id": "handled-guinea"
      },
      "source": [
        "### Back to the future\n",
        "A new update to the data pipeline feeding into the ride_sharing DataFrame has been updated to register each ride's date. This information is stored in the ride_date column of the type object, which represents strings in pandas.\n",
        "\n",
        "A bug was discovered which was relaying rides taken today as taken next year. To fix this, you will find all instances of the ride_date column that occur anytime in the future, and set the maximum possible value of this column to today's date. Before doing so, you would need to convert ride_date to a datetime object.\n",
        "\n",
        "The datetime package has been imported as dt, alongside all the packages you've been using till now."
      ],
      "id": "handled-guinea"
    },
    {
      "cell_type": "code",
      "metadata": {
        "colab": {
          "base_uri": "https://localhost:8080/"
        },
        "id": "minute-browse",
        "outputId": "ee439b43-4ae6-4dbb-b603-548a0857d4dd"
      },
      "source": [
        "ride_sharing.info()"
      ],
      "id": "minute-browse",
      "execution_count": null,
      "outputs": [
        {
          "output_type": "stream",
          "text": [
            "<class 'pandas.core.frame.DataFrame'>\n",
            "RangeIndex: 25760 entries, 0 to 25759\n",
            "Data columns (total 12 columns):\n",
            " #   Column           Non-Null Count  Dtype   \n",
            "---  ------           --------------  -----   \n",
            " 0   duration         25760 non-null  int64   \n",
            " 1   station_A_id     25760 non-null  int64   \n",
            " 2   station_A_name   25760 non-null  object  \n",
            " 3   station_B_id     25760 non-null  int64   \n",
            " 4   station_B_name   25760 non-null  object  \n",
            " 5   bike_id          25760 non-null  int64   \n",
            " 6   user_type        25760 non-null  int64   \n",
            " 7   user_birth_year  25760 non-null  int64   \n",
            " 8   user_gender      25760 non-null  object  \n",
            " 9   user_type_cat    25760 non-null  category\n",
            " 10  tire_sizes       25760 non-null  category\n",
            " 11  ride_date        25760 non-null  object  \n",
            "dtypes: category(2), int64(6), object(4)\n",
            "memory usage: 2.0+ MB\n"
          ],
          "name": "stdout"
        }
      ]
    },
    {
      "cell_type": "code",
      "metadata": {
        "colab": {
          "base_uri": "https://localhost:8080/"
        },
        "id": "pediatric-exercise",
        "outputId": "f6fb4e87-dc6e-4d01-ab14-3fa776622cfb"
      },
      "source": [
        "# Convert ride_date to datetime\n",
        "ride_sharing['ride_dt'] = pd.to_datetime(ride_sharing['ride_date'])\n",
        "\n",
        "# Save today's date\n",
        "today = pd.to_datetime('today') # must be in this format\n",
        "\n",
        "# Set all in the future to today's date\n",
        "ride_sharing.loc[ride_sharing['ride_dt'] > today, 'ride_dt'] = today\n",
        "\n",
        "# # Print maximum of ride_dt column\n",
        "print(ride_sharing['ride_dt'].max())"
      ],
      "id": "pediatric-exercise",
      "execution_count": null,
      "outputs": [
        {
          "output_type": "stream",
          "text": [
            "2020-01-31 00:00:00\n"
          ],
          "name": "stdout"
        }
      ]
    },
    {
      "cell_type": "markdown",
      "metadata": {
        "id": "athletic-wagon"
      },
      "source": [
        "### Finding duplicates\n",
        "A new update to the data pipeline feeding into ride_sharing has added the ride_id column, which represents a unique identifier for each ride.\n",
        "\n",
        "The update however coincided with radically shorter average ride duration times and irregular user birth dates set in the future. Most importantly, the number of rides taken has increased by 20% overnight, leading you to think there might be both complete and incomplete duplicates in the ride_sharing DataFrame.\n",
        "\n",
        "In this exercise, you will confirm this suspicion by finding those duplicates. A sample of ride_sharing is in your environment, as well as all the packages you've been working with thus far."
      ],
      "id": "athletic-wagon"
    },
    {
      "cell_type": "code",
      "metadata": {
        "colab": {
          "base_uri": "https://localhost:8080/"
        },
        "id": "coated-cloud",
        "outputId": "7fa32ea8-e611-47e5-c324-1500774d6e3b"
      },
      "source": [
        "ride_sharing.shape"
      ],
      "id": "coated-cloud",
      "execution_count": null,
      "outputs": [
        {
          "output_type": "execute_result",
          "data": {
            "text/plain": [
              "(25760, 13)"
            ]
          },
          "metadata": {
            "tags": []
          },
          "execution_count": 24
        }
      ]
    },
    {
      "cell_type": "code",
      "metadata": {
        "colab": {
          "base_uri": "https://localhost:8080/"
        },
        "id": "blond-liquid",
        "outputId": "e23d36de-319a-4fbd-ed4f-50bc22bdbf61"
      },
      "source": [
        "# Find duplicates\n",
        "duplicates = ride_sharing.duplicated(subset=['bike_id'], keep= False)\n",
        "duplicates\n"
      ],
      "id": "blond-liquid",
      "execution_count": null,
      "outputs": [
        {
          "output_type": "execute_result",
          "data": {
            "text/plain": [
              "0        True\n",
              "1        True\n",
              "2        True\n",
              "3        True\n",
              "4        True\n",
              "         ... \n",
              "25755    True\n",
              "25756    True\n",
              "25757    True\n",
              "25758    True\n",
              "25759    True\n",
              "Length: 25760, dtype: bool"
            ]
          },
          "metadata": {
            "tags": []
          },
          "execution_count": 25
        }
      ]
    },
    {
      "cell_type": "code",
      "metadata": {
        "colab": {
          "base_uri": "https://localhost:8080/"
        },
        "id": "engaging-virgin",
        "outputId": "a2791f3b-91fd-4166-cae6-8cdb13e3e567"
      },
      "source": [
        "# Sort your duplicated rides name it duplicated_rides dataframe\n",
        "duplicated_rides = ride_sharing[duplicates].sort_values(by='bike_id')\n",
        "duplicated_rides.shape"
      ],
      "id": "engaging-virgin",
      "execution_count": null,
      "outputs": [
        {
          "output_type": "execute_result",
          "data": {
            "text/plain": [
              "(25717, 13)"
            ]
          },
          "metadata": {
            "tags": []
          },
          "execution_count": 26
        }
      ]
    },
    {
      "cell_type": "code",
      "metadata": {
        "colab": {
          "base_uri": "https://localhost:8080/"
        },
        "id": "lonely-mistress",
        "outputId": "e262d09c-57d1-4332-9a37-d16963bc7ddf"
      },
      "source": [
        "# Print relevant columns of duplicated_rides\n",
        "print(duplicated_rides[['bike_id','duration','user_birth_year']])"
      ],
      "id": "lonely-mistress",
      "execution_count": null,
      "outputs": [
        {
          "output_type": "stream",
          "text": [
            "       bike_id  duration  user_birth_year\n",
            "3638        11        12             1988\n",
            "6088        11         5             1985\n",
            "10857       11         4             1987\n",
            "10045       27        13             1989\n",
            "16104       27        10             1970\n",
            "...        ...       ...              ...\n",
            "8812      6638        10             1986\n",
            "6815      6638         5             1995\n",
            "8456      6638         7             1983\n",
            "8300      6638         6             1962\n",
            "8380      6638         8             1984\n",
            "\n",
            "[25717 rows x 3 columns]\n"
          ],
          "name": "stdout"
        }
      ]
    },
    {
      "cell_type": "markdown",
      "metadata": {
        "id": "athletic-calibration"
      },
      "source": [
        "### Treating duplicates (Incomplete duplicates)\n",
        "In the last exercise, you were able to verify that the new update feeding into ride_sharing contains a bug generating both complete and incomplete duplicated rows for some values of the ride_id column, with occasional discrepant values for the user_birth_year and duration columns.\n",
        "\n",
        "In this exercise, you will be treating those duplicated rows by first dropping complete duplicates, and then merging the incomplete duplicate rows into one while keeping the average duration, and the minimum user_birth_year for each set of incomplete duplicate rows."
      ],
      "id": "athletic-calibration"
    },
    {
      "cell_type": "code",
      "metadata": {
        "id": "embedded-horse"
      },
      "source": [
        "# Drop complete duplicates from ride_sharing\n",
        "ride_dup = ride_sharing.drop_duplicates()\n"
      ],
      "id": "embedded-horse",
      "execution_count": null,
      "outputs": []
    },
    {
      "cell_type": "code",
      "metadata": {
        "id": "spatial-oracle"
      },
      "source": [
        "# Create statistics dictionary for aggregation function\n",
        "statistics = {'user_birth_year': 'min', 'duration': 'mean'}\n"
      ],
      "id": "spatial-oracle",
      "execution_count": null,
      "outputs": []
    },
    {
      "cell_type": "code",
      "metadata": {
        "id": "lesbian-overhead"
      },
      "source": [
        "# Group by bike_id and compute new statistics\n",
        "ride_unique = ride_dup.groupby(by=['bike_id']).agg(statistics).reset_index()\n"
      ],
      "id": "lesbian-overhead",
      "execution_count": null,
      "outputs": []
    },
    {
      "cell_type": "code",
      "metadata": {
        "id": "prescription-guard"
      },
      "source": [
        "# Find duplicated values again\n",
        "duplicates = ride_unique.duplicated(subset = 'bike_id', keep = False)\n",
        "duplicated_rides = ride_unique[duplicates == True]\n"
      ],
      "id": "prescription-guard",
      "execution_count": null,
      "outputs": []
    },
    {
      "cell_type": "code",
      "metadata": {
        "id": "different-telling"
      },
      "source": [
        "# Assert duplicates are processed\n",
        "assert duplicated_rides.shape[0] == 0"
      ],
      "id": "different-telling",
      "execution_count": null,
      "outputs": []
    },
    {
      "cell_type": "markdown",
      "metadata": {
        "id": "conceptual-country"
      },
      "source": [
        "# Section 2"
      ],
      "id": "conceptual-country"
    },
    {
      "cell_type": "markdown",
      "metadata": {
        "id": "logical-planner"
      },
      "source": [
        "### Finding consistency\n",
        "In this exercise and throughout this chapter, you'll be working with the airlines DataFrame which contains survey responses on the San Francisco Airport from airline customers.\n",
        "\n",
        "The DataFrame contains flight metadata such as the airline, the destination, waiting times as well as answers to key questions regarding cleanliness, safety, and satisfaction. Another DataFrame named categories was created, containing all correct possible values for the survey columns.\n",
        "\n",
        "In this exercise, you will use both of these DataFrames to find survey answers with inconsistent values, and drop them, effectively performing an outer and inner join on both these DataFrames as seen in the video exercise. The pandas package has been imported as pd, and the airlines and categories DataFrames are in your environment."
      ],
      "id": "logical-planner"
    },
    {
      "cell_type": "code",
      "metadata": {
        "id": "foster-washer"
      },
      "source": [
        "airlines = pd.read_csv(path+'/airlines_final.csv') \n",
        "airlines.reset_index(drop=True )\n",
        "airlines.drop(['Unnamed: 0'], inplace=True, axis=1)"
      ],
      "id": "foster-washer",
      "execution_count": null,
      "outputs": []
    },
    {
      "cell_type": "code",
      "metadata": {
        "colab": {
          "base_uri": "https://localhost:8080/",
          "height": 204
        },
        "id": "significant-superior",
        "outputId": "6137935c-4da7-4361-f4f7-9261e97cecf0"
      },
      "source": [
        "airlines.head()"
      ],
      "id": "significant-superior",
      "execution_count": null,
      "outputs": [
        {
          "output_type": "execute_result",
          "data": {
            "text/html": [
              "<div>\n",
              "<style scoped>\n",
              "    .dataframe tbody tr th:only-of-type {\n",
              "        vertical-align: middle;\n",
              "    }\n",
              "\n",
              "    .dataframe tbody tr th {\n",
              "        vertical-align: top;\n",
              "    }\n",
              "\n",
              "    .dataframe thead th {\n",
              "        text-align: right;\n",
              "    }\n",
              "</style>\n",
              "<table border=\"1\" class=\"dataframe\">\n",
              "  <thead>\n",
              "    <tr style=\"text-align: right;\">\n",
              "      <th></th>\n",
              "      <th>id</th>\n",
              "      <th>day</th>\n",
              "      <th>airline</th>\n",
              "      <th>destination</th>\n",
              "      <th>dest_region</th>\n",
              "      <th>dest_size</th>\n",
              "      <th>boarding_area</th>\n",
              "      <th>dept_time</th>\n",
              "      <th>wait_min</th>\n",
              "      <th>cleanliness</th>\n",
              "      <th>safety</th>\n",
              "      <th>satisfaction</th>\n",
              "    </tr>\n",
              "  </thead>\n",
              "  <tbody>\n",
              "    <tr>\n",
              "      <th>0</th>\n",
              "      <td>1351</td>\n",
              "      <td>Tuesday</td>\n",
              "      <td>UNITED INTL</td>\n",
              "      <td>KANSAI</td>\n",
              "      <td>Asia</td>\n",
              "      <td>Hub</td>\n",
              "      <td>Gates 91-102</td>\n",
              "      <td>2018-12-31</td>\n",
              "      <td>115.0</td>\n",
              "      <td>Clean</td>\n",
              "      <td>Neutral</td>\n",
              "      <td>Very satisfied</td>\n",
              "    </tr>\n",
              "    <tr>\n",
              "      <th>1</th>\n",
              "      <td>373</td>\n",
              "      <td>Friday</td>\n",
              "      <td>ALASKA</td>\n",
              "      <td>SAN JOSE DEL CABO</td>\n",
              "      <td>Canada/Mexico</td>\n",
              "      <td>Small</td>\n",
              "      <td>Gates 50-59</td>\n",
              "      <td>2018-12-31</td>\n",
              "      <td>135.0</td>\n",
              "      <td>Clean</td>\n",
              "      <td>Very safe</td>\n",
              "      <td>Very satisfied</td>\n",
              "    </tr>\n",
              "    <tr>\n",
              "      <th>2</th>\n",
              "      <td>2820</td>\n",
              "      <td>Thursday</td>\n",
              "      <td>DELTA</td>\n",
              "      <td>LOS ANGELES</td>\n",
              "      <td>West US</td>\n",
              "      <td>Hub</td>\n",
              "      <td>Gates 40-48</td>\n",
              "      <td>2018-12-31</td>\n",
              "      <td>70.0</td>\n",
              "      <td>Average</td>\n",
              "      <td>Somewhat safe</td>\n",
              "      <td>Neutral</td>\n",
              "    </tr>\n",
              "    <tr>\n",
              "      <th>3</th>\n",
              "      <td>1157</td>\n",
              "      <td>Tuesday</td>\n",
              "      <td>SOUTHWEST</td>\n",
              "      <td>LOS ANGELES</td>\n",
              "      <td>West US</td>\n",
              "      <td>Hub</td>\n",
              "      <td>Gates 20-39</td>\n",
              "      <td>2018-12-31</td>\n",
              "      <td>190.0</td>\n",
              "      <td>Clean</td>\n",
              "      <td>Very safe</td>\n",
              "      <td>Somewhat satsified</td>\n",
              "    </tr>\n",
              "    <tr>\n",
              "      <th>4</th>\n",
              "      <td>2992</td>\n",
              "      <td>Wednesday</td>\n",
              "      <td>AMERICAN</td>\n",
              "      <td>MIAMI</td>\n",
              "      <td>East US</td>\n",
              "      <td>Hub</td>\n",
              "      <td>Gates 50-59</td>\n",
              "      <td>2018-12-31</td>\n",
              "      <td>559.0</td>\n",
              "      <td>Somewhat clean</td>\n",
              "      <td>Very safe</td>\n",
              "      <td>Somewhat satsified</td>\n",
              "    </tr>\n",
              "  </tbody>\n",
              "</table>\n",
              "</div>"
            ],
            "text/plain": [
              "     id        day  ...         safety        satisfaction\n",
              "0  1351    Tuesday  ...        Neutral      Very satisfied\n",
              "1   373     Friday  ...      Very safe      Very satisfied\n",
              "2  2820   Thursday  ...  Somewhat safe             Neutral\n",
              "3  1157    Tuesday  ...      Very safe  Somewhat satsified\n",
              "4  2992  Wednesday  ...      Very safe  Somewhat satsified\n",
              "\n",
              "[5 rows x 12 columns]"
            ]
          },
          "metadata": {
            "tags": []
          },
          "execution_count": 36
        }
      ]
    },
    {
      "cell_type": "code",
      "metadata": {
        "id": "previous-ceiling"
      },
      "source": [
        "airlines['cleanliness'][2] = 'Unacceptable'\n",
        "airlines['cleanliness'][12] ='Unacceptable'"
      ],
      "id": "previous-ceiling",
      "execution_count": null,
      "outputs": []
    },
    {
      "cell_type": "code",
      "metadata": {
        "colab": {
          "base_uri": "https://localhost:8080/"
        },
        "id": "actual-reading",
        "outputId": "4c698a3b-a49b-4b43-88bd-ae3c58ef62d9"
      },
      "source": [
        "airlines['satisfaction'].unique()"
      ],
      "id": "actual-reading",
      "execution_count": null,
      "outputs": [
        {
          "output_type": "execute_result",
          "data": {
            "text/plain": [
              "array(['Very satisfied', 'Neutral', 'Somewhat satsified',\n",
              "       'Somewhat unsatisfied', 'Very unsatisfied'], dtype=object)"
            ]
          },
          "metadata": {
            "tags": []
          },
          "execution_count": 38
        }
      ]
    },
    {
      "cell_type": "code",
      "metadata": {
        "colab": {
          "base_uri": "https://localhost:8080/"
        },
        "id": "electronic-cruise",
        "outputId": "e7acebdc-1fcc-4d22-f747-3ba4d397b289"
      },
      "source": [
        "airlines['cleanliness'].unique()"
      ],
      "id": "electronic-cruise",
      "execution_count": null,
      "outputs": [
        {
          "output_type": "execute_result",
          "data": {
            "text/plain": [
              "array(['Clean', 'Unacceptable', 'Somewhat clean', 'Average',\n",
              "       'Somewhat dirty', 'Dirty'], dtype=object)"
            ]
          },
          "metadata": {
            "tags": []
          },
          "execution_count": 39
        }
      ]
    },
    {
      "cell_type": "code",
      "metadata": {
        "colab": {
          "base_uri": "https://localhost:8080/"
        },
        "id": "enormous-tactics",
        "outputId": "ae78c408-a70f-4e12-870e-3e8fb4ec2663"
      },
      "source": [
        "airlines['safety'].unique()"
      ],
      "id": "enormous-tactics",
      "execution_count": null,
      "outputs": [
        {
          "output_type": "execute_result",
          "data": {
            "text/plain": [
              "array(['Neutral', 'Very safe', 'Somewhat safe', 'Very unsafe',\n",
              "       'Somewhat unsafe'], dtype=object)"
            ]
          },
          "metadata": {
            "tags": []
          },
          "execution_count": 40
        }
      ]
    },
    {
      "cell_type": "code",
      "metadata": {
        "colab": {
          "base_uri": "https://localhost:8080/"
        },
        "id": "drawn-george",
        "outputId": "5ce6599b-ccce-422c-8400-855d567bd58d"
      },
      "source": [
        "# Print unique values of survey columns in airlines\n",
        "print('Cleanliness: ', airlines['cleanliness'].unique(), \"\\n\")\n",
        "print('Safety: ', airlines['safety'].unique(), \"\\n\")\n",
        "print('Satisfaction: ', airlines['satisfaction'].unique(), \"\\n\")"
      ],
      "id": "drawn-george",
      "execution_count": null,
      "outputs": [
        {
          "output_type": "stream",
          "text": [
            "Cleanliness:  ['Clean' 'Unacceptable' 'Somewhat clean' 'Average' 'Somewhat dirty'\n",
            " 'Dirty'] \n",
            "\n",
            "Safety:  ['Neutral' 'Very safe' 'Somewhat safe' 'Very unsafe' 'Somewhat unsafe'] \n",
            "\n",
            "Satisfaction:  ['Very satisfied' 'Neutral' 'Somewhat satsified' 'Somewhat unsatisfied'\n",
            " 'Very unsatisfied'] \n",
            "\n"
          ],
          "name": "stdout"
        }
      ]
    },
    {
      "cell_type": "markdown",
      "metadata": {
        "id": "liberal-gallery"
      },
      "source": [
        "### The reference dataframe"
      ],
      "id": "liberal-gallery"
    },
    {
      "cell_type": "code",
      "metadata": {
        "colab": {
          "base_uri": "https://localhost:8080/",
          "height": 204
        },
        "id": "younger-branch",
        "outputId": "d52b9062-b739-4e6d-ebb4-8cd157132c32"
      },
      "source": [
        "cat_dic = {'cleanliness': ['Clean','Average','Somewhat clean','Somewhat dirty', 'Dirty'],\n",
        "          'safety': ['Neutral','Very safe','Somewhat safe','Very unsafe','Somewhat unsafe'],\n",
        "          'satisfaction': ['Very satisfied', 'Neutral', 'Somewhat satisfied','Somewhat unsatisfied','Very unsatisfied']}\n",
        "categories = pd.DataFrame(cat_dic)\n",
        "categories"
      ],
      "id": "younger-branch",
      "execution_count": null,
      "outputs": [
        {
          "output_type": "execute_result",
          "data": {
            "text/html": [
              "<div>\n",
              "<style scoped>\n",
              "    .dataframe tbody tr th:only-of-type {\n",
              "        vertical-align: middle;\n",
              "    }\n",
              "\n",
              "    .dataframe tbody tr th {\n",
              "        vertical-align: top;\n",
              "    }\n",
              "\n",
              "    .dataframe thead th {\n",
              "        text-align: right;\n",
              "    }\n",
              "</style>\n",
              "<table border=\"1\" class=\"dataframe\">\n",
              "  <thead>\n",
              "    <tr style=\"text-align: right;\">\n",
              "      <th></th>\n",
              "      <th>cleanliness</th>\n",
              "      <th>safety</th>\n",
              "      <th>satisfaction</th>\n",
              "    </tr>\n",
              "  </thead>\n",
              "  <tbody>\n",
              "    <tr>\n",
              "      <th>0</th>\n",
              "      <td>Clean</td>\n",
              "      <td>Neutral</td>\n",
              "      <td>Very satisfied</td>\n",
              "    </tr>\n",
              "    <tr>\n",
              "      <th>1</th>\n",
              "      <td>Average</td>\n",
              "      <td>Very safe</td>\n",
              "      <td>Neutral</td>\n",
              "    </tr>\n",
              "    <tr>\n",
              "      <th>2</th>\n",
              "      <td>Somewhat clean</td>\n",
              "      <td>Somewhat safe</td>\n",
              "      <td>Somewhat satisfied</td>\n",
              "    </tr>\n",
              "    <tr>\n",
              "      <th>3</th>\n",
              "      <td>Somewhat dirty</td>\n",
              "      <td>Very unsafe</td>\n",
              "      <td>Somewhat unsatisfied</td>\n",
              "    </tr>\n",
              "    <tr>\n",
              "      <th>4</th>\n",
              "      <td>Dirty</td>\n",
              "      <td>Somewhat unsafe</td>\n",
              "      <td>Very unsatisfied</td>\n",
              "    </tr>\n",
              "  </tbody>\n",
              "</table>\n",
              "</div>"
            ],
            "text/plain": [
              "      cleanliness           safety          satisfaction\n",
              "0           Clean          Neutral        Very satisfied\n",
              "1         Average        Very safe               Neutral\n",
              "2  Somewhat clean    Somewhat safe    Somewhat satisfied\n",
              "3  Somewhat dirty      Very unsafe  Somewhat unsatisfied\n",
              "4           Dirty  Somewhat unsafe      Very unsatisfied"
            ]
          },
          "metadata": {
            "tags": []
          },
          "execution_count": 42
        }
      ]
    },
    {
      "cell_type": "code",
      "metadata": {
        "colab": {
          "base_uri": "https://localhost:8080/"
        },
        "id": "positive-colonial",
        "outputId": "846546ce-39a4-45e3-b932-624693cc757d"
      },
      "source": [
        "# Find the cleanliness category in airlines not in categories\n",
        "cat_clean = set(airlines.cleanliness).difference(categories['cleanliness'])\n",
        "cat_clean"
      ],
      "id": "positive-colonial",
      "execution_count": null,
      "outputs": [
        {
          "output_type": "execute_result",
          "data": {
            "text/plain": [
              "{'Unacceptable'}"
            ]
          },
          "metadata": {
            "tags": []
          },
          "execution_count": 43
        }
      ]
    },
    {
      "cell_type": "code",
      "metadata": {
        "colab": {
          "base_uri": "https://localhost:8080/"
        },
        "id": "rotary-diploma",
        "outputId": "df15cb23-9f13-4762-b065-5a84517662eb"
      },
      "source": [
        "# Find rows with that category\n",
        "cat_clean_rows = airlines['cleanliness'].isin(cat_clean)\n",
        "cat_clean_rows\n",
        "# return a series"
      ],
      "id": "rotary-diploma",
      "execution_count": null,
      "outputs": [
        {
          "output_type": "execute_result",
          "data": {
            "text/plain": [
              "0       False\n",
              "1       False\n",
              "2        True\n",
              "3       False\n",
              "4       False\n",
              "        ...  \n",
              "2472    False\n",
              "2473    False\n",
              "2474    False\n",
              "2475    False\n",
              "2476    False\n",
              "Name: cleanliness, Length: 2477, dtype: bool"
            ]
          },
          "metadata": {
            "tags": []
          },
          "execution_count": 44
        }
      ]
    },
    {
      "cell_type": "code",
      "metadata": {
        "colab": {
          "base_uri": "https://localhost:8080/",
          "height": 111
        },
        "id": "disciplinary-stick",
        "outputId": "5bb32823-88ba-4f99-fde8-c6212b642914"
      },
      "source": [
        "# Print rows with inconsistent category\n",
        "airlines[cat_clean_rows]"
      ],
      "id": "disciplinary-stick",
      "execution_count": null,
      "outputs": [
        {
          "output_type": "execute_result",
          "data": {
            "text/html": [
              "<div>\n",
              "<style scoped>\n",
              "    .dataframe tbody tr th:only-of-type {\n",
              "        vertical-align: middle;\n",
              "    }\n",
              "\n",
              "    .dataframe tbody tr th {\n",
              "        vertical-align: top;\n",
              "    }\n",
              "\n",
              "    .dataframe thead th {\n",
              "        text-align: right;\n",
              "    }\n",
              "</style>\n",
              "<table border=\"1\" class=\"dataframe\">\n",
              "  <thead>\n",
              "    <tr style=\"text-align: right;\">\n",
              "      <th></th>\n",
              "      <th>id</th>\n",
              "      <th>day</th>\n",
              "      <th>airline</th>\n",
              "      <th>destination</th>\n",
              "      <th>dest_region</th>\n",
              "      <th>dest_size</th>\n",
              "      <th>boarding_area</th>\n",
              "      <th>dept_time</th>\n",
              "      <th>wait_min</th>\n",
              "      <th>cleanliness</th>\n",
              "      <th>safety</th>\n",
              "      <th>satisfaction</th>\n",
              "    </tr>\n",
              "  </thead>\n",
              "  <tbody>\n",
              "    <tr>\n",
              "      <th>2</th>\n",
              "      <td>2820</td>\n",
              "      <td>Thursday</td>\n",
              "      <td>DELTA</td>\n",
              "      <td>LOS ANGELES</td>\n",
              "      <td>West US</td>\n",
              "      <td>Hub</td>\n",
              "      <td>Gates 40-48</td>\n",
              "      <td>2018-12-31</td>\n",
              "      <td>70.0</td>\n",
              "      <td>Unacceptable</td>\n",
              "      <td>Somewhat safe</td>\n",
              "      <td>Neutral</td>\n",
              "    </tr>\n",
              "    <tr>\n",
              "      <th>12</th>\n",
              "      <td>3104</td>\n",
              "      <td>Tuesday</td>\n",
              "      <td>UNITED</td>\n",
              "      <td>SPOKANE</td>\n",
              "      <td>West US</td>\n",
              "      <td>Small</td>\n",
              "      <td>Gates 70-90</td>\n",
              "      <td>2018-12-31</td>\n",
              "      <td>107.0</td>\n",
              "      <td>Unacceptable</td>\n",
              "      <td>Very safe</td>\n",
              "      <td>Somewhat satsified</td>\n",
              "    </tr>\n",
              "  </tbody>\n",
              "</table>\n",
              "</div>"
            ],
            "text/plain": [
              "      id       day airline  ...   cleanliness         safety        satisfaction\n",
              "2   2820  Thursday   DELTA  ...  Unacceptable  Somewhat safe             Neutral\n",
              "12  3104   Tuesday  UNITED  ...  Unacceptable      Very safe  Somewhat satsified\n",
              "\n",
              "[2 rows x 12 columns]"
            ]
          },
          "metadata": {
            "tags": []
          },
          "execution_count": 45
        }
      ]
    },
    {
      "cell_type": "code",
      "metadata": {
        "colab": {
          "base_uri": "https://localhost:8080/",
          "height": 419
        },
        "id": "union-sacrifice",
        "outputId": "dc9fccf7-06b0-485c-e06d-7ceb8e159b67"
      },
      "source": [
        "# Print rows with consistent categories only\n",
        "airlines[~cat_clean_rows]\n"
      ],
      "id": "union-sacrifice",
      "execution_count": null,
      "outputs": [
        {
          "output_type": "execute_result",
          "data": {
            "text/html": [
              "<div>\n",
              "<style scoped>\n",
              "    .dataframe tbody tr th:only-of-type {\n",
              "        vertical-align: middle;\n",
              "    }\n",
              "\n",
              "    .dataframe tbody tr th {\n",
              "        vertical-align: top;\n",
              "    }\n",
              "\n",
              "    .dataframe thead th {\n",
              "        text-align: right;\n",
              "    }\n",
              "</style>\n",
              "<table border=\"1\" class=\"dataframe\">\n",
              "  <thead>\n",
              "    <tr style=\"text-align: right;\">\n",
              "      <th></th>\n",
              "      <th>id</th>\n",
              "      <th>day</th>\n",
              "      <th>airline</th>\n",
              "      <th>destination</th>\n",
              "      <th>dest_region</th>\n",
              "      <th>dest_size</th>\n",
              "      <th>boarding_area</th>\n",
              "      <th>dept_time</th>\n",
              "      <th>wait_min</th>\n",
              "      <th>cleanliness</th>\n",
              "      <th>safety</th>\n",
              "      <th>satisfaction</th>\n",
              "    </tr>\n",
              "  </thead>\n",
              "  <tbody>\n",
              "    <tr>\n",
              "      <th>0</th>\n",
              "      <td>1351</td>\n",
              "      <td>Tuesday</td>\n",
              "      <td>UNITED INTL</td>\n",
              "      <td>KANSAI</td>\n",
              "      <td>Asia</td>\n",
              "      <td>Hub</td>\n",
              "      <td>Gates 91-102</td>\n",
              "      <td>2018-12-31</td>\n",
              "      <td>115.0</td>\n",
              "      <td>Clean</td>\n",
              "      <td>Neutral</td>\n",
              "      <td>Very satisfied</td>\n",
              "    </tr>\n",
              "    <tr>\n",
              "      <th>1</th>\n",
              "      <td>373</td>\n",
              "      <td>Friday</td>\n",
              "      <td>ALASKA</td>\n",
              "      <td>SAN JOSE DEL CABO</td>\n",
              "      <td>Canada/Mexico</td>\n",
              "      <td>Small</td>\n",
              "      <td>Gates 50-59</td>\n",
              "      <td>2018-12-31</td>\n",
              "      <td>135.0</td>\n",
              "      <td>Clean</td>\n",
              "      <td>Very safe</td>\n",
              "      <td>Very satisfied</td>\n",
              "    </tr>\n",
              "    <tr>\n",
              "      <th>3</th>\n",
              "      <td>1157</td>\n",
              "      <td>Tuesday</td>\n",
              "      <td>SOUTHWEST</td>\n",
              "      <td>LOS ANGELES</td>\n",
              "      <td>West US</td>\n",
              "      <td>Hub</td>\n",
              "      <td>Gates 20-39</td>\n",
              "      <td>2018-12-31</td>\n",
              "      <td>190.0</td>\n",
              "      <td>Clean</td>\n",
              "      <td>Very safe</td>\n",
              "      <td>Somewhat satsified</td>\n",
              "    </tr>\n",
              "    <tr>\n",
              "      <th>4</th>\n",
              "      <td>2992</td>\n",
              "      <td>Wednesday</td>\n",
              "      <td>AMERICAN</td>\n",
              "      <td>MIAMI</td>\n",
              "      <td>East US</td>\n",
              "      <td>Hub</td>\n",
              "      <td>Gates 50-59</td>\n",
              "      <td>2018-12-31</td>\n",
              "      <td>559.0</td>\n",
              "      <td>Somewhat clean</td>\n",
              "      <td>Very safe</td>\n",
              "      <td>Somewhat satsified</td>\n",
              "    </tr>\n",
              "    <tr>\n",
              "      <th>5</th>\n",
              "      <td>634</td>\n",
              "      <td>Thursday</td>\n",
              "      <td>ALASKA</td>\n",
              "      <td>NEWARK</td>\n",
              "      <td>East US</td>\n",
              "      <td>Hub</td>\n",
              "      <td>Gates 50-59</td>\n",
              "      <td>2018-12-31</td>\n",
              "      <td>140.0</td>\n",
              "      <td>Somewhat clean</td>\n",
              "      <td>Very safe</td>\n",
              "      <td>Very satisfied</td>\n",
              "    </tr>\n",
              "    <tr>\n",
              "      <th>...</th>\n",
              "      <td>...</td>\n",
              "      <td>...</td>\n",
              "      <td>...</td>\n",
              "      <td>...</td>\n",
              "      <td>...</td>\n",
              "      <td>...</td>\n",
              "      <td>...</td>\n",
              "      <td>...</td>\n",
              "      <td>...</td>\n",
              "      <td>...</td>\n",
              "      <td>...</td>\n",
              "      <td>...</td>\n",
              "    </tr>\n",
              "    <tr>\n",
              "      <th>2472</th>\n",
              "      <td>1475</td>\n",
              "      <td>Tuesday</td>\n",
              "      <td>ALASKA</td>\n",
              "      <td>NEW YORK-JFK</td>\n",
              "      <td>East US</td>\n",
              "      <td>Hub</td>\n",
              "      <td>Gates 50-59</td>\n",
              "      <td>2018-12-31</td>\n",
              "      <td>280.0</td>\n",
              "      <td>Somewhat clean</td>\n",
              "      <td>Neutral</td>\n",
              "      <td>Somewhat satsified</td>\n",
              "    </tr>\n",
              "    <tr>\n",
              "      <th>2473</th>\n",
              "      <td>2222</td>\n",
              "      <td>Thursday</td>\n",
              "      <td>SOUTHWEST</td>\n",
              "      <td>PHOENIX</td>\n",
              "      <td>West US</td>\n",
              "      <td>Hub</td>\n",
              "      <td>Gates 20-39</td>\n",
              "      <td>2018-12-31</td>\n",
              "      <td>165.0</td>\n",
              "      <td>Clean</td>\n",
              "      <td>Very safe</td>\n",
              "      <td>Very satisfied</td>\n",
              "    </tr>\n",
              "    <tr>\n",
              "      <th>2474</th>\n",
              "      <td>2684</td>\n",
              "      <td>Friday</td>\n",
              "      <td>UNITED</td>\n",
              "      <td>ORLANDO</td>\n",
              "      <td>East US</td>\n",
              "      <td>Hub</td>\n",
              "      <td>Gates 70-90</td>\n",
              "      <td>2018-12-31</td>\n",
              "      <td>92.0</td>\n",
              "      <td>Clean</td>\n",
              "      <td>Very safe</td>\n",
              "      <td>Very satisfied</td>\n",
              "    </tr>\n",
              "    <tr>\n",
              "      <th>2475</th>\n",
              "      <td>2549</td>\n",
              "      <td>Tuesday</td>\n",
              "      <td>JETBLUE</td>\n",
              "      <td>LONG BEACH</td>\n",
              "      <td>West US</td>\n",
              "      <td>Small</td>\n",
              "      <td>Gates 1-12</td>\n",
              "      <td>2018-12-31</td>\n",
              "      <td>95.0</td>\n",
              "      <td>Clean</td>\n",
              "      <td>Somewhat safe</td>\n",
              "      <td>Very satisfied</td>\n",
              "    </tr>\n",
              "    <tr>\n",
              "      <th>2476</th>\n",
              "      <td>2162</td>\n",
              "      <td>Saturday</td>\n",
              "      <td>CHINA EASTERN</td>\n",
              "      <td>QINGDAO</td>\n",
              "      <td>Asia</td>\n",
              "      <td>Large</td>\n",
              "      <td>Gates 1-12</td>\n",
              "      <td>2018-12-31</td>\n",
              "      <td>220.0</td>\n",
              "      <td>Clean</td>\n",
              "      <td>Very safe</td>\n",
              "      <td>Somewhat satsified</td>\n",
              "    </tr>\n",
              "  </tbody>\n",
              "</table>\n",
              "<p>2475 rows × 12 columns</p>\n",
              "</div>"
            ],
            "text/plain": [
              "        id        day  ...         safety        satisfaction\n",
              "0     1351    Tuesday  ...        Neutral      Very satisfied\n",
              "1      373     Friday  ...      Very safe      Very satisfied\n",
              "3     1157    Tuesday  ...      Very safe  Somewhat satsified\n",
              "4     2992  Wednesday  ...      Very safe  Somewhat satsified\n",
              "5      634   Thursday  ...      Very safe      Very satisfied\n",
              "...    ...        ...  ...            ...                 ...\n",
              "2472  1475    Tuesday  ...        Neutral  Somewhat satsified\n",
              "2473  2222   Thursday  ...      Very safe      Very satisfied\n",
              "2474  2684     Friday  ...      Very safe      Very satisfied\n",
              "2475  2549    Tuesday  ...  Somewhat safe      Very satisfied\n",
              "2476  2162   Saturday  ...      Very safe  Somewhat satsified\n",
              "\n",
              "[2475 rows x 12 columns]"
            ]
          },
          "metadata": {
            "tags": []
          },
          "execution_count": 46
        }
      ]
    },
    {
      "cell_type": "markdown",
      "metadata": {
        "id": "automated-property"
      },
      "source": [
        "### Inconsistent categories\n",
        "In this exercise, you'll be revisiting the airlines DataFrame from the previous lesson.\n",
        "\n",
        "As a reminder, the DataFrame contains flight metadata such as the airline, the destination, waiting times as well as answers to key questions regarding cleanliness, safety, and satisfaction on the San Francisco Airport.\n",
        "\n",
        "In this exercise, you will examine two categorical columns from this DataFrame, dest_region and dest_size respectively, assess how to address them and make sure that they are cleaned and ready for analysis. The pandas package has been imported as pd, and the airlines DataFrame is in your environment."
      ],
      "id": "automated-property"
    },
    {
      "cell_type": "code",
      "metadata": {
        "colab": {
          "base_uri": "https://localhost:8080/"
        },
        "id": "white-stage",
        "outputId": "917e7fdd-a001-497e-b551-213c1dfba31c"
      },
      "source": [
        "# Print unique values of both columns\n",
        "print(airlines['dest_region'].unique())\n",
        "print(airlines['dest_size'].unique())\n"
      ],
      "id": "white-stage",
      "execution_count": null,
      "outputs": [
        {
          "output_type": "stream",
          "text": [
            "['Asia' 'Canada/Mexico' 'West US' 'East US' 'Midwest US' 'EAST US'\n",
            " 'Middle East' 'Europe' 'eur' 'Central/South America'\n",
            " 'Australia/New Zealand' 'middle east']\n",
            "['Hub' 'Small' '    Hub' 'Medium' 'Large' 'Hub     ' '    Small'\n",
            " 'Medium     ' '    Medium' 'Small     ' '    Large' 'Large     ']\n"
          ],
          "name": "stdout"
        }
      ]
    },
    {
      "cell_type": "code",
      "metadata": {
        "id": "matched-school"
      },
      "source": [
        "# Lower dest_region column and then replace \"eur\" with \"europe\"\n",
        "airlines['dest_region'] = airlines['dest_region'].str.lower()\n",
        "airlines['dest_region'] = airlines['dest_region'].replace({'eur':'europe'})"
      ],
      "id": "matched-school",
      "execution_count": null,
      "outputs": []
    },
    {
      "cell_type": "code",
      "metadata": {
        "colab": {
          "base_uri": "https://localhost:8080/"
        },
        "id": "played-organic",
        "outputId": "07e2b468-73cf-4f8f-c919-49d0d789c94c"
      },
      "source": [
        "airlines['dest_region'].unique()"
      ],
      "id": "played-organic",
      "execution_count": null,
      "outputs": [
        {
          "output_type": "execute_result",
          "data": {
            "text/plain": [
              "array(['asia', 'canada/mexico', 'west us', 'east us', 'midwest us',\n",
              "       'middle east', 'europe', 'central/south america',\n",
              "       'australia/new zealand'], dtype=object)"
            ]
          },
          "metadata": {
            "tags": []
          },
          "execution_count": 49
        }
      ]
    },
    {
      "cell_type": "code",
      "metadata": {
        "id": "important-words"
      },
      "source": [
        "# Remove white spaces from `dest_size`\n",
        "airlines['dest_size'] = airlines['dest_size'].str.strip()\n"
      ],
      "id": "important-words",
      "execution_count": null,
      "outputs": []
    },
    {
      "cell_type": "code",
      "metadata": {
        "colab": {
          "base_uri": "https://localhost:8080/"
        },
        "id": "welsh-romance",
        "outputId": "9391c49a-f5eb-43f1-e132-595b313aeb9d"
      },
      "source": [
        "# Verify changes have been effected\n",
        "print(airlines['dest_region'].unique())\n",
        "print(airlines['dest_size'].unique())"
      ],
      "id": "welsh-romance",
      "execution_count": null,
      "outputs": [
        {
          "output_type": "stream",
          "text": [
            "['asia' 'canada/mexico' 'west us' 'east us' 'midwest us' 'middle east'\n",
            " 'europe' 'central/south america' 'australia/new zealand']\n",
            "['Hub' 'Small' 'Medium' 'Large']\n"
          ],
          "name": "stdout"
        }
      ]
    },
    {
      "cell_type": "markdown",
      "metadata": {
        "id": "liquid-animal"
      },
      "source": [
        "### Remapping categories\n",
        "To better understand survey respondents from airlines, you want to find out if there is a relationship between certain responses and the day of the week and wait time at the gate.\n",
        "\n",
        "The airlines DataFrame contains the day and wait_min columns, which are categorical and numerical respectively. The day column contains the exact day a flight took place, and wait_min contains the amount of minutes it took travelers to wait at the gate. To make your analysis easier, you want to create two new categorical variables:\n",
        "\n",
        "wait_type: 'short' for 0-60 min, 'medium' for 60-180 and long for 180+\n",
        "day_week: 'weekday' if day is in the weekday, 'weekend' if day is in the weekend.\n",
        "The pandas and numpy packages have been imported as pd and np. Let's create some new categorical data!"
      ],
      "id": "liquid-animal"
    },
    {
      "cell_type": "code",
      "metadata": {
        "id": "involved-slave"
      },
      "source": [
        "# Create ranges for categories\n",
        "label_ranges = [0, 60, 180, np.inf]\n",
        "label_names = ['short', 'medium', 'long']\n"
      ],
      "id": "involved-slave",
      "execution_count": null,
      "outputs": []
    },
    {
      "cell_type": "code",
      "metadata": {
        "colab": {
          "base_uri": "https://localhost:8080/",
          "height": 204
        },
        "id": "broken-traveler",
        "outputId": "44741401-155b-4bef-de84-2a176280a5c2"
      },
      "source": [
        "# Create wait_type column\n",
        "airlines['wait_type'] = pd.cut(airlines['wait_min'], bins = label_ranges, \n",
        "                                labels = label_names)\n",
        "airlines.head()"
      ],
      "id": "broken-traveler",
      "execution_count": null,
      "outputs": [
        {
          "output_type": "execute_result",
          "data": {
            "text/html": [
              "<div>\n",
              "<style scoped>\n",
              "    .dataframe tbody tr th:only-of-type {\n",
              "        vertical-align: middle;\n",
              "    }\n",
              "\n",
              "    .dataframe tbody tr th {\n",
              "        vertical-align: top;\n",
              "    }\n",
              "\n",
              "    .dataframe thead th {\n",
              "        text-align: right;\n",
              "    }\n",
              "</style>\n",
              "<table border=\"1\" class=\"dataframe\">\n",
              "  <thead>\n",
              "    <tr style=\"text-align: right;\">\n",
              "      <th></th>\n",
              "      <th>id</th>\n",
              "      <th>day</th>\n",
              "      <th>airline</th>\n",
              "      <th>destination</th>\n",
              "      <th>dest_region</th>\n",
              "      <th>dest_size</th>\n",
              "      <th>boarding_area</th>\n",
              "      <th>dept_time</th>\n",
              "      <th>wait_min</th>\n",
              "      <th>cleanliness</th>\n",
              "      <th>safety</th>\n",
              "      <th>satisfaction</th>\n",
              "      <th>wait_type</th>\n",
              "    </tr>\n",
              "  </thead>\n",
              "  <tbody>\n",
              "    <tr>\n",
              "      <th>0</th>\n",
              "      <td>1351</td>\n",
              "      <td>Tuesday</td>\n",
              "      <td>UNITED INTL</td>\n",
              "      <td>KANSAI</td>\n",
              "      <td>asia</td>\n",
              "      <td>Hub</td>\n",
              "      <td>Gates 91-102</td>\n",
              "      <td>2018-12-31</td>\n",
              "      <td>115.0</td>\n",
              "      <td>Clean</td>\n",
              "      <td>Neutral</td>\n",
              "      <td>Very satisfied</td>\n",
              "      <td>medium</td>\n",
              "    </tr>\n",
              "    <tr>\n",
              "      <th>1</th>\n",
              "      <td>373</td>\n",
              "      <td>Friday</td>\n",
              "      <td>ALASKA</td>\n",
              "      <td>SAN JOSE DEL CABO</td>\n",
              "      <td>canada/mexico</td>\n",
              "      <td>Small</td>\n",
              "      <td>Gates 50-59</td>\n",
              "      <td>2018-12-31</td>\n",
              "      <td>135.0</td>\n",
              "      <td>Clean</td>\n",
              "      <td>Very safe</td>\n",
              "      <td>Very satisfied</td>\n",
              "      <td>medium</td>\n",
              "    </tr>\n",
              "    <tr>\n",
              "      <th>2</th>\n",
              "      <td>2820</td>\n",
              "      <td>Thursday</td>\n",
              "      <td>DELTA</td>\n",
              "      <td>LOS ANGELES</td>\n",
              "      <td>west us</td>\n",
              "      <td>Hub</td>\n",
              "      <td>Gates 40-48</td>\n",
              "      <td>2018-12-31</td>\n",
              "      <td>70.0</td>\n",
              "      <td>Unacceptable</td>\n",
              "      <td>Somewhat safe</td>\n",
              "      <td>Neutral</td>\n",
              "      <td>medium</td>\n",
              "    </tr>\n",
              "    <tr>\n",
              "      <th>3</th>\n",
              "      <td>1157</td>\n",
              "      <td>Tuesday</td>\n",
              "      <td>SOUTHWEST</td>\n",
              "      <td>LOS ANGELES</td>\n",
              "      <td>west us</td>\n",
              "      <td>Hub</td>\n",
              "      <td>Gates 20-39</td>\n",
              "      <td>2018-12-31</td>\n",
              "      <td>190.0</td>\n",
              "      <td>Clean</td>\n",
              "      <td>Very safe</td>\n",
              "      <td>Somewhat satsified</td>\n",
              "      <td>long</td>\n",
              "    </tr>\n",
              "    <tr>\n",
              "      <th>4</th>\n",
              "      <td>2992</td>\n",
              "      <td>Wednesday</td>\n",
              "      <td>AMERICAN</td>\n",
              "      <td>MIAMI</td>\n",
              "      <td>east us</td>\n",
              "      <td>Hub</td>\n",
              "      <td>Gates 50-59</td>\n",
              "      <td>2018-12-31</td>\n",
              "      <td>559.0</td>\n",
              "      <td>Somewhat clean</td>\n",
              "      <td>Very safe</td>\n",
              "      <td>Somewhat satsified</td>\n",
              "      <td>long</td>\n",
              "    </tr>\n",
              "  </tbody>\n",
              "</table>\n",
              "</div>"
            ],
            "text/plain": [
              "     id        day      airline  ...         safety        satisfaction wait_type\n",
              "0  1351    Tuesday  UNITED INTL  ...        Neutral      Very satisfied    medium\n",
              "1   373     Friday       ALASKA  ...      Very safe      Very satisfied    medium\n",
              "2  2820   Thursday        DELTA  ...  Somewhat safe             Neutral    medium\n",
              "3  1157    Tuesday    SOUTHWEST  ...      Very safe  Somewhat satsified      long\n",
              "4  2992  Wednesday     AMERICAN  ...      Very safe  Somewhat satsified      long\n",
              "\n",
              "[5 rows x 13 columns]"
            ]
          },
          "metadata": {
            "tags": []
          },
          "execution_count": 53
        }
      ]
    },
    {
      "cell_type": "code",
      "metadata": {
        "id": "amateur-clothing"
      },
      "source": [
        "# Create mappings and replace\n",
        "mappings = {'Monday':'weekday', 'Tuesday':'weekday', 'Wednesday': 'weekday', \n",
        "            'Thursday': 'weekday', 'Friday': 'weekday', \n",
        "            'Saturday': 'weekend', 'Sunday': 'weekend'}\n",
        "\n",
        "airlines['day_week'] = airlines['day'].replace(mappings)"
      ],
      "id": "amateur-clothing",
      "execution_count": null,
      "outputs": []
    },
    {
      "cell_type": "code",
      "metadata": {
        "colab": {
          "base_uri": "https://localhost:8080/",
          "height": 204
        },
        "id": "legal-premises",
        "outputId": "a85b288b-cad1-416d-dc3c-8d5ff83cdd96"
      },
      "source": [
        "airlines.head()"
      ],
      "id": "legal-premises",
      "execution_count": null,
      "outputs": [
        {
          "output_type": "execute_result",
          "data": {
            "text/html": [
              "<div>\n",
              "<style scoped>\n",
              "    .dataframe tbody tr th:only-of-type {\n",
              "        vertical-align: middle;\n",
              "    }\n",
              "\n",
              "    .dataframe tbody tr th {\n",
              "        vertical-align: top;\n",
              "    }\n",
              "\n",
              "    .dataframe thead th {\n",
              "        text-align: right;\n",
              "    }\n",
              "</style>\n",
              "<table border=\"1\" class=\"dataframe\">\n",
              "  <thead>\n",
              "    <tr style=\"text-align: right;\">\n",
              "      <th></th>\n",
              "      <th>id</th>\n",
              "      <th>day</th>\n",
              "      <th>airline</th>\n",
              "      <th>destination</th>\n",
              "      <th>dest_region</th>\n",
              "      <th>dest_size</th>\n",
              "      <th>boarding_area</th>\n",
              "      <th>dept_time</th>\n",
              "      <th>wait_min</th>\n",
              "      <th>cleanliness</th>\n",
              "      <th>safety</th>\n",
              "      <th>satisfaction</th>\n",
              "      <th>wait_type</th>\n",
              "      <th>day_week</th>\n",
              "    </tr>\n",
              "  </thead>\n",
              "  <tbody>\n",
              "    <tr>\n",
              "      <th>0</th>\n",
              "      <td>1351</td>\n",
              "      <td>Tuesday</td>\n",
              "      <td>UNITED INTL</td>\n",
              "      <td>KANSAI</td>\n",
              "      <td>asia</td>\n",
              "      <td>Hub</td>\n",
              "      <td>Gates 91-102</td>\n",
              "      <td>2018-12-31</td>\n",
              "      <td>115.0</td>\n",
              "      <td>Clean</td>\n",
              "      <td>Neutral</td>\n",
              "      <td>Very satisfied</td>\n",
              "      <td>medium</td>\n",
              "      <td>weekday</td>\n",
              "    </tr>\n",
              "    <tr>\n",
              "      <th>1</th>\n",
              "      <td>373</td>\n",
              "      <td>Friday</td>\n",
              "      <td>ALASKA</td>\n",
              "      <td>SAN JOSE DEL CABO</td>\n",
              "      <td>canada/mexico</td>\n",
              "      <td>Small</td>\n",
              "      <td>Gates 50-59</td>\n",
              "      <td>2018-12-31</td>\n",
              "      <td>135.0</td>\n",
              "      <td>Clean</td>\n",
              "      <td>Very safe</td>\n",
              "      <td>Very satisfied</td>\n",
              "      <td>medium</td>\n",
              "      <td>weekday</td>\n",
              "    </tr>\n",
              "    <tr>\n",
              "      <th>2</th>\n",
              "      <td>2820</td>\n",
              "      <td>Thursday</td>\n",
              "      <td>DELTA</td>\n",
              "      <td>LOS ANGELES</td>\n",
              "      <td>west us</td>\n",
              "      <td>Hub</td>\n",
              "      <td>Gates 40-48</td>\n",
              "      <td>2018-12-31</td>\n",
              "      <td>70.0</td>\n",
              "      <td>Unacceptable</td>\n",
              "      <td>Somewhat safe</td>\n",
              "      <td>Neutral</td>\n",
              "      <td>medium</td>\n",
              "      <td>weekday</td>\n",
              "    </tr>\n",
              "    <tr>\n",
              "      <th>3</th>\n",
              "      <td>1157</td>\n",
              "      <td>Tuesday</td>\n",
              "      <td>SOUTHWEST</td>\n",
              "      <td>LOS ANGELES</td>\n",
              "      <td>west us</td>\n",
              "      <td>Hub</td>\n",
              "      <td>Gates 20-39</td>\n",
              "      <td>2018-12-31</td>\n",
              "      <td>190.0</td>\n",
              "      <td>Clean</td>\n",
              "      <td>Very safe</td>\n",
              "      <td>Somewhat satsified</td>\n",
              "      <td>long</td>\n",
              "      <td>weekday</td>\n",
              "    </tr>\n",
              "    <tr>\n",
              "      <th>4</th>\n",
              "      <td>2992</td>\n",
              "      <td>Wednesday</td>\n",
              "      <td>AMERICAN</td>\n",
              "      <td>MIAMI</td>\n",
              "      <td>east us</td>\n",
              "      <td>Hub</td>\n",
              "      <td>Gates 50-59</td>\n",
              "      <td>2018-12-31</td>\n",
              "      <td>559.0</td>\n",
              "      <td>Somewhat clean</td>\n",
              "      <td>Very safe</td>\n",
              "      <td>Somewhat satsified</td>\n",
              "      <td>long</td>\n",
              "      <td>weekday</td>\n",
              "    </tr>\n",
              "  </tbody>\n",
              "</table>\n",
              "</div>"
            ],
            "text/plain": [
              "     id        day      airline  ...        satisfaction wait_type day_week\n",
              "0  1351    Tuesday  UNITED INTL  ...      Very satisfied    medium  weekday\n",
              "1   373     Friday       ALASKA  ...      Very satisfied    medium  weekday\n",
              "2  2820   Thursday        DELTA  ...             Neutral    medium  weekday\n",
              "3  1157    Tuesday    SOUTHWEST  ...  Somewhat satsified      long  weekday\n",
              "4  2992  Wednesday     AMERICAN  ...  Somewhat satsified      long  weekday\n",
              "\n",
              "[5 rows x 14 columns]"
            ]
          },
          "metadata": {
            "tags": []
          },
          "execution_count": 55
        }
      ]
    },
    {
      "cell_type": "markdown",
      "metadata": {
        "id": "original-density"
      },
      "source": [
        "### Removing titles and taking names\n",
        "While collecting survey respondent metadata in the airlines DataFrame, the full name of respondents was saved in the full_name column. However upon closer inspection, you found that a lot of the different names are prefixed by honorifics such as \"Dr.\", \"Mr.\", \"Ms.\" and \"Miss\".\n",
        "\n",
        "Your ultimate objective is to create two new columns named first_name and last_name, containing the first and last names of respondents respectively. Before doing so however, you need to remove honorifics.\n",
        "\n",
        "The airlines DataFrame is in your environment, alongside pandas as pd."
      ],
      "id": "original-density"
    },
    {
      "cell_type": "code",
      "metadata": {
        "id": "adequate-theology"
      },
      "source": [
        "# # Replace \"Dr.\" with empty string \"\"\n",
        "# airlines['full_name'] = airlines['full_name'].str.replace(\"Dr\",\"\")\n",
        "\n",
        "# # Replace \"Mr.\" with empty string \"\"\n",
        "# airlines['full_name'] = airlines['full_name'].str.replace(\"Mr\",\"\")\n",
        "\n",
        "# # Replace \"Miss\" with empty string \"\"\n",
        "# airlines['full_name'] = airlines['full_name'].str.replace(\"Miss\",\"\")\n",
        "\n",
        "\n",
        "# # Replace \"Ms.\" with empty string \"\"\n",
        "# airlines['full_name'] = airlines['full_name'].str.replace(\"Ms.\",\"\")\n",
        "\n",
        "\n",
        "# # Assert that full_name has no honorifics\n",
        "# assert airlines['full_name'].str.contains('Ms.|Mr.|Miss|Dr.').any() == False"
      ],
      "id": "adequate-theology",
      "execution_count": null,
      "outputs": []
    },
    {
      "cell_type": "markdown",
      "metadata": {
        "id": "infrared-lemon"
      },
      "source": [
        "### Keeping it descriptive\n",
        "To further understand travelers' experiences in the San Francisco Airport, the quality assurance department sent out a qualitative questionnaire to all travelers who gave the airport the worst score on all possible categories. The objective behind this questionnaire is to identify common patterns in what travelers are saying about the airport.\n",
        "\n",
        "Their response is stored in the survey_response column. Upon a closer look, you realized a few of the answers gave the shortest possible character amount without much substance. In this exercise, you will isolate the responses with a character count higher than 40 , and make sure your new DataFrame contains responses with 40 characters or more using an assert statement.\n",
        "\n",
        "\n",
        "\\"
      ],
      "id": "infrared-lemon"
    },
    {
      "cell_type": "markdown",
      "metadata": {
        "id": "informal-contest"
      },
      "source": [
        "# Section 3\n",
        "Uniform currencies\n",
        "In this exercise and throughout this chapter, you will be working with a retail banking dataset stored in the banking DataFrame. The dataset contains data on the amount of money stored in accounts, their currency, amount invested, account opening date and last transaction date that were consolidated from American and European branches.\n",
        "\n",
        "You are tasked with understanding the average account size and how investments vary by the size of account, however in order to produce this analysis accurately, you first need to unify the currency amount into dollars. The pandas package has been imported as pd, and the banking DataFrame is in your environment."
      ],
      "id": "informal-contest"
    },
    {
      "cell_type": "code",
      "metadata": {
        "colab": {
          "base_uri": "https://localhost:8080/",
          "height": 204
        },
        "id": "educational-guidance",
        "outputId": "78070c9f-888d-40b8-fdc6-507c9c804d19"
      },
      "source": [
        "banking = pd.read_csv(path+'/banking_dirty.csv')\n",
        "banking.drop('Unnamed: 0', inplace=True, axis=1)\n",
        "\n",
        "# The csv file doesnt havr currency information. It was generated with a random function.\n",
        "cur_choice_ls = ['dollar','euro']\n",
        "cur_ls = []\n",
        "\n",
        "for i in range(banking.shape[0]):\n",
        "    cur_ls.append( random.choice(cur_choice_ls) )\n",
        "\n",
        "banking['acct_cur'] = cur_ls\n",
        "    \n",
        "banking.head()"
      ],
      "id": "educational-guidance",
      "execution_count": null,
      "outputs": [
        {
          "output_type": "execute_result",
          "data": {
            "text/html": [
              "<div>\n",
              "<style scoped>\n",
              "    .dataframe tbody tr th:only-of-type {\n",
              "        vertical-align: middle;\n",
              "    }\n",
              "\n",
              "    .dataframe tbody tr th {\n",
              "        vertical-align: top;\n",
              "    }\n",
              "\n",
              "    .dataframe thead th {\n",
              "        text-align: right;\n",
              "    }\n",
              "</style>\n",
              "<table border=\"1\" class=\"dataframe\">\n",
              "  <thead>\n",
              "    <tr style=\"text-align: right;\">\n",
              "      <th></th>\n",
              "      <th>cust_id</th>\n",
              "      <th>birth_date</th>\n",
              "      <th>Age</th>\n",
              "      <th>acct_amount</th>\n",
              "      <th>inv_amount</th>\n",
              "      <th>fund_A</th>\n",
              "      <th>fund_B</th>\n",
              "      <th>fund_C</th>\n",
              "      <th>fund_D</th>\n",
              "      <th>account_opened</th>\n",
              "      <th>last_transaction</th>\n",
              "      <th>acct_cur</th>\n",
              "    </tr>\n",
              "  </thead>\n",
              "  <tbody>\n",
              "    <tr>\n",
              "      <th>0</th>\n",
              "      <td>870A9281</td>\n",
              "      <td>1962-06-09</td>\n",
              "      <td>58</td>\n",
              "      <td>63523.31</td>\n",
              "      <td>51295</td>\n",
              "      <td>30105.0</td>\n",
              "      <td>4138.0</td>\n",
              "      <td>1420.0</td>\n",
              "      <td>15632.0</td>\n",
              "      <td>02-09-18</td>\n",
              "      <td>22-02-19</td>\n",
              "      <td>euro</td>\n",
              "    </tr>\n",
              "    <tr>\n",
              "      <th>1</th>\n",
              "      <td>166B05B0</td>\n",
              "      <td>1962-12-16</td>\n",
              "      <td>58</td>\n",
              "      <td>38175.46</td>\n",
              "      <td>15050</td>\n",
              "      <td>4995.0</td>\n",
              "      <td>938.0</td>\n",
              "      <td>6696.0</td>\n",
              "      <td>2421.0</td>\n",
              "      <td>28-02-19</td>\n",
              "      <td>31-10-18</td>\n",
              "      <td>euro</td>\n",
              "    </tr>\n",
              "    <tr>\n",
              "      <th>2</th>\n",
              "      <td>BFC13E88</td>\n",
              "      <td>1990-09-12</td>\n",
              "      <td>34</td>\n",
              "      <td>59863.77</td>\n",
              "      <td>24567</td>\n",
              "      <td>10323.0</td>\n",
              "      <td>4590.0</td>\n",
              "      <td>8469.0</td>\n",
              "      <td>1185.0</td>\n",
              "      <td>25-04-18</td>\n",
              "      <td>02-04-18</td>\n",
              "      <td>euro</td>\n",
              "    </tr>\n",
              "    <tr>\n",
              "      <th>3</th>\n",
              "      <td>F2158F66</td>\n",
              "      <td>1985-11-03</td>\n",
              "      <td>35</td>\n",
              "      <td>84132.10</td>\n",
              "      <td>23712</td>\n",
              "      <td>3908.0</td>\n",
              "      <td>492.0</td>\n",
              "      <td>6482.0</td>\n",
              "      <td>12830.0</td>\n",
              "      <td>07-11-17</td>\n",
              "      <td>08-11-18</td>\n",
              "      <td>euro</td>\n",
              "    </tr>\n",
              "    <tr>\n",
              "      <th>4</th>\n",
              "      <td>7A73F334</td>\n",
              "      <td>1990-05-17</td>\n",
              "      <td>30</td>\n",
              "      <td>120512.00</td>\n",
              "      <td>93230</td>\n",
              "      <td>12158.4</td>\n",
              "      <td>51281.0</td>\n",
              "      <td>13434.0</td>\n",
              "      <td>18383.0</td>\n",
              "      <td>14-05-18</td>\n",
              "      <td>19-07-18</td>\n",
              "      <td>dollar</td>\n",
              "    </tr>\n",
              "  </tbody>\n",
              "</table>\n",
              "</div>"
            ],
            "text/plain": [
              "    cust_id  birth_date  Age  ...  account_opened  last_transaction  acct_cur\n",
              "0  870A9281  1962-06-09   58  ...        02-09-18          22-02-19      euro\n",
              "1  166B05B0  1962-12-16   58  ...        28-02-19          31-10-18      euro\n",
              "2  BFC13E88  1990-09-12   34  ...        25-04-18          02-04-18      euro\n",
              "3  F2158F66  1985-11-03   35  ...        07-11-17          08-11-18      euro\n",
              "4  7A73F334  1990-05-17   30  ...        14-05-18          19-07-18    dollar\n",
              "\n",
              "[5 rows x 12 columns]"
            ]
          },
          "metadata": {
            "tags": []
          },
          "execution_count": 59
        }
      ]
    },
    {
      "cell_type": "code",
      "metadata": {
        "colab": {
          "base_uri": "https://localhost:8080/"
        },
        "id": "fatal-gross",
        "outputId": "717ca4e0-027e-4b78-e83d-333690dfadf3"
      },
      "source": [
        "banking.isnull().sum()"
      ],
      "id": "fatal-gross",
      "execution_count": null,
      "outputs": [
        {
          "output_type": "execute_result",
          "data": {
            "text/plain": [
              "cust_id             0\n",
              "birth_date          0\n",
              "Age                 0\n",
              "acct_amount         0\n",
              "inv_amount          0\n",
              "fund_A              0\n",
              "fund_B              0\n",
              "fund_C              0\n",
              "fund_D              0\n",
              "account_opened      0\n",
              "last_transaction    0\n",
              "acct_cur            0\n",
              "dtype: int64"
            ]
          },
          "metadata": {
            "tags": []
          },
          "execution_count": 60
        }
      ]
    },
    {
      "cell_type": "code",
      "metadata": {
        "colab": {
          "base_uri": "https://localhost:8080/"
        },
        "id": "proprietary-birthday",
        "outputId": "ac0d687b-0cf3-466a-bcfd-850535936ab6"
      },
      "source": [
        "# Find values of acct_cur that are equal to 'euro'\n",
        "acct_eu = banking['acct_cur'] == 'euro'\n",
        "acct_eu"
      ],
      "id": "proprietary-birthday",
      "execution_count": null,
      "outputs": [
        {
          "output_type": "execute_result",
          "data": {
            "text/plain": [
              "0      True\n",
              "1      True\n",
              "2      True\n",
              "3      True\n",
              "4     False\n",
              "      ...  \n",
              "95     True\n",
              "96     True\n",
              "97    False\n",
              "98    False\n",
              "99     True\n",
              "Name: acct_cur, Length: 100, dtype: bool"
            ]
          },
          "metadata": {
            "tags": []
          },
          "execution_count": 61
        }
      ]
    },
    {
      "cell_type": "code",
      "metadata": {
        "id": "funky-formula"
      },
      "source": [
        "# Convert acct_amount where it is in euro to dollars\n",
        "banking.loc[banking['acct_cur']== 'euro', 'acct_amount' ] = banking.loc[banking['acct_cur']== 'euro', 'acct_amount' ] * 1.1"
      ],
      "id": "funky-formula",
      "execution_count": null,
      "outputs": []
    },
    {
      "cell_type": "code",
      "metadata": {
        "id": "average-eight"
      },
      "source": [
        "# Unify acct_cur column by changing 'euro' values to 'dollar'\n",
        "banking.loc[banking['acct_cur']== 'euro', 'acct_cur' ] = 'dollar'"
      ],
      "id": "average-eight",
      "execution_count": null,
      "outputs": []
    },
    {
      "cell_type": "code",
      "metadata": {
        "id": "governmental-windsor"
      },
      "source": [
        "# Assert that only dollar currency remains\n",
        "assert banking['acct_cur'].unique() == 'dollar'"
      ],
      "id": "governmental-windsor",
      "execution_count": null,
      "outputs": []
    },
    {
      "cell_type": "markdown",
      "metadata": {
        "id": "grand-stomach"
      },
      "source": [
        "### Uniform dates\n",
        "After having unified the currencies of your different account amounts, you want to add a temporal dimension to your analysis and see how customers have been investing their money given the size of their account over each year. The account_opened column represents when customers opened their accounts and is a good proxy for segmenting customer activity and investment over time.\n",
        "\n",
        "However, since this data was consolidated from multiple sources, you need to make sure that all dates are of the same format. You will do so by converting this column into a datetime object, while making sure that the format is inferred and potentially incorrect formats are set to missing. The banking DataFrame is in your environment and pandas was imported as pd."
      ],
      "id": "grand-stomach"
    },
    {
      "cell_type": "code",
      "metadata": {
        "colab": {
          "base_uri": "https://localhost:8080/"
        },
        "id": "floppy-publisher",
        "outputId": "2d89091e-9fa4-4c88-93fd-cc6b38473845"
      },
      "source": [
        "# Print the header of account_opend\n",
        "print(banking['account_opened'].head())"
      ],
      "id": "floppy-publisher",
      "execution_count": null,
      "outputs": [
        {
          "output_type": "stream",
          "text": [
            "0    02-09-18\n",
            "1    28-02-19\n",
            "2    25-04-18\n",
            "3    07-11-17\n",
            "4    14-05-18\n",
            "Name: account_opened, dtype: object\n"
          ],
          "name": "stdout"
        }
      ]
    },
    {
      "cell_type": "code",
      "metadata": {
        "id": "clear-jerusalem"
      },
      "source": [
        "# Convert account_opened to datetime\n",
        "banking['account_opened'] = pd.to_datetime(banking['account_opened'],\n",
        "                                           # Infer datetime format\n",
        "                                           infer_datetime_format = True,\n",
        "                                           # Return missing value for error\n",
        "                                           errors = 'coerce') "
      ],
      "id": "clear-jerusalem",
      "execution_count": null,
      "outputs": []
    },
    {
      "cell_type": "code",
      "metadata": {
        "id": "convertible-haiti"
      },
      "source": [
        "# Get year of account opened\n",
        "banking['acct_year'] = banking['account_opened'].dt.strftime('%Y')"
      ],
      "id": "convertible-haiti",
      "execution_count": null,
      "outputs": []
    },
    {
      "cell_type": "code",
      "metadata": {
        "colab": {
          "base_uri": "https://localhost:8080/"
        },
        "id": "roman-ecuador",
        "outputId": "5cddf92d-c6d6-4d37-dc7f-55358de1f560"
      },
      "source": [
        "# Print acct_year\n",
        "print(banking['acct_year'])"
      ],
      "id": "roman-ecuador",
      "execution_count": null,
      "outputs": [
        {
          "output_type": "stream",
          "text": [
            "0     2018\n",
            "1     2019\n",
            "2     2018\n",
            "3     2017\n",
            "4     2018\n",
            "      ... \n",
            "95    2018\n",
            "96    2017\n",
            "97    2017\n",
            "98    2017\n",
            "99    2017\n",
            "Name: acct_year, Length: 100, dtype: object\n"
          ],
          "name": "stdout"
        }
      ]
    },
    {
      "cell_type": "markdown",
      "metadata": {
        "id": "human-template"
      },
      "source": [
        "### Cross field or no cross field?\n",
        "Throughout this course, you've been immersed in a variety of data cleaning problems from range constraints, data type constraints, uniformity and more.\n",
        "\n",
        "In this lesson, you were introduced to cross field validation as a means to sanity check your data and making sure you have strong data integrity.\n",
        "\n",
        "Now, you will map different applicable concepts and techniques to their respective categories."
      ],
      "id": "human-template"
    },
    {
      "cell_type": "markdown",
      "metadata": {
        "id": "suffering-provision"
      },
      "source": [
        "### How's our data integrity?\n",
        "New data has been merged into the banking DataFrame that contains details on how investments in the inv_amount column are allocated across four different funds A, B, C and D.\n",
        "\n",
        "Furthermore, the age and birthdays of customers are now stored in the age and birth_date columns respectively.\n",
        "\n",
        "You want to understand how customers of different age groups invest. However, you want to first make sure the data you're analyzing is correct. You will do so by cross field checking values of inv_amount and age against the amount invested in different funds and customers' birthdays. Both pandas and datetime have been imported as pd and dt respectively."
      ],
      "id": "suffering-provision"
    },
    {
      "cell_type": "code",
      "metadata": {
        "id": "related-democrat"
      },
      "source": [
        "# Store fund columns to sum against\n",
        "fund_columns = ['fund_A', 'fund_B', 'fund_C', 'fund_D']"
      ],
      "id": "related-democrat",
      "execution_count": null,
      "outputs": []
    },
    {
      "cell_type": "code",
      "metadata": {
        "colab": {
          "base_uri": "https://localhost:8080/"
        },
        "id": "organic-mediterranean",
        "outputId": "0c0895b4-2c4f-4feb-85a0-0279a52846dd"
      },
      "source": [
        "\n",
        "# Find rows where fund_columns row sum == inv_amount\n",
        "inv_equ = banking[['fund_A', 'fund_B', 'fund_C', 'fund_D']].sum(axis=1) == banking['inv_amount']\n",
        "inv_equ"
      ],
      "id": "organic-mediterranean",
      "execution_count": null,
      "outputs": [
        {
          "output_type": "execute_result",
          "data": {
            "text/plain": [
              "0      True\n",
              "1      True\n",
              "2      True\n",
              "3      True\n",
              "4     False\n",
              "      ...  \n",
              "95     True\n",
              "96     True\n",
              "97     True\n",
              "98     True\n",
              "99     True\n",
              "Length: 100, dtype: bool"
            ]
          },
          "metadata": {
            "tags": []
          },
          "execution_count": 70
        }
      ]
    },
    {
      "cell_type": "code",
      "metadata": {
        "colab": {
          "base_uri": "https://localhost:8080/"
        },
        "id": "legislative-particle",
        "outputId": "e98b5572-72b4-4a40-f482-f7d68b14e213"
      },
      "source": [
        "# Store consistent and inconsistent data\n",
        "consistent_inv = banking[inv_equ]\n",
        "inconsistent_inv = banking[~inv_equ]\n",
        "\n",
        "# Store consistent and inconsistent data\n",
        "print(\"Number of inconsistent investments: \", inconsistent_inv.shape[0])"
      ],
      "id": "legislative-particle",
      "execution_count": null,
      "outputs": [
        {
          "output_type": "stream",
          "text": [
            "Number of inconsistent investments:  8\n"
          ],
          "name": "stdout"
        }
      ]
    },
    {
      "cell_type": "code",
      "metadata": {
        "colab": {
          "base_uri": "https://localhost:8080/"
        },
        "id": "popular-monte",
        "outputId": "8dc9c6cb-d20c-4955-a50e-ffb189ec52b8"
      },
      "source": [
        "# Store today's date and find ages\n",
        "today = dt.date.today()\n",
        "ages_manual = pd.to_datetime(banking['acct_year']).dt.year - pd.to_datetime(banking['birth_date']).dt.year\n",
        "ages_manual\n"
      ],
      "id": "popular-monte",
      "execution_count": null,
      "outputs": [
        {
          "output_type": "execute_result",
          "data": {
            "text/plain": [
              "0     56\n",
              "1     57\n",
              "2     28\n",
              "3     32\n",
              "4     28\n",
              "      ..\n",
              "95    44\n",
              "96    28\n",
              "97    33\n",
              "98    48\n",
              "99    24\n",
              "Length: 100, dtype: int64"
            ]
          },
          "metadata": {
            "tags": []
          },
          "execution_count": 72
        }
      ]
    },
    {
      "cell_type": "code",
      "metadata": {
        "id": "ahead-webcam"
      },
      "source": [
        "# Find rows where age column == ages_manual\n",
        "age_equ = banking['Age'] == ages_manual\n",
        "\n",
        "# Store consistent and inconsistent data\n",
        "consistent_ages = banking[age_equ]\n",
        "inconsistent_ages = banking[~age_equ]"
      ],
      "id": "ahead-webcam",
      "execution_count": null,
      "outputs": []
    },
    {
      "cell_type": "code",
      "metadata": {
        "colab": {
          "base_uri": "https://localhost:8080/"
        },
        "id": "norman-evolution",
        "outputId": "beb47436-9b2f-4de7-c77c-357b0dac9ef3"
      },
      "source": [
        "# Store consistent and inconsistent data\n",
        "print(\"Number of inconsistent ages: \", inconsistent_ages.shape[0])"
      ],
      "id": "norman-evolution",
      "execution_count": null,
      "outputs": [
        {
          "output_type": "stream",
          "text": [
            "Number of inconsistent ages:  100\n"
          ],
          "name": "stdout"
        }
      ]
    },
    {
      "cell_type": "code",
      "metadata": {
        "colab": {
          "base_uri": "https://localhost:8080/",
          "height": 419
        },
        "id": "fatal-married",
        "outputId": "f87fea8b-0a40-46c5-b68e-cfcbe465b6c1"
      },
      "source": [
        "banking"
      ],
      "id": "fatal-married",
      "execution_count": null,
      "outputs": [
        {
          "output_type": "execute_result",
          "data": {
            "text/html": [
              "<div>\n",
              "<style scoped>\n",
              "    .dataframe tbody tr th:only-of-type {\n",
              "        vertical-align: middle;\n",
              "    }\n",
              "\n",
              "    .dataframe tbody tr th {\n",
              "        vertical-align: top;\n",
              "    }\n",
              "\n",
              "    .dataframe thead th {\n",
              "        text-align: right;\n",
              "    }\n",
              "</style>\n",
              "<table border=\"1\" class=\"dataframe\">\n",
              "  <thead>\n",
              "    <tr style=\"text-align: right;\">\n",
              "      <th></th>\n",
              "      <th>cust_id</th>\n",
              "      <th>birth_date</th>\n",
              "      <th>Age</th>\n",
              "      <th>acct_amount</th>\n",
              "      <th>inv_amount</th>\n",
              "      <th>fund_A</th>\n",
              "      <th>fund_B</th>\n",
              "      <th>fund_C</th>\n",
              "      <th>fund_D</th>\n",
              "      <th>account_opened</th>\n",
              "      <th>last_transaction</th>\n",
              "      <th>acct_cur</th>\n",
              "      <th>acct_year</th>\n",
              "    </tr>\n",
              "  </thead>\n",
              "  <tbody>\n",
              "    <tr>\n",
              "      <th>0</th>\n",
              "      <td>870A9281</td>\n",
              "      <td>1962-06-09</td>\n",
              "      <td>58</td>\n",
              "      <td>69875.641</td>\n",
              "      <td>51295</td>\n",
              "      <td>30105.0</td>\n",
              "      <td>4138.0</td>\n",
              "      <td>1420.0</td>\n",
              "      <td>15632.0</td>\n",
              "      <td>2018-02-09</td>\n",
              "      <td>22-02-19</td>\n",
              "      <td>dollar</td>\n",
              "      <td>2018</td>\n",
              "    </tr>\n",
              "    <tr>\n",
              "      <th>1</th>\n",
              "      <td>166B05B0</td>\n",
              "      <td>1962-12-16</td>\n",
              "      <td>58</td>\n",
              "      <td>41993.006</td>\n",
              "      <td>15050</td>\n",
              "      <td>4995.0</td>\n",
              "      <td>938.0</td>\n",
              "      <td>6696.0</td>\n",
              "      <td>2421.0</td>\n",
              "      <td>2019-02-28</td>\n",
              "      <td>31-10-18</td>\n",
              "      <td>dollar</td>\n",
              "      <td>2019</td>\n",
              "    </tr>\n",
              "    <tr>\n",
              "      <th>2</th>\n",
              "      <td>BFC13E88</td>\n",
              "      <td>1990-09-12</td>\n",
              "      <td>34</td>\n",
              "      <td>65850.147</td>\n",
              "      <td>24567</td>\n",
              "      <td>10323.0</td>\n",
              "      <td>4590.0</td>\n",
              "      <td>8469.0</td>\n",
              "      <td>1185.0</td>\n",
              "      <td>2018-04-25</td>\n",
              "      <td>02-04-18</td>\n",
              "      <td>dollar</td>\n",
              "      <td>2018</td>\n",
              "    </tr>\n",
              "    <tr>\n",
              "      <th>3</th>\n",
              "      <td>F2158F66</td>\n",
              "      <td>1985-11-03</td>\n",
              "      <td>35</td>\n",
              "      <td>92545.310</td>\n",
              "      <td>23712</td>\n",
              "      <td>3908.0</td>\n",
              "      <td>492.0</td>\n",
              "      <td>6482.0</td>\n",
              "      <td>12830.0</td>\n",
              "      <td>2017-07-11</td>\n",
              "      <td>08-11-18</td>\n",
              "      <td>dollar</td>\n",
              "      <td>2017</td>\n",
              "    </tr>\n",
              "    <tr>\n",
              "      <th>4</th>\n",
              "      <td>7A73F334</td>\n",
              "      <td>1990-05-17</td>\n",
              "      <td>30</td>\n",
              "      <td>120512.000</td>\n",
              "      <td>93230</td>\n",
              "      <td>12158.4</td>\n",
              "      <td>51281.0</td>\n",
              "      <td>13434.0</td>\n",
              "      <td>18383.0</td>\n",
              "      <td>2018-05-14</td>\n",
              "      <td>19-07-18</td>\n",
              "      <td>dollar</td>\n",
              "      <td>2018</td>\n",
              "    </tr>\n",
              "    <tr>\n",
              "      <th>...</th>\n",
              "      <td>...</td>\n",
              "      <td>...</td>\n",
              "      <td>...</td>\n",
              "      <td>...</td>\n",
              "      <td>...</td>\n",
              "      <td>...</td>\n",
              "      <td>...</td>\n",
              "      <td>...</td>\n",
              "      <td>...</td>\n",
              "      <td>...</td>\n",
              "      <td>...</td>\n",
              "      <td>...</td>\n",
              "      <td>...</td>\n",
              "    </tr>\n",
              "    <tr>\n",
              "      <th>95</th>\n",
              "      <td>CA507BA1</td>\n",
              "      <td>1974-08-10</td>\n",
              "      <td>46</td>\n",
              "      <td>13430.824</td>\n",
              "      <td>7515</td>\n",
              "      <td>190.0</td>\n",
              "      <td>931.0</td>\n",
              "      <td>1451.0</td>\n",
              "      <td>4943.0</td>\n",
              "      <td>2018-05-26</td>\n",
              "      <td>11-09-19</td>\n",
              "      <td>dollar</td>\n",
              "      <td>2018</td>\n",
              "    </tr>\n",
              "    <tr>\n",
              "      <th>96</th>\n",
              "      <td>B99CD662</td>\n",
              "      <td>1989-12-12</td>\n",
              "      <td>31</td>\n",
              "      <td>102122.284</td>\n",
              "      <td>49089</td>\n",
              "      <td>2453.0</td>\n",
              "      <td>7892.0</td>\n",
              "      <td>31486.0</td>\n",
              "      <td>7258.0</td>\n",
              "      <td>2017-04-05</td>\n",
              "      <td>12-03-19</td>\n",
              "      <td>dollar</td>\n",
              "      <td>2017</td>\n",
              "    </tr>\n",
              "    <tr>\n",
              "      <th>97</th>\n",
              "      <td>13770971</td>\n",
              "      <td>1984-11-29</td>\n",
              "      <td>36</td>\n",
              "      <td>92750.870</td>\n",
              "      <td>27962</td>\n",
              "      <td>3352.0</td>\n",
              "      <td>7547.0</td>\n",
              "      <td>8486.0</td>\n",
              "      <td>8577.0</td>\n",
              "      <td>2017-08-16</td>\n",
              "      <td>24-04-19</td>\n",
              "      <td>dollar</td>\n",
              "      <td>2017</td>\n",
              "    </tr>\n",
              "    <tr>\n",
              "      <th>98</th>\n",
              "      <td>93E78DA3</td>\n",
              "      <td>1969-12-14</td>\n",
              "      <td>51</td>\n",
              "      <td>41942.230</td>\n",
              "      <td>29662</td>\n",
              "      <td>1758.0</td>\n",
              "      <td>11174.0</td>\n",
              "      <td>11650.0</td>\n",
              "      <td>5080.0</td>\n",
              "      <td>2017-09-10</td>\n",
              "      <td>15-04-18</td>\n",
              "      <td>dollar</td>\n",
              "      <td>2017</td>\n",
              "    </tr>\n",
              "    <tr>\n",
              "      <th>99</th>\n",
              "      <td>AC91D689</td>\n",
              "      <td>1993-05-18</td>\n",
              "      <td>27</td>\n",
              "      <td>109439.671</td>\n",
              "      <td>32149</td>\n",
              "      <td>2184.0</td>\n",
              "      <td>17918.0</td>\n",
              "      <td>6714.0</td>\n",
              "      <td>5333.0</td>\n",
              "      <td>2017-01-08</td>\n",
              "      <td>04-08-19</td>\n",
              "      <td>dollar</td>\n",
              "      <td>2017</td>\n",
              "    </tr>\n",
              "  </tbody>\n",
              "</table>\n",
              "<p>100 rows × 13 columns</p>\n",
              "</div>"
            ],
            "text/plain": [
              "     cust_id  birth_date  Age  ...  last_transaction  acct_cur  acct_year\n",
              "0   870A9281  1962-06-09   58  ...          22-02-19    dollar       2018\n",
              "1   166B05B0  1962-12-16   58  ...          31-10-18    dollar       2019\n",
              "2   BFC13E88  1990-09-12   34  ...          02-04-18    dollar       2018\n",
              "3   F2158F66  1985-11-03   35  ...          08-11-18    dollar       2017\n",
              "4   7A73F334  1990-05-17   30  ...          19-07-18    dollar       2018\n",
              "..       ...         ...  ...  ...               ...       ...        ...\n",
              "95  CA507BA1  1974-08-10   46  ...          11-09-19    dollar       2018\n",
              "96  B99CD662  1989-12-12   31  ...          12-03-19    dollar       2017\n",
              "97  13770971  1984-11-29   36  ...          24-04-19    dollar       2017\n",
              "98  93E78DA3  1969-12-14   51  ...          15-04-18    dollar       2017\n",
              "99  AC91D689  1993-05-18   27  ...          04-08-19    dollar       2017\n",
              "\n",
              "[100 rows x 13 columns]"
            ]
          },
          "metadata": {
            "tags": []
          },
          "execution_count": 75
        }
      ]
    },
    {
      "cell_type": "markdown",
      "metadata": {
        "id": "relevant-programming"
      },
      "source": [
        "### Missing investors\n",
        "Dealing with missing data is one of the most common tasks in data science. There are a variety of types of missingness, as well as a variety of types of solutions to missing data.\n",
        "\n",
        "You just received a new version of the banking DataFrame containing data on the amount held and invested for new and existing customers. However, there are rows with missing inv_amount values.\n",
        "\n",
        "You know for a fact that most customers below 25 do not have investment accounts yet, and suspect it could be driving the missingness. The pandas, missingno and matplotlib.pyplot packages have been imported as pd, msno and plt respectively. The banking DataFrame is in your environment."
      ],
      "id": "relevant-programming"
    },
    {
      "cell_type": "code",
      "metadata": {
        "colab": {
          "base_uri": "https://localhost:8080/",
          "height": 419
        },
        "id": "focused-anthropology",
        "outputId": "bae8cbf3-3397-438a-ce8a-f769be43f691"
      },
      "source": [
        "banking2 = banking.drop(fund_columns, axis=1)\n",
        "banking2"
      ],
      "id": "focused-anthropology",
      "execution_count": null,
      "outputs": [
        {
          "output_type": "execute_result",
          "data": {
            "text/html": [
              "<div>\n",
              "<style scoped>\n",
              "    .dataframe tbody tr th:only-of-type {\n",
              "        vertical-align: middle;\n",
              "    }\n",
              "\n",
              "    .dataframe tbody tr th {\n",
              "        vertical-align: top;\n",
              "    }\n",
              "\n",
              "    .dataframe thead th {\n",
              "        text-align: right;\n",
              "    }\n",
              "</style>\n",
              "<table border=\"1\" class=\"dataframe\">\n",
              "  <thead>\n",
              "    <tr style=\"text-align: right;\">\n",
              "      <th></th>\n",
              "      <th>cust_id</th>\n",
              "      <th>birth_date</th>\n",
              "      <th>Age</th>\n",
              "      <th>acct_amount</th>\n",
              "      <th>inv_amount</th>\n",
              "      <th>account_opened</th>\n",
              "      <th>last_transaction</th>\n",
              "      <th>acct_cur</th>\n",
              "      <th>acct_year</th>\n",
              "    </tr>\n",
              "  </thead>\n",
              "  <tbody>\n",
              "    <tr>\n",
              "      <th>0</th>\n",
              "      <td>870A9281</td>\n",
              "      <td>1962-06-09</td>\n",
              "      <td>58</td>\n",
              "      <td>69875.641</td>\n",
              "      <td>51295</td>\n",
              "      <td>2018-02-09</td>\n",
              "      <td>22-02-19</td>\n",
              "      <td>dollar</td>\n",
              "      <td>2018</td>\n",
              "    </tr>\n",
              "    <tr>\n",
              "      <th>1</th>\n",
              "      <td>166B05B0</td>\n",
              "      <td>1962-12-16</td>\n",
              "      <td>58</td>\n",
              "      <td>41993.006</td>\n",
              "      <td>15050</td>\n",
              "      <td>2019-02-28</td>\n",
              "      <td>31-10-18</td>\n",
              "      <td>dollar</td>\n",
              "      <td>2019</td>\n",
              "    </tr>\n",
              "    <tr>\n",
              "      <th>2</th>\n",
              "      <td>BFC13E88</td>\n",
              "      <td>1990-09-12</td>\n",
              "      <td>34</td>\n",
              "      <td>65850.147</td>\n",
              "      <td>24567</td>\n",
              "      <td>2018-04-25</td>\n",
              "      <td>02-04-18</td>\n",
              "      <td>dollar</td>\n",
              "      <td>2018</td>\n",
              "    </tr>\n",
              "    <tr>\n",
              "      <th>3</th>\n",
              "      <td>F2158F66</td>\n",
              "      <td>1985-11-03</td>\n",
              "      <td>35</td>\n",
              "      <td>92545.310</td>\n",
              "      <td>23712</td>\n",
              "      <td>2017-07-11</td>\n",
              "      <td>08-11-18</td>\n",
              "      <td>dollar</td>\n",
              "      <td>2017</td>\n",
              "    </tr>\n",
              "    <tr>\n",
              "      <th>4</th>\n",
              "      <td>7A73F334</td>\n",
              "      <td>1990-05-17</td>\n",
              "      <td>30</td>\n",
              "      <td>120512.000</td>\n",
              "      <td>93230</td>\n",
              "      <td>2018-05-14</td>\n",
              "      <td>19-07-18</td>\n",
              "      <td>dollar</td>\n",
              "      <td>2018</td>\n",
              "    </tr>\n",
              "    <tr>\n",
              "      <th>...</th>\n",
              "      <td>...</td>\n",
              "      <td>...</td>\n",
              "      <td>...</td>\n",
              "      <td>...</td>\n",
              "      <td>...</td>\n",
              "      <td>...</td>\n",
              "      <td>...</td>\n",
              "      <td>...</td>\n",
              "      <td>...</td>\n",
              "    </tr>\n",
              "    <tr>\n",
              "      <th>95</th>\n",
              "      <td>CA507BA1</td>\n",
              "      <td>1974-08-10</td>\n",
              "      <td>46</td>\n",
              "      <td>13430.824</td>\n",
              "      <td>7515</td>\n",
              "      <td>2018-05-26</td>\n",
              "      <td>11-09-19</td>\n",
              "      <td>dollar</td>\n",
              "      <td>2018</td>\n",
              "    </tr>\n",
              "    <tr>\n",
              "      <th>96</th>\n",
              "      <td>B99CD662</td>\n",
              "      <td>1989-12-12</td>\n",
              "      <td>31</td>\n",
              "      <td>102122.284</td>\n",
              "      <td>49089</td>\n",
              "      <td>2017-04-05</td>\n",
              "      <td>12-03-19</td>\n",
              "      <td>dollar</td>\n",
              "      <td>2017</td>\n",
              "    </tr>\n",
              "    <tr>\n",
              "      <th>97</th>\n",
              "      <td>13770971</td>\n",
              "      <td>1984-11-29</td>\n",
              "      <td>36</td>\n",
              "      <td>92750.870</td>\n",
              "      <td>27962</td>\n",
              "      <td>2017-08-16</td>\n",
              "      <td>24-04-19</td>\n",
              "      <td>dollar</td>\n",
              "      <td>2017</td>\n",
              "    </tr>\n",
              "    <tr>\n",
              "      <th>98</th>\n",
              "      <td>93E78DA3</td>\n",
              "      <td>1969-12-14</td>\n",
              "      <td>51</td>\n",
              "      <td>41942.230</td>\n",
              "      <td>29662</td>\n",
              "      <td>2017-09-10</td>\n",
              "      <td>15-04-18</td>\n",
              "      <td>dollar</td>\n",
              "      <td>2017</td>\n",
              "    </tr>\n",
              "    <tr>\n",
              "      <th>99</th>\n",
              "      <td>AC91D689</td>\n",
              "      <td>1993-05-18</td>\n",
              "      <td>27</td>\n",
              "      <td>109439.671</td>\n",
              "      <td>32149</td>\n",
              "      <td>2017-01-08</td>\n",
              "      <td>04-08-19</td>\n",
              "      <td>dollar</td>\n",
              "      <td>2017</td>\n",
              "    </tr>\n",
              "  </tbody>\n",
              "</table>\n",
              "<p>100 rows × 9 columns</p>\n",
              "</div>"
            ],
            "text/plain": [
              "     cust_id  birth_date  Age  ...  last_transaction  acct_cur acct_year\n",
              "0   870A9281  1962-06-09   58  ...          22-02-19    dollar      2018\n",
              "1   166B05B0  1962-12-16   58  ...          31-10-18    dollar      2019\n",
              "2   BFC13E88  1990-09-12   34  ...          02-04-18    dollar      2018\n",
              "3   F2158F66  1985-11-03   35  ...          08-11-18    dollar      2017\n",
              "4   7A73F334  1990-05-17   30  ...          19-07-18    dollar      2018\n",
              "..       ...         ...  ...  ...               ...       ...       ...\n",
              "95  CA507BA1  1974-08-10   46  ...          11-09-19    dollar      2018\n",
              "96  B99CD662  1989-12-12   31  ...          12-03-19    dollar      2017\n",
              "97  13770971  1984-11-29   36  ...          24-04-19    dollar      2017\n",
              "98  93E78DA3  1969-12-14   51  ...          15-04-18    dollar      2017\n",
              "99  AC91D689  1993-05-18   27  ...          04-08-19    dollar      2017\n",
              "\n",
              "[100 rows x 9 columns]"
            ]
          },
          "metadata": {
            "tags": []
          },
          "execution_count": 76
        }
      ]
    },
    {
      "cell_type": "code",
      "metadata": {
        "id": "nutritional-poker"
      },
      "source": [
        "inv_amount_series = banking2.inv_amount\n",
        "inv_amount_series.size\n",
        "inv_amount_ls = inv_amount_series\n",
        "\n",
        "# nan_ls = np.repeat(np.nan, 13) \n",
        "Start = 0\n",
        "Stop = len(inv_amount_ls)\n",
        "limit = 10\n",
        "\n",
        "# generating 13 random numbers. To creat the condition of the study.Again the csv file doesnt have nan values.\n",
        "rand_int_ls = [random.randint(Start, Stop) for iter in range(13)]\n",
        "\n",
        "for i,j  in enumerate(rand_int_ls):\n",
        "    inv_amount_ls[j] = np.nan\n",
        "banking2['inv_amount'] = inv_amount_ls"
      ],
      "id": "nutritional-poker",
      "execution_count": null,
      "outputs": []
    },
    {
      "cell_type": "code",
      "metadata": {
        "scrolled": false,
        "colab": {
          "base_uri": "https://localhost:8080/"
        },
        "id": "impaired-majority",
        "outputId": "4d618187-070f-4e3b-e711-9766d5d6bb3b"
      },
      "source": [
        "print(banking2.isna().sum())"
      ],
      "id": "impaired-majority",
      "execution_count": null,
      "outputs": [
        {
          "output_type": "stream",
          "text": [
            "cust_id              0\n",
            "birth_date           0\n",
            "Age                  0\n",
            "acct_amount          0\n",
            "inv_amount          21\n",
            "account_opened       0\n",
            "last_transaction     0\n",
            "acct_cur             0\n",
            "acct_year            0\n",
            "dtype: int64\n"
          ],
          "name": "stdout"
        }
      ]
    },
    {
      "cell_type": "code",
      "metadata": {
        "colab": {
          "base_uri": "https://localhost:8080/",
          "height": 695
        },
        "id": "rough-holmes",
        "outputId": "08437584-ee9d-4fda-9476-352414d4293a"
      },
      "source": [
        "# Visualize missingness matrix\n",
        "msno.matrix(banking2)\n",
        "plt.show()"
      ],
      "id": "rough-holmes",
      "execution_count": null,
      "outputs": [
        {
          "output_type": "display_data",
          "data": {
            "image/png": "[encoded data removed]",
            "text/plain": [
              "<Figure size 1800x720 with 2 Axes>"
            ]
          },
          "metadata": {
            "tags": [],
            "needs_background": "light"
          }
        }
      ]
    },
    {
      "cell_type": "code",
      "metadata": {
        "colab": {
          "base_uri": "https://localhost:8080/",
          "height": 700
        },
        "id": "yellow-endorsement",
        "outputId": "a0de3ba6-9cd7-4eb3-fde4-8faa35ce6585"
      },
      "source": [
        "# Isolate missing and non missing values of inv_amount\n",
        "missing_investors = banking2['inv_amount'].isna()\n",
        "banking2[missing_investors]"
      ],
      "id": "yellow-endorsement",
      "execution_count": null,
      "outputs": [
        {
          "output_type": "execute_result",
          "data": {
            "text/html": [
              "<div>\n",
              "<style scoped>\n",
              "    .dataframe tbody tr th:only-of-type {\n",
              "        vertical-align: middle;\n",
              "    }\n",
              "\n",
              "    .dataframe tbody tr th {\n",
              "        vertical-align: top;\n",
              "    }\n",
              "\n",
              "    .dataframe thead th {\n",
              "        text-align: right;\n",
              "    }\n",
              "</style>\n",
              "<table border=\"1\" class=\"dataframe\">\n",
              "  <thead>\n",
              "    <tr style=\"text-align: right;\">\n",
              "      <th></th>\n",
              "      <th>cust_id</th>\n",
              "      <th>birth_date</th>\n",
              "      <th>Age</th>\n",
              "      <th>acct_amount</th>\n",
              "      <th>inv_amount</th>\n",
              "      <th>account_opened</th>\n",
              "      <th>last_transaction</th>\n",
              "      <th>acct_cur</th>\n",
              "      <th>acct_year</th>\n",
              "    </tr>\n",
              "  </thead>\n",
              "  <tbody>\n",
              "    <tr>\n",
              "      <th>2</th>\n",
              "      <td>BFC13E88</td>\n",
              "      <td>1990-09-12</td>\n",
              "      <td>34</td>\n",
              "      <td>6.585015e+04</td>\n",
              "      <td>NaN</td>\n",
              "      <td>2018-04-25</td>\n",
              "      <td>02-04-18</td>\n",
              "      <td>dollar</td>\n",
              "      <td>2018</td>\n",
              "    </tr>\n",
              "    <tr>\n",
              "      <th>3</th>\n",
              "      <td>F2158F66</td>\n",
              "      <td>1985-11-03</td>\n",
              "      <td>35</td>\n",
              "      <td>9.254531e+04</td>\n",
              "      <td>NaN</td>\n",
              "      <td>2017-07-11</td>\n",
              "      <td>08-11-18</td>\n",
              "      <td>dollar</td>\n",
              "      <td>2017</td>\n",
              "    </tr>\n",
              "    <tr>\n",
              "      <th>14</th>\n",
              "      <td>987DC93E</td>\n",
              "      <td>1978-03-13</td>\n",
              "      <td>42</td>\n",
              "      <td>3.951685e+04</td>\n",
              "      <td>NaN</td>\n",
              "      <td>2018-12-30</td>\n",
              "      <td>06-12-18</td>\n",
              "      <td>dollar</td>\n",
              "      <td>2018</td>\n",
              "    </tr>\n",
              "    <tr>\n",
              "      <th>22</th>\n",
              "      <td>96525DA6</td>\n",
              "      <td>1992-11-23</td>\n",
              "      <td>28</td>\n",
              "      <td>9.076236e+04</td>\n",
              "      <td>NaN</td>\n",
              "      <td>2018-07-23</td>\n",
              "      <td>07-08-18</td>\n",
              "      <td>dollar</td>\n",
              "      <td>2018</td>\n",
              "    </tr>\n",
              "    <tr>\n",
              "      <th>23</th>\n",
              "      <td>A1815565</td>\n",
              "      <td>1968-09-27</td>\n",
              "      <td>56</td>\n",
              "      <td>8.299604e+04</td>\n",
              "      <td>NaN</td>\n",
              "      <td>2017-07-11</td>\n",
              "      <td>30-09-19</td>\n",
              "      <td>dollar</td>\n",
              "      <td>2017</td>\n",
              "    </tr>\n",
              "    <tr>\n",
              "      <th>25</th>\n",
              "      <td>296A9395</td>\n",
              "      <td>1984-05-02</td>\n",
              "      <td>36</td>\n",
              "      <td>3.814756e+04</td>\n",
              "      <td>NaN</td>\n",
              "      <td>2017-12-24</td>\n",
              "      <td>19-02-19</td>\n",
              "      <td>dollar</td>\n",
              "      <td>2017</td>\n",
              "    </tr>\n",
              "    <tr>\n",
              "      <th>26</th>\n",
              "      <td>1B55AA1C</td>\n",
              "      <td>1992-10-09</td>\n",
              "      <td>28</td>\n",
              "      <td>7.896042e+04</td>\n",
              "      <td>NaN</td>\n",
              "      <td>2019-01-29</td>\n",
              "      <td>22-11-19</td>\n",
              "      <td>dollar</td>\n",
              "      <td>2019</td>\n",
              "    </tr>\n",
              "    <tr>\n",
              "      <th>35</th>\n",
              "      <td>078C654F</td>\n",
              "      <td>1993-10-17</td>\n",
              "      <td>27</td>\n",
              "      <td>8.731264e+04</td>\n",
              "      <td>NaN</td>\n",
              "      <td>2017-04-14</td>\n",
              "      <td>05-08-18</td>\n",
              "      <td>dollar</td>\n",
              "      <td>2017</td>\n",
              "    </tr>\n",
              "    <tr>\n",
              "      <th>49</th>\n",
              "      <td>0F0884F6</td>\n",
              "      <td>1961-06-20</td>\n",
              "      <td>59</td>\n",
              "      <td>8.450581e+04</td>\n",
              "      <td>NaN</td>\n",
              "      <td>2018-08-03</td>\n",
              "      <td>24-08-19</td>\n",
              "      <td>dollar</td>\n",
              "      <td>2018</td>\n",
              "    </tr>\n",
              "    <tr>\n",
              "      <th>62</th>\n",
              "      <td>93A17007</td>\n",
              "      <td>1991-08-23</td>\n",
              "      <td>29</td>\n",
              "      <td>4.471650e+04</td>\n",
              "      <td>NaN</td>\n",
              "      <td>2017-05-28</td>\n",
              "      <td>08-03-19</td>\n",
              "      <td>dollar</td>\n",
              "      <td>2017</td>\n",
              "    </tr>\n",
              "    <tr>\n",
              "      <th>63</th>\n",
              "      <td>0B44C3F8</td>\n",
              "      <td>1975-02-20</td>\n",
              "      <td>45</td>\n",
              "      <td>3.738336e+04</td>\n",
              "      <td>NaN</td>\n",
              "      <td>2018-10-04</td>\n",
              "      <td>28-09-19</td>\n",
              "      <td>dollar</td>\n",
              "      <td>2018</td>\n",
              "    </tr>\n",
              "    <tr>\n",
              "      <th>75</th>\n",
              "      <td>8B359102</td>\n",
              "      <td>1974-08-16</td>\n",
              "      <td>46</td>\n",
              "      <td>1.737431e+08</td>\n",
              "      <td>NaN</td>\n",
              "      <td>2018-04-06</td>\n",
              "      <td>20-06-19</td>\n",
              "      <td>dollar</td>\n",
              "      <td>2018</td>\n",
              "    </tr>\n",
              "    <tr>\n",
              "      <th>77</th>\n",
              "      <td>46351200</td>\n",
              "      <td>1980-05-31</td>\n",
              "      <td>40</td>\n",
              "      <td>9.759530e+04</td>\n",
              "      <td>NaN</td>\n",
              "      <td>2018-08-18</td>\n",
              "      <td>20-02-20</td>\n",
              "      <td>dollar</td>\n",
              "      <td>2018</td>\n",
              "    </tr>\n",
              "    <tr>\n",
              "      <th>78</th>\n",
              "      <td>F7FC8F78</td>\n",
              "      <td>1974-05-07</td>\n",
              "      <td>46</td>\n",
              "      <td>9.685480e+04</td>\n",
              "      <td>NaN</td>\n",
              "      <td>2018-02-28</td>\n",
              "      <td>30-04-18</td>\n",
              "      <td>dollar</td>\n",
              "      <td>2018</td>\n",
              "    </tr>\n",
              "    <tr>\n",
              "      <th>84</th>\n",
              "      <td>4C7F8638</td>\n",
              "      <td>1973-12-19</td>\n",
              "      <td>47</td>\n",
              "      <td>2.413661e+04</td>\n",
              "      <td>NaN</td>\n",
              "      <td>2018-07-14</td>\n",
              "      <td>02-02-19</td>\n",
              "      <td>dollar</td>\n",
              "      <td>2018</td>\n",
              "    </tr>\n",
              "    <tr>\n",
              "      <th>85</th>\n",
              "      <td>7539C3B7</td>\n",
              "      <td>1974-05-14</td>\n",
              "      <td>50</td>\n",
              "      <td>1.077557e+06</td>\n",
              "      <td>NaN</td>\n",
              "      <td>2017-08-23</td>\n",
              "      <td>07-06-19</td>\n",
              "      <td>dollar</td>\n",
              "      <td>2017</td>\n",
              "    </tr>\n",
              "    <tr>\n",
              "      <th>86</th>\n",
              "      <td>9B550FD5</td>\n",
              "      <td>1974-01-30</td>\n",
              "      <td>46</td>\n",
              "      <td>3.618044e+04</td>\n",
              "      <td>NaN</td>\n",
              "      <td>2018-02-05</td>\n",
              "      <td>27-06-19</td>\n",
              "      <td>dollar</td>\n",
              "      <td>2018</td>\n",
              "    </tr>\n",
              "    <tr>\n",
              "      <th>91</th>\n",
              "      <td>87FDF627</td>\n",
              "      <td>1974-04-05</td>\n",
              "      <td>46</td>\n",
              "      <td>9.527546e+04</td>\n",
              "      <td>NaN</td>\n",
              "      <td>2019-02-26</td>\n",
              "      <td>25-06-18</td>\n",
              "      <td>dollar</td>\n",
              "      <td>2019</td>\n",
              "    </tr>\n",
              "    <tr>\n",
              "      <th>93</th>\n",
              "      <td>B6F69B7A</td>\n",
              "      <td>1963-08-26</td>\n",
              "      <td>57</td>\n",
              "      <td>1.012078e+05</td>\n",
              "      <td>NaN</td>\n",
              "      <td>2018-07-29</td>\n",
              "      <td>10-02-20</td>\n",
              "      <td>dollar</td>\n",
              "      <td>2018</td>\n",
              "    </tr>\n",
              "    <tr>\n",
              "      <th>95</th>\n",
              "      <td>CA507BA1</td>\n",
              "      <td>1974-08-10</td>\n",
              "      <td>46</td>\n",
              "      <td>1.343082e+04</td>\n",
              "      <td>NaN</td>\n",
              "      <td>2018-05-26</td>\n",
              "      <td>11-09-19</td>\n",
              "      <td>dollar</td>\n",
              "      <td>2018</td>\n",
              "    </tr>\n",
              "    <tr>\n",
              "      <th>99</th>\n",
              "      <td>AC91D689</td>\n",
              "      <td>1993-05-18</td>\n",
              "      <td>27</td>\n",
              "      <td>1.094397e+05</td>\n",
              "      <td>NaN</td>\n",
              "      <td>2017-01-08</td>\n",
              "      <td>04-08-19</td>\n",
              "      <td>dollar</td>\n",
              "      <td>2017</td>\n",
              "    </tr>\n",
              "  </tbody>\n",
              "</table>\n",
              "</div>"
            ],
            "text/plain": [
              "     cust_id  birth_date  Age  ...  last_transaction  acct_cur acct_year\n",
              "2   BFC13E88  1990-09-12   34  ...          02-04-18    dollar      2018\n",
              "3   F2158F66  1985-11-03   35  ...          08-11-18    dollar      2017\n",
              "14  987DC93E  1978-03-13   42  ...          06-12-18    dollar      2018\n",
              "22  96525DA6  1992-11-23   28  ...          07-08-18    dollar      2018\n",
              "23  A1815565  1968-09-27   56  ...          30-09-19    dollar      2017\n",
              "25  296A9395  1984-05-02   36  ...          19-02-19    dollar      2017\n",
              "26  1B55AA1C  1992-10-09   28  ...          22-11-19    dollar      2019\n",
              "35  078C654F  1993-10-17   27  ...          05-08-18    dollar      2017\n",
              "49  0F0884F6  1961-06-20   59  ...          24-08-19    dollar      2018\n",
              "62  93A17007  1991-08-23   29  ...          08-03-19    dollar      2017\n",
              "63  0B44C3F8  1975-02-20   45  ...          28-09-19    dollar      2018\n",
              "75  8B359102  1974-08-16   46  ...          20-06-19    dollar      2018\n",
              "77  46351200  1980-05-31   40  ...          20-02-20    dollar      2018\n",
              "78  F7FC8F78  1974-05-07   46  ...          30-04-18    dollar      2018\n",
              "84  4C7F8638  1973-12-19   47  ...          02-02-19    dollar      2018\n",
              "85  7539C3B7  1974-05-14   50  ...          07-06-19    dollar      2017\n",
              "86  9B550FD5  1974-01-30   46  ...          27-06-19    dollar      2018\n",
              "91  87FDF627  1974-04-05   46  ...          25-06-18    dollar      2019\n",
              "93  B6F69B7A  1963-08-26   57  ...          10-02-20    dollar      2018\n",
              "95  CA507BA1  1974-08-10   46  ...          11-09-19    dollar      2018\n",
              "99  AC91D689  1993-05-18   27  ...          04-08-19    dollar      2017\n",
              "\n",
              "[21 rows x 9 columns]"
            ]
          },
          "metadata": {
            "tags": []
          },
          "execution_count": 81
        }
      ]
    },
    {
      "cell_type": "code",
      "metadata": {
        "colab": {
          "base_uri": "https://localhost:8080/",
          "height": 419
        },
        "id": "forced-wellington",
        "outputId": "741940d3-3be7-408e-e571-bfd8be59f10d"
      },
      "source": [
        "banking2[~missing_investors]"
      ],
      "id": "forced-wellington",
      "execution_count": null,
      "outputs": [
        {
          "output_type": "execute_result",
          "data": {
            "text/html": [
              "<div>\n",
              "<style scoped>\n",
              "    .dataframe tbody tr th:only-of-type {\n",
              "        vertical-align: middle;\n",
              "    }\n",
              "\n",
              "    .dataframe tbody tr th {\n",
              "        vertical-align: top;\n",
              "    }\n",
              "\n",
              "    .dataframe thead th {\n",
              "        text-align: right;\n",
              "    }\n",
              "</style>\n",
              "<table border=\"1\" class=\"dataframe\">\n",
              "  <thead>\n",
              "    <tr style=\"text-align: right;\">\n",
              "      <th></th>\n",
              "      <th>cust_id</th>\n",
              "      <th>birth_date</th>\n",
              "      <th>Age</th>\n",
              "      <th>acct_amount</th>\n",
              "      <th>inv_amount</th>\n",
              "      <th>account_opened</th>\n",
              "      <th>last_transaction</th>\n",
              "      <th>acct_cur</th>\n",
              "      <th>acct_year</th>\n",
              "    </tr>\n",
              "  </thead>\n",
              "  <tbody>\n",
              "    <tr>\n",
              "      <th>0</th>\n",
              "      <td>870A9281</td>\n",
              "      <td>1962-06-09</td>\n",
              "      <td>58</td>\n",
              "      <td>69875.641</td>\n",
              "      <td>51295.0</td>\n",
              "      <td>2018-02-09</td>\n",
              "      <td>22-02-19</td>\n",
              "      <td>dollar</td>\n",
              "      <td>2018</td>\n",
              "    </tr>\n",
              "    <tr>\n",
              "      <th>1</th>\n",
              "      <td>166B05B0</td>\n",
              "      <td>1962-12-16</td>\n",
              "      <td>58</td>\n",
              "      <td>41993.006</td>\n",
              "      <td>15050.0</td>\n",
              "      <td>2019-02-28</td>\n",
              "      <td>31-10-18</td>\n",
              "      <td>dollar</td>\n",
              "      <td>2019</td>\n",
              "    </tr>\n",
              "    <tr>\n",
              "      <th>4</th>\n",
              "      <td>7A73F334</td>\n",
              "      <td>1990-05-17</td>\n",
              "      <td>30</td>\n",
              "      <td>120512.000</td>\n",
              "      <td>93230.0</td>\n",
              "      <td>2018-05-14</td>\n",
              "      <td>19-07-18</td>\n",
              "      <td>dollar</td>\n",
              "      <td>2018</td>\n",
              "    </tr>\n",
              "    <tr>\n",
              "      <th>5</th>\n",
              "      <td>472341F2</td>\n",
              "      <td>1980-02-23</td>\n",
              "      <td>40</td>\n",
              "      <td>91440.415</td>\n",
              "      <td>67960.0</td>\n",
              "      <td>2018-12-14</td>\n",
              "      <td>22-04-18</td>\n",
              "      <td>dollar</td>\n",
              "      <td>2018</td>\n",
              "    </tr>\n",
              "    <tr>\n",
              "      <th>6</th>\n",
              "      <td>6B094617</td>\n",
              "      <td>1977-08-26</td>\n",
              "      <td>43</td>\n",
              "      <td>89855.980</td>\n",
              "      <td>34549.0</td>\n",
              "      <td>2018-06-02</td>\n",
              "      <td>14-02-19</td>\n",
              "      <td>dollar</td>\n",
              "      <td>2018</td>\n",
              "    </tr>\n",
              "    <tr>\n",
              "      <th>...</th>\n",
              "      <td>...</td>\n",
              "      <td>...</td>\n",
              "      <td>...</td>\n",
              "      <td>...</td>\n",
              "      <td>...</td>\n",
              "      <td>...</td>\n",
              "      <td>...</td>\n",
              "      <td>...</td>\n",
              "      <td>...</td>\n",
              "    </tr>\n",
              "    <tr>\n",
              "      <th>92</th>\n",
              "      <td>A07D5C92</td>\n",
              "      <td>1990-09-20</td>\n",
              "      <td>30</td>\n",
              "      <td>109535.096</td>\n",
              "      <td>60407.0</td>\n",
              "      <td>2017-11-17</td>\n",
              "      <td>16-01-20</td>\n",
              "      <td>dollar</td>\n",
              "      <td>2017</td>\n",
              "    </tr>\n",
              "    <tr>\n",
              "      <th>94</th>\n",
              "      <td>A731C34E</td>\n",
              "      <td>1961-06-03</td>\n",
              "      <td>59</td>\n",
              "      <td>95352.020</td>\n",
              "      <td>84065.0</td>\n",
              "      <td>2017-11-13</td>\n",
              "      <td>13-01-19</td>\n",
              "      <td>dollar</td>\n",
              "      <td>2017</td>\n",
              "    </tr>\n",
              "    <tr>\n",
              "      <th>96</th>\n",
              "      <td>B99CD662</td>\n",
              "      <td>1989-12-12</td>\n",
              "      <td>31</td>\n",
              "      <td>102122.284</td>\n",
              "      <td>49089.0</td>\n",
              "      <td>2017-04-05</td>\n",
              "      <td>12-03-19</td>\n",
              "      <td>dollar</td>\n",
              "      <td>2017</td>\n",
              "    </tr>\n",
              "    <tr>\n",
              "      <th>97</th>\n",
              "      <td>13770971</td>\n",
              "      <td>1984-11-29</td>\n",
              "      <td>36</td>\n",
              "      <td>92750.870</td>\n",
              "      <td>27962.0</td>\n",
              "      <td>2017-08-16</td>\n",
              "      <td>24-04-19</td>\n",
              "      <td>dollar</td>\n",
              "      <td>2017</td>\n",
              "    </tr>\n",
              "    <tr>\n",
              "      <th>98</th>\n",
              "      <td>93E78DA3</td>\n",
              "      <td>1969-12-14</td>\n",
              "      <td>51</td>\n",
              "      <td>41942.230</td>\n",
              "      <td>29662.0</td>\n",
              "      <td>2017-09-10</td>\n",
              "      <td>15-04-18</td>\n",
              "      <td>dollar</td>\n",
              "      <td>2017</td>\n",
              "    </tr>\n",
              "  </tbody>\n",
              "</table>\n",
              "<p>79 rows × 9 columns</p>\n",
              "</div>"
            ],
            "text/plain": [
              "     cust_id  birth_date  Age  ...  last_transaction  acct_cur acct_year\n",
              "0   870A9281  1962-06-09   58  ...          22-02-19    dollar      2018\n",
              "1   166B05B0  1962-12-16   58  ...          31-10-18    dollar      2019\n",
              "4   7A73F334  1990-05-17   30  ...          19-07-18    dollar      2018\n",
              "5   472341F2  1980-02-23   40  ...          22-04-18    dollar      2018\n",
              "6   6B094617  1977-08-26   43  ...          14-02-19    dollar      2018\n",
              "..       ...         ...  ...  ...               ...       ...       ...\n",
              "92  A07D5C92  1990-09-20   30  ...          16-01-20    dollar      2017\n",
              "94  A731C34E  1961-06-03   59  ...          13-01-19    dollar      2017\n",
              "96  B99CD662  1989-12-12   31  ...          12-03-19    dollar      2017\n",
              "97  13770971  1984-11-29   36  ...          24-04-19    dollar      2017\n",
              "98  93E78DA3  1969-12-14   51  ...          15-04-18    dollar      2017\n",
              "\n",
              "[79 rows x 9 columns]"
            ]
          },
          "metadata": {
            "tags": []
          },
          "execution_count": 82
        }
      ]
    },
    {
      "cell_type": "code",
      "metadata": {
        "id": "fifty-reservoir"
      },
      "source": [
        "# Isolate missing and non missing values of inv_amount\n",
        "missing_investors = banking2[banking2['inv_amount'].isna()]\n",
        "investors = banking2[~banking2['inv_amount'].isna()]"
      ],
      "id": "fifty-reservoir",
      "execution_count": null,
      "outputs": []
    },
    {
      "cell_type": "code",
      "metadata": {
        "colab": {
          "base_uri": "https://localhost:8080/",
          "height": 297
        },
        "id": "ranking-drill",
        "outputId": "5abc73ec-fa1a-4da5-e130-ca999fd64cdf"
      },
      "source": [
        "missing_investors.describe()"
      ],
      "id": "ranking-drill",
      "execution_count": null,
      "outputs": [
        {
          "output_type": "execute_result",
          "data": {
            "text/html": [
              "<div>\n",
              "<style scoped>\n",
              "    .dataframe tbody tr th:only-of-type {\n",
              "        vertical-align: middle;\n",
              "    }\n",
              "\n",
              "    .dataframe tbody tr th {\n",
              "        vertical-align: top;\n",
              "    }\n",
              "\n",
              "    .dataframe thead th {\n",
              "        text-align: right;\n",
              "    }\n",
              "</style>\n",
              "<table border=\"1\" class=\"dataframe\">\n",
              "  <thead>\n",
              "    <tr style=\"text-align: right;\">\n",
              "      <th></th>\n",
              "      <th>Age</th>\n",
              "      <th>acct_amount</th>\n",
              "      <th>inv_amount</th>\n",
              "    </tr>\n",
              "  </thead>\n",
              "  <tbody>\n",
              "    <tr>\n",
              "      <th>count</th>\n",
              "      <td>21.000000</td>\n",
              "      <td>2.100000e+01</td>\n",
              "      <td>0.0</td>\n",
              "    </tr>\n",
              "    <tr>\n",
              "      <th>mean</th>\n",
              "      <td>41.428571</td>\n",
              "      <td>8.387500e+06</td>\n",
              "      <td>NaN</td>\n",
              "    </tr>\n",
              "    <tr>\n",
              "      <th>std</th>\n",
              "      <td>10.112227</td>\n",
              "      <td>3.788838e+07</td>\n",
              "      <td>NaN</td>\n",
              "    </tr>\n",
              "    <tr>\n",
              "      <th>min</th>\n",
              "      <td>27.000000</td>\n",
              "      <td>1.343082e+04</td>\n",
              "      <td>NaN</td>\n",
              "    </tr>\n",
              "    <tr>\n",
              "      <th>25%</th>\n",
              "      <td>34.000000</td>\n",
              "      <td>3.951685e+04</td>\n",
              "      <td>NaN</td>\n",
              "    </tr>\n",
              "    <tr>\n",
              "      <th>50%</th>\n",
              "      <td>45.000000</td>\n",
              "      <td>8.450581e+04</td>\n",
              "      <td>NaN</td>\n",
              "    </tr>\n",
              "    <tr>\n",
              "      <th>75%</th>\n",
              "      <td>46.000000</td>\n",
              "      <td>9.685480e+04</td>\n",
              "      <td>NaN</td>\n",
              "    </tr>\n",
              "    <tr>\n",
              "      <th>max</th>\n",
              "      <td>59.000000</td>\n",
              "      <td>1.737431e+08</td>\n",
              "      <td>NaN</td>\n",
              "    </tr>\n",
              "  </tbody>\n",
              "</table>\n",
              "</div>"
            ],
            "text/plain": [
              "             Age   acct_amount  inv_amount\n",
              "count  21.000000  2.100000e+01         0.0\n",
              "mean   41.428571  8.387500e+06         NaN\n",
              "std    10.112227  3.788838e+07         NaN\n",
              "min    27.000000  1.343082e+04         NaN\n",
              "25%    34.000000  3.951685e+04         NaN\n",
              "50%    45.000000  8.450581e+04         NaN\n",
              "75%    46.000000  9.685480e+04         NaN\n",
              "max    59.000000  1.737431e+08         NaN"
            ]
          },
          "metadata": {
            "tags": []
          },
          "execution_count": 84
        }
      ]
    },
    {
      "cell_type": "code",
      "metadata": {
        "colab": {
          "base_uri": "https://localhost:8080/",
          "height": 297
        },
        "id": "ready-shaft",
        "outputId": "2ca58bf4-2fb4-4765-90d5-412bdc6d43c3"
      },
      "source": [
        "investors.describe()"
      ],
      "id": "ready-shaft",
      "execution_count": null,
      "outputs": [
        {
          "output_type": "execute_result",
          "data": {
            "text/html": [
              "<div>\n",
              "<style scoped>\n",
              "    .dataframe tbody tr th:only-of-type {\n",
              "        vertical-align: middle;\n",
              "    }\n",
              "\n",
              "    .dataframe tbody tr th {\n",
              "        vertical-align: top;\n",
              "    }\n",
              "\n",
              "    .dataframe thead th {\n",
              "        text-align: right;\n",
              "    }\n",
              "</style>\n",
              "<table border=\"1\" class=\"dataframe\">\n",
              "  <thead>\n",
              "    <tr style=\"text-align: right;\">\n",
              "      <th></th>\n",
              "      <th>Age</th>\n",
              "      <th>acct_amount</th>\n",
              "      <th>inv_amount</th>\n",
              "    </tr>\n",
              "  </thead>\n",
              "  <tbody>\n",
              "    <tr>\n",
              "      <th>count</th>\n",
              "      <td>79.000000</td>\n",
              "      <td>7.900000e+01</td>\n",
              "      <td>79.000000</td>\n",
              "    </tr>\n",
              "    <tr>\n",
              "      <th>mean</th>\n",
              "      <td>43.632911</td>\n",
              "      <td>1.760430e+06</td>\n",
              "      <td>47567.000000</td>\n",
              "    </tr>\n",
              "    <tr>\n",
              "      <th>std</th>\n",
              "      <td>10.136475</td>\n",
              "      <td>1.492564e+07</td>\n",
              "      <td>25993.753138</td>\n",
              "    </tr>\n",
              "    <tr>\n",
              "      <th>min</th>\n",
              "      <td>27.000000</td>\n",
              "      <td>1.973387e+04</td>\n",
              "      <td>3214.000000</td>\n",
              "    </tr>\n",
              "    <tr>\n",
              "      <th>25%</th>\n",
              "      <td>34.000000</td>\n",
              "      <td>6.529522e+04</td>\n",
              "      <td>25503.000000</td>\n",
              "    </tr>\n",
              "    <tr>\n",
              "      <th>50%</th>\n",
              "      <td>46.000000</td>\n",
              "      <td>8.771865e+04</td>\n",
              "      <td>48977.000000</td>\n",
              "    </tr>\n",
              "    <tr>\n",
              "      <th>75%</th>\n",
              "      <td>52.000000</td>\n",
              "      <td>9.862057e+04</td>\n",
              "      <td>66854.000000</td>\n",
              "    </tr>\n",
              "    <tr>\n",
              "      <th>max</th>\n",
              "      <td>63.000000</td>\n",
              "      <td>1.327428e+08</td>\n",
              "      <td>94608.000000</td>\n",
              "    </tr>\n",
              "  </tbody>\n",
              "</table>\n",
              "</div>"
            ],
            "text/plain": [
              "             Age   acct_amount    inv_amount\n",
              "count  79.000000  7.900000e+01     79.000000\n",
              "mean   43.632911  1.760430e+06  47567.000000\n",
              "std    10.136475  1.492564e+07  25993.753138\n",
              "min    27.000000  1.973387e+04   3214.000000\n",
              "25%    34.000000  6.529522e+04  25503.000000\n",
              "50%    46.000000  8.771865e+04  48977.000000\n",
              "75%    52.000000  9.862057e+04  66854.000000\n",
              "max    63.000000  1.327428e+08  94608.000000"
            ]
          },
          "metadata": {
            "tags": []
          },
          "execution_count": 85
        }
      ]
    },
    {
      "cell_type": "code",
      "metadata": {
        "colab": {
          "base_uri": "https://localhost:8080/",
          "height": 695
        },
        "id": "mechanical-manitoba",
        "outputId": "7344fe3e-435d-48eb-b466-6f1732a70638"
      },
      "source": [
        "# Sort banking by age and visualize\n",
        "banking2_sorted = banking2.sort_values(by='Age')\n",
        "msno.matrix(banking2_sorted)\n",
        "plt.show()\n",
        "# since the nan values were randomly generated, this figure doesnt give us more information."
      ],
      "id": "mechanical-manitoba",
      "execution_count": null,
      "outputs": [
        {
          "output_type": "display_data",
          "data": {
            "image/png": "[encoded data removed]",
            "text/plain": [
              "<Figure size 1800x720 with 2 Axes>"
            ]
          },
          "metadata": {
            "tags": [],
            "needs_background": "light"
          }
        }
      ]
    },
    {
      "cell_type": "markdown",
      "metadata": {
        "id": "narrative-rover"
      },
      "source": [
        "### Follow the money\n",
        "In this exercise, you're working with another version of the banking DataFrame that contains missing values for both the cust_id column and the acct_amount column.\n",
        "\n",
        "You want to produce analysis on how many unique customers the bank has, the average amount held by customers and more. You know that rows with missing cust_id don't really help you, and that on average acct_amount is usually 5 times the amount of inv_amount.\n",
        "\n",
        "In this exercise, you will drop rows of banking with missing cust_ids, and impute missing values of acct_amount with some domain knowledge."
      ],
      "id": "narrative-rover"
    },
    {
      "cell_type": "code",
      "metadata": {
        "id": "colored-chapel"
      },
      "source": [
        "cust_id_series = banking.cust_id\n",
        "acct_amount_series = banking.acct_amount\n",
        "cust_id_ls = cust_id_series\n",
        "acct_amount_ls = acct_amount_series\n",
        "\n",
        "Start = 0\n",
        "Stop = len(cust_id_ls)\n",
        "limit = 10\n",
        "\n",
        "# generating 8 random numbers. To creat the condition of the study.\n",
        "rand_int_ls1 = [random.randint(Start, Stop) for iter in range(9)]\n",
        "\n",
        "for i,j  in enumerate(rand_int_ls1):\n",
        "    cust_id_ls[j] = np.nan\n",
        "\n",
        "    \n",
        "# generating 12 random numbers. To creat the condition of the study.\n",
        "rand_int_ls2 = [random.randint(Start, Stop) for iter in range(12)]\n",
        "\n",
        "for i,j  in enumerate(rand_int_ls2):\n",
        "    acct_amount_ls[j] = np.nan\n",
        "\n",
        "\n",
        "banking['cust_id'] = cust_id_ls\n",
        "banking['acct_amount'] = acct_amount_ls"
      ],
      "id": "colored-chapel",
      "execution_count": null,
      "outputs": []
    },
    {
      "cell_type": "code",
      "metadata": {
        "colab": {
          "base_uri": "https://localhost:8080/"
        },
        "id": "demanding-viewer",
        "outputId": "f3f4c5bc-e68b-4690-dd91-452051b70307"
      },
      "source": [
        "banking.isnull().sum()"
      ],
      "id": "demanding-viewer",
      "execution_count": null,
      "outputs": [
        {
          "output_type": "execute_result",
          "data": {
            "text/plain": [
              "cust_id              9\n",
              "birth_date           0\n",
              "Age                  0\n",
              "acct_amount         10\n",
              "inv_amount           0\n",
              "fund_A               0\n",
              "fund_B               0\n",
              "fund_C               0\n",
              "fund_D               0\n",
              "account_opened       0\n",
              "last_transaction     0\n",
              "acct_cur             0\n",
              "acct_year            0\n",
              "dtype: int64"
            ]
          },
          "metadata": {
            "tags": []
          },
          "execution_count": 88
        }
      ]
    },
    {
      "cell_type": "code",
      "metadata": {
        "colab": {
          "base_uri": "https://localhost:8080/"
        },
        "id": "convinced-advertiser",
        "outputId": "ed6797e9-23ab-4c1e-daa6-defa88a7decd"
      },
      "source": [
        "cust_id_ls.isnull().sum()"
      ],
      "id": "convinced-advertiser",
      "execution_count": null,
      "outputs": [
        {
          "output_type": "execute_result",
          "data": {
            "text/plain": [
              "9"
            ]
          },
          "metadata": {
            "tags": []
          },
          "execution_count": 89
        }
      ]
    },
    {
      "cell_type": "code",
      "metadata": {
        "scrolled": true,
        "colab": {
          "base_uri": "https://localhost:8080/",
          "height": 204
        },
        "id": "beautiful-mauritius",
        "outputId": "f655f584-4411-46c0-a10a-731e3e6d0305"
      },
      "source": [
        "banking.head()"
      ],
      "id": "beautiful-mauritius",
      "execution_count": null,
      "outputs": [
        {
          "output_type": "execute_result",
          "data": {
            "text/html": [
              "<div>\n",
              "<style scoped>\n",
              "    .dataframe tbody tr th:only-of-type {\n",
              "        vertical-align: middle;\n",
              "    }\n",
              "\n",
              "    .dataframe tbody tr th {\n",
              "        vertical-align: top;\n",
              "    }\n",
              "\n",
              "    .dataframe thead th {\n",
              "        text-align: right;\n",
              "    }\n",
              "</style>\n",
              "<table border=\"1\" class=\"dataframe\">\n",
              "  <thead>\n",
              "    <tr style=\"text-align: right;\">\n",
              "      <th></th>\n",
              "      <th>cust_id</th>\n",
              "      <th>birth_date</th>\n",
              "      <th>Age</th>\n",
              "      <th>acct_amount</th>\n",
              "      <th>inv_amount</th>\n",
              "      <th>fund_A</th>\n",
              "      <th>fund_B</th>\n",
              "      <th>fund_C</th>\n",
              "      <th>fund_D</th>\n",
              "      <th>account_opened</th>\n",
              "      <th>last_transaction</th>\n",
              "      <th>acct_cur</th>\n",
              "      <th>acct_year</th>\n",
              "    </tr>\n",
              "  </thead>\n",
              "  <tbody>\n",
              "    <tr>\n",
              "      <th>0</th>\n",
              "      <td>870A9281</td>\n",
              "      <td>1962-06-09</td>\n",
              "      <td>58</td>\n",
              "      <td>69875.641</td>\n",
              "      <td>51295</td>\n",
              "      <td>30105.0</td>\n",
              "      <td>4138.0</td>\n",
              "      <td>1420.0</td>\n",
              "      <td>15632.0</td>\n",
              "      <td>2018-02-09</td>\n",
              "      <td>22-02-19</td>\n",
              "      <td>dollar</td>\n",
              "      <td>2018</td>\n",
              "    </tr>\n",
              "    <tr>\n",
              "      <th>1</th>\n",
              "      <td>166B05B0</td>\n",
              "      <td>1962-12-16</td>\n",
              "      <td>58</td>\n",
              "      <td>41993.006</td>\n",
              "      <td>15050</td>\n",
              "      <td>4995.0</td>\n",
              "      <td>938.0</td>\n",
              "      <td>6696.0</td>\n",
              "      <td>2421.0</td>\n",
              "      <td>2019-02-28</td>\n",
              "      <td>31-10-18</td>\n",
              "      <td>dollar</td>\n",
              "      <td>2019</td>\n",
              "    </tr>\n",
              "    <tr>\n",
              "      <th>2</th>\n",
              "      <td>BFC13E88</td>\n",
              "      <td>1990-09-12</td>\n",
              "      <td>34</td>\n",
              "      <td>65850.147</td>\n",
              "      <td>24567</td>\n",
              "      <td>10323.0</td>\n",
              "      <td>4590.0</td>\n",
              "      <td>8469.0</td>\n",
              "      <td>1185.0</td>\n",
              "      <td>2018-04-25</td>\n",
              "      <td>02-04-18</td>\n",
              "      <td>dollar</td>\n",
              "      <td>2018</td>\n",
              "    </tr>\n",
              "    <tr>\n",
              "      <th>3</th>\n",
              "      <td>F2158F66</td>\n",
              "      <td>1985-11-03</td>\n",
              "      <td>35</td>\n",
              "      <td>92545.310</td>\n",
              "      <td>23712</td>\n",
              "      <td>3908.0</td>\n",
              "      <td>492.0</td>\n",
              "      <td>6482.0</td>\n",
              "      <td>12830.0</td>\n",
              "      <td>2017-07-11</td>\n",
              "      <td>08-11-18</td>\n",
              "      <td>dollar</td>\n",
              "      <td>2017</td>\n",
              "    </tr>\n",
              "    <tr>\n",
              "      <th>4</th>\n",
              "      <td>7A73F334</td>\n",
              "      <td>1990-05-17</td>\n",
              "      <td>30</td>\n",
              "      <td>120512.000</td>\n",
              "      <td>93230</td>\n",
              "      <td>12158.4</td>\n",
              "      <td>51281.0</td>\n",
              "      <td>13434.0</td>\n",
              "      <td>18383.0</td>\n",
              "      <td>2018-05-14</td>\n",
              "      <td>19-07-18</td>\n",
              "      <td>dollar</td>\n",
              "      <td>2018</td>\n",
              "    </tr>\n",
              "  </tbody>\n",
              "</table>\n",
              "</div>"
            ],
            "text/plain": [
              "    cust_id  birth_date  Age  ...  last_transaction  acct_cur  acct_year\n",
              "0  870A9281  1962-06-09   58  ...          22-02-19    dollar       2018\n",
              "1  166B05B0  1962-12-16   58  ...          31-10-18    dollar       2019\n",
              "2  BFC13E88  1990-09-12   34  ...          02-04-18    dollar       2018\n",
              "3  F2158F66  1985-11-03   35  ...          08-11-18    dollar       2017\n",
              "4  7A73F334  1990-05-17   30  ...          19-07-18    dollar       2018\n",
              "\n",
              "[5 rows x 13 columns]"
            ]
          },
          "metadata": {
            "tags": []
          },
          "execution_count": 90
        }
      ]
    },
    {
      "cell_type": "code",
      "metadata": {
        "id": "broken-confirmation"
      },
      "source": [
        "# Drop missing values of cust_id\n",
        "banking_fullid = banking.dropna(subset = ['cust_id'])"
      ],
      "id": "broken-confirmation",
      "execution_count": null,
      "outputs": []
    },
    {
      "cell_type": "code",
      "metadata": {
        "id": "curious-mountain"
      },
      "source": [
        "# Compute estimated inv_amount\n",
        "acct_imp = banking_fullid['inv_amount'] * 5 "
      ],
      "id": "curious-mountain",
      "execution_count": null,
      "outputs": []
    },
    {
      "cell_type": "code",
      "metadata": {
        "colab": {
          "base_uri": "https://localhost:8080/"
        },
        "id": "chinese-proportion",
        "outputId": "1f9664c2-ccab-46f3-de96-f200a4783dd6"
      },
      "source": [
        "acct_imp"
      ],
      "id": "chinese-proportion",
      "execution_count": null,
      "outputs": [
        {
          "output_type": "execute_result",
          "data": {
            "text/plain": [
              "0     256475\n",
              "1      75250\n",
              "2     122835\n",
              "3     118560\n",
              "4     466150\n",
              "       ...  \n",
              "95     37575\n",
              "96    245445\n",
              "97    139810\n",
              "98    148310\n",
              "99    160745\n",
              "Name: inv_amount, Length: 91, dtype: int64"
            ]
          },
          "metadata": {
            "tags": []
          },
          "execution_count": 93
        }
      ]
    },
    {
      "cell_type": "code",
      "metadata": {
        "id": "satellite-electronics"
      },
      "source": [
        "# Impute missing inv_amount with corresponding acct_imp\n",
        "banking_imputed = banking_fullid.fillna({'acct_amount':acct_imp})\n",
        "# acct_imp is a series. only nan values will be picked up."
      ],
      "id": "satellite-electronics",
      "execution_count": null,
      "outputs": []
    },
    {
      "cell_type": "code",
      "metadata": {
        "colab": {
          "base_uri": "https://localhost:8080/",
          "height": 204
        },
        "id": "experienced-satellite",
        "outputId": "26390a27-fe04-4798-b963-f63a3d4c157b"
      },
      "source": [
        "banking_imputed.head()"
      ],
      "id": "experienced-satellite",
      "execution_count": null,
      "outputs": [
        {
          "output_type": "execute_result",
          "data": {
            "text/html": [
              "<div>\n",
              "<style scoped>\n",
              "    .dataframe tbody tr th:only-of-type {\n",
              "        vertical-align: middle;\n",
              "    }\n",
              "\n",
              "    .dataframe tbody tr th {\n",
              "        vertical-align: top;\n",
              "    }\n",
              "\n",
              "    .dataframe thead th {\n",
              "        text-align: right;\n",
              "    }\n",
              "</style>\n",
              "<table border=\"1\" class=\"dataframe\">\n",
              "  <thead>\n",
              "    <tr style=\"text-align: right;\">\n",
              "      <th></th>\n",
              "      <th>cust_id</th>\n",
              "      <th>birth_date</th>\n",
              "      <th>Age</th>\n",
              "      <th>acct_amount</th>\n",
              "      <th>inv_amount</th>\n",
              "      <th>fund_A</th>\n",
              "      <th>fund_B</th>\n",
              "      <th>fund_C</th>\n",
              "      <th>fund_D</th>\n",
              "      <th>account_opened</th>\n",
              "      <th>last_transaction</th>\n",
              "      <th>acct_cur</th>\n",
              "      <th>acct_year</th>\n",
              "    </tr>\n",
              "  </thead>\n",
              "  <tbody>\n",
              "    <tr>\n",
              "      <th>0</th>\n",
              "      <td>870A9281</td>\n",
              "      <td>1962-06-09</td>\n",
              "      <td>58</td>\n",
              "      <td>69875.641</td>\n",
              "      <td>51295</td>\n",
              "      <td>30105.0</td>\n",
              "      <td>4138.0</td>\n",
              "      <td>1420.0</td>\n",
              "      <td>15632.0</td>\n",
              "      <td>2018-02-09</td>\n",
              "      <td>22-02-19</td>\n",
              "      <td>dollar</td>\n",
              "      <td>2018</td>\n",
              "    </tr>\n",
              "    <tr>\n",
              "      <th>1</th>\n",
              "      <td>166B05B0</td>\n",
              "      <td>1962-12-16</td>\n",
              "      <td>58</td>\n",
              "      <td>41993.006</td>\n",
              "      <td>15050</td>\n",
              "      <td>4995.0</td>\n",
              "      <td>938.0</td>\n",
              "      <td>6696.0</td>\n",
              "      <td>2421.0</td>\n",
              "      <td>2019-02-28</td>\n",
              "      <td>31-10-18</td>\n",
              "      <td>dollar</td>\n",
              "      <td>2019</td>\n",
              "    </tr>\n",
              "    <tr>\n",
              "      <th>2</th>\n",
              "      <td>BFC13E88</td>\n",
              "      <td>1990-09-12</td>\n",
              "      <td>34</td>\n",
              "      <td>65850.147</td>\n",
              "      <td>24567</td>\n",
              "      <td>10323.0</td>\n",
              "      <td>4590.0</td>\n",
              "      <td>8469.0</td>\n",
              "      <td>1185.0</td>\n",
              "      <td>2018-04-25</td>\n",
              "      <td>02-04-18</td>\n",
              "      <td>dollar</td>\n",
              "      <td>2018</td>\n",
              "    </tr>\n",
              "    <tr>\n",
              "      <th>3</th>\n",
              "      <td>F2158F66</td>\n",
              "      <td>1985-11-03</td>\n",
              "      <td>35</td>\n",
              "      <td>92545.310</td>\n",
              "      <td>23712</td>\n",
              "      <td>3908.0</td>\n",
              "      <td>492.0</td>\n",
              "      <td>6482.0</td>\n",
              "      <td>12830.0</td>\n",
              "      <td>2017-07-11</td>\n",
              "      <td>08-11-18</td>\n",
              "      <td>dollar</td>\n",
              "      <td>2017</td>\n",
              "    </tr>\n",
              "    <tr>\n",
              "      <th>4</th>\n",
              "      <td>7A73F334</td>\n",
              "      <td>1990-05-17</td>\n",
              "      <td>30</td>\n",
              "      <td>120512.000</td>\n",
              "      <td>93230</td>\n",
              "      <td>12158.4</td>\n",
              "      <td>51281.0</td>\n",
              "      <td>13434.0</td>\n",
              "      <td>18383.0</td>\n",
              "      <td>2018-05-14</td>\n",
              "      <td>19-07-18</td>\n",
              "      <td>dollar</td>\n",
              "      <td>2018</td>\n",
              "    </tr>\n",
              "  </tbody>\n",
              "</table>\n",
              "</div>"
            ],
            "text/plain": [
              "    cust_id  birth_date  Age  ...  last_transaction  acct_cur  acct_year\n",
              "0  870A9281  1962-06-09   58  ...          22-02-19    dollar       2018\n",
              "1  166B05B0  1962-12-16   58  ...          31-10-18    dollar       2019\n",
              "2  BFC13E88  1990-09-12   34  ...          02-04-18    dollar       2018\n",
              "3  F2158F66  1985-11-03   35  ...          08-11-18    dollar       2017\n",
              "4  7A73F334  1990-05-17   30  ...          19-07-18    dollar       2018\n",
              "\n",
              "[5 rows x 13 columns]"
            ]
          },
          "metadata": {
            "tags": []
          },
          "execution_count": 95
        }
      ]
    },
    {
      "cell_type": "code",
      "metadata": {
        "scrolled": true,
        "colab": {
          "base_uri": "https://localhost:8080/"
        },
        "id": "superb-harvey",
        "outputId": "17a65911-4769-41de-884d-980d4d5073e5"
      },
      "source": [
        "# Print number of missing values\n",
        "print(banking_imputed.isna().sum())"
      ],
      "id": "superb-harvey",
      "execution_count": null,
      "outputs": [
        {
          "output_type": "stream",
          "text": [
            "cust_id             0\n",
            "birth_date          0\n",
            "Age                 0\n",
            "acct_amount         0\n",
            "inv_amount          0\n",
            "fund_A              0\n",
            "fund_B              0\n",
            "fund_C              0\n",
            "fund_D              0\n",
            "account_opened      0\n",
            "last_transaction    0\n",
            "acct_cur            0\n",
            "acct_year           0\n",
            "dtype: int64\n"
          ],
          "name": "stdout"
        }
      ]
    },
    {
      "cell_type": "markdown",
      "metadata": {
        "id": "third-chamber"
      },
      "source": [
        "# Section 4\n",
        "### Minimum edit distance\n",
        "In the video exercise, you saw how minimum edit distance is used to identify how similar two strings are. As a reminder, minimum edit distance is the minimum number of steps needed to reach from String A to String B, with the operations available being:\n",
        "\n",
        "Insertion of a new character.\n",
        "Deletion of an existing character.\n",
        "Substitution of an existing character.\n",
        "Transposition of two existing consecutive characters.\n",
        "\n",
        "                    What is the minimum edit distance from 'sign' to 'sing', and which operation(s) gets you there?\n",
        "                    \n",
        "                    1 by transposing 'g' with 'n'.\n"
      ],
      "id": "third-chamber"
    },
    {
      "cell_type": "markdown",
      "metadata": {
        "id": "fantastic-digest"
      },
      "source": [
        "### The cutoff point\n",
        "In this exercise, and throughout this chapter, you'll be working with the restaurants DataFrame which has data on various restaurants. Your ultimate goal is to create a restaurant recommendation engine, but you need to first clean your data.\n",
        "\n",
        "This version of restaurants has been collected from many sources, where the cuisine_type column is riddled with typos, and should contain only italian, american and asian cuisine types. There are so many unique categories that remapping them manually isn't scalable, and it's best to use string similarity instead.\n",
        "\n",
        "Before doing so, you want to establish the cutoff point for the similarity score using the fuzzywuzzy's process.extract() function by finding the similarity score of the most distant typo of each category."
      ],
      "id": "fantastic-digest"
    },
    {
      "cell_type": "code",
      "metadata": {
        "colab": {
          "base_uri": "https://localhost:8080/",
          "height": 204
        },
        "id": "abroad-candidate",
        "outputId": "29207d07-fce0-4519-f7b1-180c53acedec"
      },
      "source": [
        "restaurants = pd.read_csv(path+'/restaurants_L2.csv')\n",
        "restaurants.head()"
      ],
      "id": "abroad-candidate",
      "execution_count": null,
      "outputs": [
        {
          "output_type": "execute_result",
          "data": {
            "text/html": [
              "<div>\n",
              "<style scoped>\n",
              "    .dataframe tbody tr th:only-of-type {\n",
              "        vertical-align: middle;\n",
              "    }\n",
              "\n",
              "    .dataframe tbody tr th {\n",
              "        vertical-align: top;\n",
              "    }\n",
              "\n",
              "    .dataframe thead th {\n",
              "        text-align: right;\n",
              "    }\n",
              "</style>\n",
              "<table border=\"1\" class=\"dataframe\">\n",
              "  <thead>\n",
              "    <tr style=\"text-align: right;\">\n",
              "      <th></th>\n",
              "      <th>Unnamed: 0</th>\n",
              "      <th>name</th>\n",
              "      <th>addr</th>\n",
              "      <th>city</th>\n",
              "      <th>phone</th>\n",
              "      <th>type</th>\n",
              "    </tr>\n",
              "  </thead>\n",
              "  <tbody>\n",
              "    <tr>\n",
              "      <th>0</th>\n",
              "      <td>0</td>\n",
              "      <td>arnie morton's of chicago</td>\n",
              "      <td>435 s. la cienega blv .</td>\n",
              "      <td>los angeles</td>\n",
              "      <td>3102461501</td>\n",
              "      <td>american</td>\n",
              "    </tr>\n",
              "    <tr>\n",
              "      <th>1</th>\n",
              "      <td>1</td>\n",
              "      <td>art's delicatessen</td>\n",
              "      <td>12224 ventura blvd.</td>\n",
              "      <td>studio city</td>\n",
              "      <td>8187621221</td>\n",
              "      <td>american</td>\n",
              "    </tr>\n",
              "    <tr>\n",
              "      <th>2</th>\n",
              "      <td>2</td>\n",
              "      <td>campanile</td>\n",
              "      <td>624 s. la brea ave.</td>\n",
              "      <td>los angeles</td>\n",
              "      <td>2139381447</td>\n",
              "      <td>american</td>\n",
              "    </tr>\n",
              "    <tr>\n",
              "      <th>3</th>\n",
              "      <td>3</td>\n",
              "      <td>fenix</td>\n",
              "      <td>8358 sunset blvd. west</td>\n",
              "      <td>hollywood</td>\n",
              "      <td>2138486677</td>\n",
              "      <td>american</td>\n",
              "    </tr>\n",
              "    <tr>\n",
              "      <th>4</th>\n",
              "      <td>4</td>\n",
              "      <td>grill on the alley</td>\n",
              "      <td>9560 dayton way</td>\n",
              "      <td>los angeles</td>\n",
              "      <td>3102760615</td>\n",
              "      <td>american</td>\n",
              "    </tr>\n",
              "  </tbody>\n",
              "</table>\n",
              "</div>"
            ],
            "text/plain": [
              "   Unnamed: 0                       name  ...       phone      type\n",
              "0           0  arnie morton's of chicago  ...  3102461501  american\n",
              "1           1         art's delicatessen  ...  8187621221  american\n",
              "2           2                  campanile  ...  2139381447  american\n",
              "3           3                      fenix  ...  2138486677  american\n",
              "4           4         grill on the alley  ...  3102760615  american\n",
              "\n",
              "[5 rows x 6 columns]"
            ]
          },
          "metadata": {
            "tags": []
          },
          "execution_count": 98
        }
      ]
    },
    {
      "cell_type": "code",
      "metadata": {
        "colab": {
          "base_uri": "https://localhost:8080/"
        },
        "id": "blank-horror",
        "outputId": "b0152ed4-2657-4e0e-95b0-365b7a25e778"
      },
      "source": [
        "restaurants.info()"
      ],
      "id": "blank-horror",
      "execution_count": null,
      "outputs": [
        {
          "output_type": "stream",
          "text": [
            "<class 'pandas.core.frame.DataFrame'>\n",
            "RangeIndex: 336 entries, 0 to 335\n",
            "Data columns (total 6 columns):\n",
            " #   Column      Non-Null Count  Dtype \n",
            "---  ------      --------------  ----- \n",
            " 0   Unnamed: 0  336 non-null    int64 \n",
            " 1   name        336 non-null    object\n",
            " 2   addr        336 non-null    object\n",
            " 3   city        336 non-null    object\n",
            " 4   phone       336 non-null    int64 \n",
            " 5   type        336 non-null    object\n",
            "dtypes: int64(2), object(4)\n",
            "memory usage: 15.9+ KB\n"
          ],
          "name": "stdout"
        }
      ]
    },
    {
      "cell_type": "code",
      "metadata": {
        "colab": {
          "base_uri": "https://localhost:8080/"
        },
        "id": "ideal-filling",
        "outputId": "f0c9d2ef-a7ea-4559-d26d-1464994c4f7e"
      },
      "source": [
        "restaurants['type'].unique()"
      ],
      "id": "ideal-filling",
      "execution_count": null,
      "outputs": [
        {
          "output_type": "execute_result",
          "data": {
            "text/plain": [
              "array(['american', 'asian', 'italian', 'coffeebar', 'mexican',\n",
              "       'southwestern', 'steakhouses', 'southern', 'cajun'], dtype=object)"
            ]
          },
          "metadata": {
            "tags": []
          },
          "execution_count": 100
        }
      ]
    },
    {
      "cell_type": "code",
      "metadata": {
        "id": "robust-photograph"
      },
      "source": [
        "# restaurants2 = pd.read_csv('./restaurants_L2_dirty.csv')\n",
        "# restaurants2.head()"
      ],
      "id": "robust-photograph",
      "execution_count": null,
      "outputs": []
    },
    {
      "cell_type": "code",
      "metadata": {
        "colab": {
          "base_uri": "https://localhost:8080/"
        },
        "id": "english-clearing",
        "outputId": "e80a67c5-0a55-4b85-dc34-6d9e790f60bb"
      },
      "source": [
        "!pip install fuzzywuzzy\n",
        "from fuzzywuzzy import fuzz\n",
        "from fuzzywuzzy import process"
      ],
      "id": "english-clearing",
      "execution_count": null,
      "outputs": [
        {
          "output_type": "stream",
          "text": [
            "Collecting fuzzywuzzy\n",
            "  Downloading https://files.pythonhosted.org/packages/43/ff/74f23998ad2f93b945c0309f825be92e04e0348e062026998b5eefef4c33/fuzzywuzzy-0.18.0-py2.py3-none-any.whl\n",
            "Installing collected packages: fuzzywuzzy\n",
            "Successfully installed fuzzywuzzy-0.18.0\n"
          ],
          "name": "stdout"
        }
      ]
    },
    {
      "cell_type": "code",
      "metadata": {
        "colab": {
          "base_uri": "https://localhost:8080/"
        },
        "id": "southeast-producer",
        "outputId": "f6c4e6bf-5d09-468d-9a5d-8d8c7a499496"
      },
      "source": [
        "unique_types = ['america', 'merican', 'amurican', 'americen', 'americann',\n",
        "       'asiane', 'itali', 'asiann', 'murican', 'italien', 'italian',\n",
        "       'asiat', 'american', 'americano', 'italiann', 'ameerican',\n",
        "       'asianne', 'italiano', 'americin', 'ammericann', 'amerycan',\n",
        "       'aamerican', 'ameriican', 'italiaan', 'asiian', 'asiaan',\n",
        "       'amerrican', 'ameerrican', 'ammereican', 'asian', 'italianne',\n",
        "       'italiian', 'itallian']\n",
        "len(unique_types)"
      ],
      "id": "southeast-producer",
      "execution_count": null,
      "outputs": [
        {
          "output_type": "execute_result",
          "data": {
            "text/plain": [
              "33"
            ]
          },
          "metadata": {
            "tags": []
          },
          "execution_count": 105
        }
      ]
    },
    {
      "cell_type": "code",
      "metadata": {
        "id": "polished-anatomy"
      },
      "source": [
        "# generating 33 random numbers. To creat the condition of the study. These typos were not available in the csv file.\n",
        "start = 0\n",
        "stop = len(unique_types)-1\n",
        "\n",
        "cuisine_type_ls = [unique_types[random.randint(start, stop)] for iter in range(restaurants.shape[0])]\n",
        "restaurants['cuisine_type'] = cuisine_type_ls"
      ],
      "id": "polished-anatomy",
      "execution_count": null,
      "outputs": []
    },
    {
      "cell_type": "code",
      "metadata": {
        "colab": {
          "base_uri": "https://localhost:8080/"
        },
        "id": "colonial-rolling",
        "outputId": "69a96124-872c-478b-b3ed-5392428c594d"
      },
      "source": [
        "# Import process from fuzzywuzzy\n",
        "from fuzzywuzzy import fuzz\n",
        "from fuzzywuzzy import process\n",
        "\n",
        "# Store the unique values of cuisine_type in unique_types\n",
        "unique_types = restaurants['cuisine_type'].unique()\n",
        "unique_types"
      ],
      "id": "colonial-rolling",
      "execution_count": null,
      "outputs": [
        {
          "output_type": "execute_result",
          "data": {
            "text/plain": [
              "array(['italiann', 'americen', 'italiaan', 'asiann', 'ammericann',\n",
              "       'amerrican', 'asiian', 'ameerrican', 'americin', 'americano',\n",
              "       'itali', 'america', 'asiane', 'aamerican', 'american', 'ameerican',\n",
              "       'italien', 'murican', 'asian', 'merican', 'asianne', 'ameriican',\n",
              "       'italiano', 'asiaan', 'italian', 'amerycan', 'amurican', 'asiat',\n",
              "       'ammereican', 'americann', 'italiian', 'itallian', 'italianne'],\n",
              "      dtype=object)"
            ]
          },
          "metadata": {
            "tags": []
          },
          "execution_count": 107
        }
      ]
    },
    {
      "cell_type": "code",
      "metadata": {
        "colab": {
          "base_uri": "https://localhost:8080/"
        },
        "id": "sharing-times",
        "outputId": "cb58a1ed-f9e7-4fd2-c257-f6258c251462"
      },
      "source": [
        "# Import process from fuzzywuzzy\n",
        "from fuzzywuzzy import process\n",
        "\n",
        "# Store the unique values of cuisine_type in unique_types\n",
        "unique_types = restaurants['cuisine_type'].unique()\n",
        "unique_types\n",
        "\n",
        "# Calculate similarity of 'asian' to all values of unique_types\n",
        "print(process.extract('asian', unique_types, limit = len(unique_types)))\n",
        "\n",
        "# Calculate similarity of 'american' to all values of unique_types\n",
        "print(process.extract('american', unique_types, limit = len(unique_types)))\n",
        "# Calculate similarity of 'italian' to all values of unique_types\n",
        "print(process.extract('italian', unique_types, limit = len(unique_types)))"
      ],
      "id": "sharing-times",
      "execution_count": null,
      "outputs": [
        {
          "output_type": "stream",
          "text": [
            "[('asian', 100), ('asiann', 91), ('asiian', 91), ('asiane', 91), ('asiaan', 91), ('asianne', 83), ('asiat', 80), ('italiann', 72), ('italiano', 72), ('italianne', 72), ('italian', 67), ('italiaan', 62), ('american', 62), ('amurican', 62), ('italiian', 62), ('itallian', 62), ('amerrican', 57), ('americano', 57), ('aamerican', 57), ('ameerican', 57), ('ameriican', 57), ('americann', 57), ('ammericann', 54), ('ameerrican', 54), ('ammereican', 54), ('america', 50), ('italien', 50), ('murican', 50), ('merican', 50), ('americen', 46), ('americin', 46), ('amerycan', 46), ('itali', 40)]\n",
            "[('american', 100), ('amerrican', 94), ('americano', 94), ('aamerican', 94), ('ameerican', 94), ('ameriican', 94), ('americann', 94), ('america', 93), ('merican', 93), ('ammericann', 89), ('ameerrican', 89), ('ammereican', 89), ('americen', 88), ('americin', 88), ('amerycan', 88), ('amurican', 88), ('murican', 80), ('asian', 62), ('asiann', 57), ('asiian', 57), ('asiane', 57), ('asiaan', 57), ('asianne', 53), ('italian', 53), ('italiann', 50), ('italiaan', 50), ('italiano', 50), ('italiian', 50), ('itallian', 50), ('italianne', 47), ('asiat', 46), ('itali', 40), ('italien', 40)]\n",
            "[('italian', 100), ('italiann', 93), ('italiaan', 93), ('italiano', 93), ('italiian', 93), ('itallian', 93), ('italianne', 88), ('italien', 86), ('itali', 83), ('asian', 67), ('asiann', 62), ('asiian', 62), ('asiane', 62), ('asiaan', 62), ('asianne', 57), ('ameriican', 50), ('asiat', 50), ('murican', 43), ('merican', 43), ('americin', 40), ('american', 40), ('amerycan', 40), ('amurican', 40), ('amerrican', 38), ('americano', 38), ('aamerican', 38), ('ameerican', 38), ('americann', 38), ('ammericann', 35), ('ameerrican', 35), ('ammereican', 35), ('america', 29), ('americen', 27)]\n"
          ],
          "name": "stdout"
        }
      ]
    },
    {
      "cell_type": "markdown",
      "metadata": {
        "id": "illegal-alignment"
      },
      "source": [
        "### Question\n",
        "Take a look at the output, what do you think should be the similarity cutoff point when remapping categories?\n",
        "answer: 80"
      ],
      "id": "illegal-alignment"
    },
    {
      "cell_type": "markdown",
      "metadata": {
        "id": "thick-inflation"
      },
      "source": [
        "### Remapping categories II\n",
        "In the last exercise, you determined that the distance cutoff point for remapping typos of 'american', 'asian', and 'italian' cuisine types stored in the cuisine_type column should be 80.\n",
        "\n",
        "In this exercise, you're going to put it all together by finding matches with similarity scores equal to or higher than 80 by using fuzywuzzy.process's extract() function, for each correct cuisine type, and replacing these matches with it. Remember, when comparing a string with an array of strings using process.extract(), the output is a list of tuples where each of tuple is as such:"
      ],
      "id": "thick-inflation"
    },
    {
      "cell_type": "code",
      "metadata": {
        "id": "floating-consultation"
      },
      "source": [
        "# Create a list of matches, comparing 'italian' with the cuisine_type column\n",
        "matches = process.extract('italian', restaurants['cuisine_type'], limit=len(restaurants.cuisine_type))\n"
      ],
      "id": "floating-consultation",
      "execution_count": null,
      "outputs": []
    },
    {
      "cell_type": "code",
      "metadata": {
        "id": "secondary-origin"
      },
      "source": [
        "# Iterate through the list of matches to italian\n",
        "for match in matches:\n",
        "  # Check whether the similarity score is greater than or equal to 80\n",
        "  if match[1]>80:\n",
        "    restaurants.loc[restaurants['cuisine_type']==match[0], 'cuisine_type'] = 'italian'\n",
        "\n"
      ],
      "id": "secondary-origin",
      "execution_count": null,
      "outputs": []
    },
    {
      "cell_type": "code",
      "metadata": {
        "colab": {
          "base_uri": "https://localhost:8080/",
          "height": 419
        },
        "id": "standing-prairie",
        "outputId": "197b59d3-7a12-4cc9-8863-0c48b3c80b8e"
      },
      "source": [
        "# Select all rows where the cuisine_type is spelled this way, and set them to the correct cuisine\n",
        "restaurants[restaurants['cuisine_type']=='italian']"
      ],
      "id": "standing-prairie",
      "execution_count": null,
      "outputs": [
        {
          "output_type": "execute_result",
          "data": {
            "text/html": [
              "<div>\n",
              "<style scoped>\n",
              "    .dataframe tbody tr th:only-of-type {\n",
              "        vertical-align: middle;\n",
              "    }\n",
              "\n",
              "    .dataframe tbody tr th {\n",
              "        vertical-align: top;\n",
              "    }\n",
              "\n",
              "    .dataframe thead th {\n",
              "        text-align: right;\n",
              "    }\n",
              "</style>\n",
              "<table border=\"1\" class=\"dataframe\">\n",
              "  <thead>\n",
              "    <tr style=\"text-align: right;\">\n",
              "      <th></th>\n",
              "      <th>Unnamed: 0</th>\n",
              "      <th>name</th>\n",
              "      <th>addr</th>\n",
              "      <th>city</th>\n",
              "      <th>phone</th>\n",
              "      <th>type</th>\n",
              "      <th>cuisine_type</th>\n",
              "    </tr>\n",
              "  </thead>\n",
              "  <tbody>\n",
              "    <tr>\n",
              "      <th>0</th>\n",
              "      <td>0</td>\n",
              "      <td>arnie morton's of chicago</td>\n",
              "      <td>435 s. la cienega blv .</td>\n",
              "      <td>los angeles</td>\n",
              "      <td>3102461501</td>\n",
              "      <td>american</td>\n",
              "      <td>italian</td>\n",
              "    </tr>\n",
              "    <tr>\n",
              "      <th>2</th>\n",
              "      <td>2</td>\n",
              "      <td>campanile</td>\n",
              "      <td>624 s. la brea ave.</td>\n",
              "      <td>los angeles</td>\n",
              "      <td>2139381447</td>\n",
              "      <td>american</td>\n",
              "      <td>italian</td>\n",
              "    </tr>\n",
              "    <tr>\n",
              "      <th>8</th>\n",
              "      <td>8</td>\n",
              "      <td>the palm</td>\n",
              "      <td>9001 santa monica blvd.</td>\n",
              "      <td>los angeles</td>\n",
              "      <td>3105508811</td>\n",
              "      <td>american</td>\n",
              "      <td>italian</td>\n",
              "    </tr>\n",
              "    <tr>\n",
              "      <th>11</th>\n",
              "      <td>11</td>\n",
              "      <td>valentino</td>\n",
              "      <td>3115 pico blvd.</td>\n",
              "      <td>santa monica</td>\n",
              "      <td>3108294313</td>\n",
              "      <td>italian</td>\n",
              "      <td>italian</td>\n",
              "    </tr>\n",
              "    <tr>\n",
              "      <th>15</th>\n",
              "      <td>15</td>\n",
              "      <td>cafe lalo</td>\n",
              "      <td>201 w. 83rd st.</td>\n",
              "      <td>new york</td>\n",
              "      <td>2124966031</td>\n",
              "      <td>coffeebar</td>\n",
              "      <td>italian</td>\n",
              "    </tr>\n",
              "    <tr>\n",
              "      <th>...</th>\n",
              "      <td>...</td>\n",
              "      <td>...</td>\n",
              "      <td>...</td>\n",
              "      <td>...</td>\n",
              "      <td>...</td>\n",
              "      <td>...</td>\n",
              "      <td>...</td>\n",
              "    </tr>\n",
              "    <tr>\n",
              "      <th>323</th>\n",
              "      <td>323</td>\n",
              "      <td>rumpus</td>\n",
              "      <td>1 tillman pl .</td>\n",
              "      <td>san francisco</td>\n",
              "      <td>4154212300</td>\n",
              "      <td>american</td>\n",
              "      <td>italian</td>\n",
              "    </tr>\n",
              "    <tr>\n",
              "      <th>327</th>\n",
              "      <td>327</td>\n",
              "      <td>stars cafe</td>\n",
              "      <td>500 van ness ave.</td>\n",
              "      <td>san francisco</td>\n",
              "      <td>4158614344</td>\n",
              "      <td>american</td>\n",
              "      <td>italian</td>\n",
              "    </tr>\n",
              "    <tr>\n",
              "      <th>330</th>\n",
              "      <td>330</td>\n",
              "      <td>ton kiang</td>\n",
              "      <td>3148 geary blvd.</td>\n",
              "      <td>san francisco</td>\n",
              "      <td>4157524440</td>\n",
              "      <td>asian</td>\n",
              "      <td>italian</td>\n",
              "    </tr>\n",
              "    <tr>\n",
              "      <th>331</th>\n",
              "      <td>331</td>\n",
              "      <td>vivande porta via</td>\n",
              "      <td>2125 fillmore st.</td>\n",
              "      <td>san francisco</td>\n",
              "      <td>4153464430</td>\n",
              "      <td>italian</td>\n",
              "      <td>italian</td>\n",
              "    </tr>\n",
              "    <tr>\n",
              "      <th>332</th>\n",
              "      <td>332</td>\n",
              "      <td>vivande ristorante</td>\n",
              "      <td>670 golden gate ave.</td>\n",
              "      <td>san francisco</td>\n",
              "      <td>4156739245</td>\n",
              "      <td>italian</td>\n",
              "      <td>italian</td>\n",
              "    </tr>\n",
              "  </tbody>\n",
              "</table>\n",
              "<p>100 rows × 7 columns</p>\n",
              "</div>"
            ],
            "text/plain": [
              "     Unnamed: 0                       name  ...       type cuisine_type\n",
              "0             0  arnie morton's of chicago  ...   american      italian\n",
              "2             2                  campanile  ...   american      italian\n",
              "8             8                   the palm  ...   american      italian\n",
              "11           11                  valentino  ...    italian      italian\n",
              "15           15                  cafe lalo  ...  coffeebar      italian\n",
              "..          ...                        ...  ...        ...          ...\n",
              "323         323                     rumpus  ...   american      italian\n",
              "327         327                 stars cafe  ...   american      italian\n",
              "330         330                  ton kiang  ...      asian      italian\n",
              "331         331          vivande porta via  ...    italian      italian\n",
              "332         332         vivande ristorante  ...    italian      italian\n",
              "\n",
              "[100 rows x 7 columns]"
            ]
          },
          "metadata": {
            "tags": []
          },
          "execution_count": 111
        }
      ]
    },
    {
      "cell_type": "code",
      "metadata": {
        "id": "cosmetic-modem"
      },
      "source": [
        "categories = list(['italian', 'asian', 'american'])"
      ],
      "id": "cosmetic-modem",
      "execution_count": null,
      "outputs": []
    },
    {
      "cell_type": "code",
      "metadata": {
        "colab": {
          "base_uri": "https://localhost:8080/"
        },
        "id": "occasional-signature",
        "outputId": "37dc2424-d91d-4a2f-cad9-518296355913"
      },
      "source": [
        "categories"
      ],
      "id": "occasional-signature",
      "execution_count": null,
      "outputs": [
        {
          "output_type": "execute_result",
          "data": {
            "text/plain": [
              "['italian', 'asian', 'american']"
            ]
          },
          "metadata": {
            "tags": []
          },
          "execution_count": 113
        }
      ]
    },
    {
      "cell_type": "code",
      "metadata": {
        "colab": {
          "base_uri": "https://localhost:8080/"
        },
        "id": "worldwide-alpha",
        "outputId": "36d4697e-953c-434e-8ffc-4cfdbf597ae4"
      },
      "source": [
        "# Iterate through categories\n",
        "for cuisine in categories:  \n",
        "  # Create a list of matches, comparing cuisine with the cuisine_type column\n",
        "  matches = process.extract(cuisine, restaurants['cuisine_type'], limit=len(restaurants.cuisine_type))\n",
        "\n",
        "  # Iterate through the list of matches\n",
        "  for match in matches:\n",
        "     # Check whether the similarity score is greater than or equal to 80\n",
        "    if match[1] >= 80:\n",
        "      # If it is, select all rows where the cuisine_type is spelled this way, and set them to the correct cuisine\n",
        "      restaurants.loc[restaurants['cuisine_type'] == match[0]] = cuisine\n",
        "      \n",
        "# Inspect the final result\n",
        "restaurants['cuisine_type'].unique()\n"
      ],
      "id": "worldwide-alpha",
      "execution_count": null,
      "outputs": [
        {
          "output_type": "execute_result",
          "data": {
            "text/plain": [
              "array(['italian', 'american', 'asian'], dtype=object)"
            ]
          },
          "metadata": {
            "tags": []
          },
          "execution_count": 114
        }
      ]
    },
    {
      "cell_type": "markdown",
      "metadata": {
        "id": "DV5hKjchyE0B"
      },
      "source": [
        "The following section was about comparing two datasets and I didnt get into it for the time being. "
      ],
      "id": "DV5hKjchyE0B"
    },
    {
      "cell_type": "markdown",
      "metadata": {
        "id": "published-cartoon"
      },
      "source": [
        "### Pairs of restaurants\n",
        "In the last lesson, you cleaned the restaurants dataset to make it ready for building a restaurants recommendation engine. You have a new DataFrame named restaurants_new with new restaurants to train your model on, that's been scraped from a new data source.\n",
        "\n",
        "You've already cleaned the cuisine_type and city columns using the techniques learned throughout the course. However you saw duplicates with typos in restaurants names that require record linkage instead of joins with restaurants.\n",
        "\n",
        "In this exercise, you will perform the first step in record linkage and generate possible pairs of rows between restaurants and restaurants_new. Both DataFrames, pandas and recordlinkage are in your environment."
      ],
      "id": "published-cartoon"
    },
    {
      "cell_type": "markdown",
      "metadata": {
        "id": "educational-shipping"
      },
      "source": [
        "### Question\n",
        "Now that you've generated your pairs, you've achieved the first step of record linkage. What are the steps remaining to link both restaurants DataFrames, and in what order?\n",
        "Compare between columns, score the comparison, then link the DataFrames."
      ],
      "id": "educational-shipping"
    },
    {
      "cell_type": "markdown",
      "metadata": {
        "id": "loving-alfred"
      },
      "source": [
        "### Similar restaurants\n",
        "In the last exercise, you generated pairs between restaurants and restaurants_new in an effort to cleanly merge both DataFrames using record linkage.\n",
        "\n",
        "When performing record linkage, there are different types of matching you can perform between different columns of your DataFrames, including exact matches, string similarities, and more.\n",
        "\n",
        "Now that your pairs have been generated and stored in pairs, you will find exact matches in the city and cuisine_type columns between each pair, and similar strings for each pair in the rest_name column. Both DataFrames, pandas and recordlinkage are in your environment."
      ],
      "id": "loving-alfred"
    },
    {
      "cell_type": "code",
      "metadata": {
        "colab": {
          "base_uri": "https://localhost:8080/"
        },
        "id": "WELQjASk04gk",
        "outputId": "4b1e864f-3428-4c76-c72d-31fc24cd5cd3"
      },
      "source": [
        "%cd /content/drive/MyDrive/Data_Science/Data_Cleaning"
      ],
      "id": "WELQjASk04gk",
      "execution_count": null,
      "outputs": [
        {
          "output_type": "stream",
          "text": [
            "/content/drive/MyDrive/Data_Science/Data_Cleaning\n"
          ],
          "name": "stdout"
        }
      ]
    },
    {
      "cell_type": "code",
      "metadata": {
        "colab": {
          "base_uri": "https://localhost:8080/",
          "height": 129
        },
        "id": "mCMTBw_D1DLC",
        "outputId": "ab8fa939-6e7f-4ea1-e503-ee1f6a8fb768"
      },
      "source": [
        "https://github.com/mssabahi/Data_Preparation.git"
      ],
      "id": "mCMTBw_D1DLC",
      "execution_count": null,
      "outputs": [
        {
          "output_type": "error",
          "ename": "SyntaxError",
          "evalue": "ignored",
          "traceback": [
            "\u001b[0;36m  File \u001b[0;32m\"<ipython-input-116-8f5348221219>\"\u001b[0;36m, line \u001b[0;32m1\u001b[0m\n\u001b[0;31m    https://github.com/mssabahi/Data_Preparation.git\u001b[0m\n\u001b[0m           ^\u001b[0m\n\u001b[0;31mSyntaxError\u001b[0m\u001b[0;31m:\u001b[0m invalid syntax\n"
          ]
        }
      ]
    },
    {
      "cell_type": "code",
      "metadata": {
        "colab": {
          "base_uri": "https://localhost:8080/",
          "height": 35
        },
        "id": "bJQjcuVa1Q9H",
        "outputId": "e231f5ba-5beb-466c-9b91-c261b9cc8183"
      },
      "source": [
        "path"
      ],
      "id": "bJQjcuVa1Q9H",
      "execution_count": null,
      "outputs": [
        {
          "output_type": "execute_result",
          "data": {
            "application/vnd.google.colaboratory.intrinsic+json": {
              "type": "string"
            },
            "text/plain": [
              "'/content/drive/MyDrive/Data_Science/Data_Cleaning'"
            ]
          },
          "metadata": {
            "tags": []
          },
          "execution_count": 117
        }
      ]
    },
    {
      "cell_type": "code",
      "metadata": {
        "colab": {
          "base_uri": "https://localhost:8080/"
        },
        "id": "Mx8c00Fq1UKo",
        "outputId": "77d6c283-3385-43b6-8ac7-ca1be2d46be0"
      },
      "source": [
        "! git clone https://github.com/mssabahi/Data_Preparation.git"
      ],
      "id": "Mx8c00Fq1UKo",
      "execution_count": null,
      "outputs": [
        {
          "output_type": "stream",
          "text": [
            "Cloning into 'Data_Preparation'...\n",
            "warning: You appear to have cloned an empty repository.\n"
          ],
          "name": "stdout"
        }
      ]
    },
    {
      "cell_type": "code",
      "metadata": {
        "id": "N4w08Ro418OX"
      },
      "source": [
        ""
      ],
      "id": "N4w08Ro418OX",
      "execution_count": null,
      "outputs": []
    }
  ]
}