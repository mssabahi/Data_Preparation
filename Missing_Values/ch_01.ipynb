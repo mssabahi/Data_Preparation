{
  "nbformat": 4,
  "nbformat_minor": 0,
  "metadata": {
    "colab": {
      "name": "ch_01.ipynb",
      "provenance": [],
      "collapsed_sections": [],
      "toc_visible": true,
      "mount_file_id": "1uVUeRoAtmY9F7cfqf6t2nyMq8_R-Ds6B",
      "authorship_tag": "ABX9TyMOza2t7cdgH8rfGvbuVFPW",
      "include_colab_link": true
    },
    "kernelspec": {
      "display_name": "Python 3",
      "name": "python3"
    },
    "language_info": {
      "name": "python"
    }
  },
  "cells": [
    {
      "cell_type": "markdown",
      "metadata": {
        "id": "view-in-github",
        "colab_type": "text"
      },
      "source": [
        "<a href=\"https://colab.research.google.com/github/mssabahi/Data_Preparation/blob/main/ch_01.ipynb\" target=\"_parent\"><img src=\"https://colab.research.google.com/assets/colab-badge.svg\" alt=\"Open In Colab\"/></a>"
      ]
    },
    {
      "cell_type": "code",
      "metadata": {
        "id": "eSrF6218p9vb"
      },
      "source": [
        "# !pip install wget\n",
        "# import wget\n",
        "# wget.download('https://drive.google.com/file/d/1ABqgDm2pWJLOyNHZtrZGA3EStWupkhym/view?usp=sharing/diabetes.csv', 'diabetes.csv')\n"
      ],
      "execution_count": null,
      "outputs": []
    },
    {
      "cell_type": "markdown",
      "metadata": {
        "id": "U-AYAf0Hsufu"
      },
      "source": [
        "If the data used to train a model is only slightly different than test or future data, it won't matter and you can go ahead with model tuning."
      ]
    },
    {
      "cell_type": "code",
      "metadata": {
        "id": "LwpKdCPZ4vIt"
      },
      "source": [
        "# Import modules\n",
        "import numpy as np\n",
        "import pandas as pd"
      ],
      "execution_count": null,
      "outputs": []
    },
    {
      "cell_type": "code",
      "metadata": {
        "id": "Hi0LM_-dFoHd"
      },
      "source": [
        "loan_data = pd.read_csv('/content/drive/MyDrive/Colab_Notebooks/Data_Camp/ML_Interview/Chapter_01/LoansTrainingSetReduced.csv')"
      ],
      "execution_count": null,
      "outputs": []
    },
    {
      "cell_type": "code",
      "metadata": {
        "colab": {
          "base_uri": "https://localhost:8080/",
          "height": 365
        },
        "id": "C_YD0FiUGFHX",
        "outputId": "46f50846-c8cb-44ad-fc85-3d7f7cf2485f"
      },
      "source": [
        "loan_data.head()"
      ],
      "execution_count": null,
      "outputs": [
        {
          "output_type": "execute_result",
          "data": {
            "text/html": [
              "<div>\n",
              "<style scoped>\n",
              "    .dataframe tbody tr th:only-of-type {\n",
              "        vertical-align: middle;\n",
              "    }\n",
              "\n",
              "    .dataframe tbody tr th {\n",
              "        vertical-align: top;\n",
              "    }\n",
              "\n",
              "    .dataframe thead th {\n",
              "        text-align: right;\n",
              "    }\n",
              "</style>\n",
              "<table border=\"1\" class=\"dataframe\">\n",
              "  <thead>\n",
              "    <tr style=\"text-align: right;\">\n",
              "      <th></th>\n",
              "      <th>Loan Status</th>\n",
              "      <th>Current Loan Amount</th>\n",
              "      <th>Term</th>\n",
              "      <th>Credit Score</th>\n",
              "      <th>Years in current job</th>\n",
              "      <th>Home Ownership</th>\n",
              "      <th>Annual Income</th>\n",
              "      <th>Purpose</th>\n",
              "      <th>Monthly Debt</th>\n",
              "      <th>Years of Credit History</th>\n",
              "      <th>Months since last delinquent</th>\n",
              "      <th>Number of Open Accounts</th>\n",
              "      <th>Number of Credit Problems</th>\n",
              "      <th>Current Credit Balance</th>\n",
              "      <th>Maximum Open Credit</th>\n",
              "      <th>Bankruptcies</th>\n",
              "      <th>Tax Liens</th>\n",
              "    </tr>\n",
              "  </thead>\n",
              "  <tbody>\n",
              "    <tr>\n",
              "      <th>0</th>\n",
              "      <td>Charged Off</td>\n",
              "      <td>12232</td>\n",
              "      <td>Short Term</td>\n",
              "      <td>728.0</td>\n",
              "      <td>1.0</td>\n",
              "      <td>Rent</td>\n",
              "      <td>46643.0</td>\n",
              "      <td>DebtConsolidation</td>\n",
              "      <td>777.39</td>\n",
              "      <td>18.0</td>\n",
              "      <td>10.0</td>\n",
              "      <td>12</td>\n",
              "      <td>0</td>\n",
              "      <td>6762</td>\n",
              "      <td>7946</td>\n",
              "      <td>0.0</td>\n",
              "      <td>0.0</td>\n",
              "    </tr>\n",
              "    <tr>\n",
              "      <th>1</th>\n",
              "      <td>Charged Off</td>\n",
              "      <td>25014</td>\n",
              "      <td>Long Term</td>\n",
              "      <td>733.0</td>\n",
              "      <td>10.0</td>\n",
              "      <td>Mortgage</td>\n",
              "      <td>81099.0</td>\n",
              "      <td>DebtConsolidation</td>\n",
              "      <td>892.09</td>\n",
              "      <td>26.7</td>\n",
              "      <td>NaN</td>\n",
              "      <td>14</td>\n",
              "      <td>0</td>\n",
              "      <td>35706</td>\n",
              "      <td>77961</td>\n",
              "      <td>0.0</td>\n",
              "      <td>0.0</td>\n",
              "    </tr>\n",
              "    <tr>\n",
              "      <th>2</th>\n",
              "      <td>Charged Off</td>\n",
              "      <td>16117</td>\n",
              "      <td>Short Term</td>\n",
              "      <td>724.0</td>\n",
              "      <td>9.0</td>\n",
              "      <td>Mortgage</td>\n",
              "      <td>60438.0</td>\n",
              "      <td>HomeImprovements</td>\n",
              "      <td>1244.02</td>\n",
              "      <td>16.7</td>\n",
              "      <td>32.0</td>\n",
              "      <td>11</td>\n",
              "      <td>1</td>\n",
              "      <td>11275</td>\n",
              "      <td>14815</td>\n",
              "      <td>1.0</td>\n",
              "      <td>0.0</td>\n",
              "    </tr>\n",
              "    <tr>\n",
              "      <th>3</th>\n",
              "      <td>Charged Off</td>\n",
              "      <td>11716</td>\n",
              "      <td>Short Term</td>\n",
              "      <td>740.0</td>\n",
              "      <td>3.0</td>\n",
              "      <td>Rent</td>\n",
              "      <td>34171.0</td>\n",
              "      <td>DebtConsolidation</td>\n",
              "      <td>990.94</td>\n",
              "      <td>10.0</td>\n",
              "      <td>NaN</td>\n",
              "      <td>21</td>\n",
              "      <td>0</td>\n",
              "      <td>7009</td>\n",
              "      <td>43533</td>\n",
              "      <td>0.0</td>\n",
              "      <td>0.0</td>\n",
              "    </tr>\n",
              "    <tr>\n",
              "      <th>4</th>\n",
              "      <td>Charged Off</td>\n",
              "      <td>9789</td>\n",
              "      <td>Long Term</td>\n",
              "      <td>686.0</td>\n",
              "      <td>10.0</td>\n",
              "      <td>Mortgage</td>\n",
              "      <td>47003.0</td>\n",
              "      <td>HomeImprovements</td>\n",
              "      <td>503.71</td>\n",
              "      <td>16.7</td>\n",
              "      <td>25.0</td>\n",
              "      <td>13</td>\n",
              "      <td>1</td>\n",
              "      <td>16913</td>\n",
              "      <td>19553</td>\n",
              "      <td>1.0</td>\n",
              "      <td>0.0</td>\n",
              "    </tr>\n",
              "  </tbody>\n",
              "</table>\n",
              "</div>"
            ],
            "text/plain": [
              "   Loan Status  Current Loan Amount  ... Bankruptcies  Tax Liens\n",
              "0  Charged Off                12232  ...          0.0        0.0\n",
              "1  Charged Off                25014  ...          0.0        0.0\n",
              "2  Charged Off                16117  ...          1.0        0.0\n",
              "3  Charged Off                11716  ...          0.0        0.0\n",
              "4  Charged Off                 9789  ...          1.0        0.0\n",
              "\n",
              "[5 rows x 17 columns]"
            ]
          },
          "metadata": {},
          "execution_count": 5
        }
      ]
    },
    {
      "cell_type": "markdown",
      "metadata": {
        "id": "9DVKzBLzGFEv"
      },
      "source": [
        "### Machine Learning PipeLine\n",
        "\n",
        "\n",
        "![](https://drive.google.com/uc?id=1dE6zMXHKkPxxU01o1SxWhONW0uRXEbMY)\n",
        "\n"
      ]
    },
    {
      "cell_type": "markdown",
      "metadata": {
        "id": "C1PoPWg9GFCh"
      },
      "source": [
        "### The hunt for missing values\n",
        "\n",
        "Questions about processing missing values are integral to any machine learning interview. If you are provided with a dataset with missing values, not addressing them will likely skew your results and lower your model's accuracy.\n",
        "\n",
        "In this exercise, you'll practice the first pre-processing step by finding and exploring ways to handle missing values using pandas and numpy on a customer loan dataset."
      ]
    },
    {
      "cell_type": "code",
      "metadata": {
        "colab": {
          "base_uri": "https://localhost:8080/"
        },
        "id": "dlSO8_QSbEu-",
        "outputId": "65ab2f1f-700f-46e1-af01-3a83c052c8a3"
      },
      "source": [
        "loan_data.info()"
      ],
      "execution_count": null,
      "outputs": [
        {
          "output_type": "stream",
          "name": "stdout",
          "text": [
            "<class 'pandas.core.frame.DataFrame'>\n",
            "RangeIndex: 88910 entries, 0 to 88909\n",
            "Data columns (total 17 columns):\n",
            " #   Column                        Non-Null Count  Dtype  \n",
            "---  ------                        --------------  -----  \n",
            " 0   Loan Status                   88910 non-null  object \n",
            " 1   Current Loan Amount           88910 non-null  int64  \n",
            " 2   Term                          88910 non-null  object \n",
            " 3   Credit Score                  67572 non-null  float64\n",
            " 4   Years in current job          88910 non-null  float64\n",
            " 5   Home Ownership                88910 non-null  object \n",
            " 6   Annual Income                 67572 non-null  float64\n",
            " 7   Purpose                       88910 non-null  object \n",
            " 8   Monthly Debt                  88910 non-null  float64\n",
            " 9   Years of Credit History       88910 non-null  float64\n",
            " 10  Months since last delinquent  40404 non-null  float64\n",
            " 11  Number of Open Accounts       88910 non-null  int64  \n",
            " 12  Number of Credit Problems     88910 non-null  int64  \n",
            " 13  Current Credit Balance        88910 non-null  int64  \n",
            " 14  Maximum Open Credit           88910 non-null  int64  \n",
            " 15  Bankruptcies                  88718 non-null  float64\n",
            " 16  Tax Liens                     88902 non-null  float64\n",
            "dtypes: float64(8), int64(5), object(4)\n",
            "memory usage: 11.5+ MB\n"
          ]
        }
      ]
    },
    {
      "cell_type": "code",
      "metadata": {
        "colab": {
          "base_uri": "https://localhost:8080/"
        },
        "id": "AsnFLz51GE_t",
        "outputId": "bed7d05c-44a7-49a5-d307-b942881a049e"
      },
      "source": [
        "# Print missing values\n",
        "print(loan_data.isna().sum())"
      ],
      "execution_count": null,
      "outputs": [
        {
          "output_type": "stream",
          "name": "stdout",
          "text": [
            "Loan Status                         0\n",
            "Current Loan Amount                 0\n",
            "Term                                0\n",
            "Credit Score                    21338\n",
            "Years in current job                0\n",
            "Home Ownership                      0\n",
            "Annual Income                   21338\n",
            "Purpose                             0\n",
            "Monthly Debt                        0\n",
            "Years of Credit History             0\n",
            "Months since last delinquent    48506\n",
            "Number of Open Accounts             0\n",
            "Number of Credit Problems           0\n",
            "Current Credit Balance              0\n",
            "Maximum Open Credit                 0\n",
            "Bankruptcies                      192\n",
            "Tax Liens                           8\n",
            "dtype: int64\n"
          ]
        }
      ]
    },
    {
      "cell_type": "markdown",
      "metadata": {
        "id": "aF0p2Qr8T9M5"
      },
      "source": [
        "### Simple imputation\n",
        "As you saw in the last exercise, deleting data can reduce your dataset by too much. In an interview context, this can lead to biased results of your machine learning model.\n",
        "\n",
        "A more dynamic way of handling missing values is by imputing them. There are a variety of ways of doing this in python, but in this exercise you will be using the SimpleImputer() function from the sklearn.impute module on loan_data.\n",
        "\n",
        "You will then use pandas and numpy to convert the imputed dataset into a DataFrame."
      ]
    },
    {
      "cell_type": "markdown",
      "metadata": {
        "id": "ZsUQq_p0VVXV"
      },
      "source": [
        "### **No1: Usueful Functions**:\n",
        "```\n",
        "Function returns df.isna().sum()              number missing\n",
        "\n",
        "df['feature'].mean()                          feature mean\n",
        "\n",
        ".shape                                        row, column dimensions\n",
        " \n",
        "df.columns                                    column names\n",
        "\n",
        ".fillna(0)                                    fills missing with 0\n",
        " \n",
        "select_dtypes(include = [np.number] )         numeric columns\n",
        "\n",
        "select_dtypes(include = ['object'] )          string columns\n",
        "\n",
        ".fit_transform(numeric_cols)                  fits and transforma\n",
        "\n",
        "```\n",
        "\n"
      ]
    },
    {
      "cell_type": "code",
      "metadata": {
        "colab": {
          "base_uri": "https://localhost:8080/",
          "height": 258
        },
        "id": "lj17BYseIx_6",
        "outputId": "57e51256-7401-469f-9c41-7358a6e8431a"
      },
      "source": [
        "# Import imputer module\n",
        "from sklearn.impute import SimpleImputer\n",
        "\n",
        "# Subset numeric features: numeric_cols\n",
        "numeric_cols = loan_data.select_dtypes(include=[np.number])\n",
        "numeric_cols.head()"
      ],
      "execution_count": null,
      "outputs": [
        {
          "output_type": "execute_result",
          "data": {
            "text/html": [
              "<div>\n",
              "<style scoped>\n",
              "    .dataframe tbody tr th:only-of-type {\n",
              "        vertical-align: middle;\n",
              "    }\n",
              "\n",
              "    .dataframe tbody tr th {\n",
              "        vertical-align: top;\n",
              "    }\n",
              "\n",
              "    .dataframe thead th {\n",
              "        text-align: right;\n",
              "    }\n",
              "</style>\n",
              "<table border=\"1\" class=\"dataframe\">\n",
              "  <thead>\n",
              "    <tr style=\"text-align: right;\">\n",
              "      <th></th>\n",
              "      <th>Current Loan Amount</th>\n",
              "      <th>Credit Score</th>\n",
              "      <th>Years in current job</th>\n",
              "      <th>Annual Income</th>\n",
              "      <th>Monthly Debt</th>\n",
              "      <th>Years of Credit History</th>\n",
              "      <th>Months since last delinquent</th>\n",
              "      <th>Number of Open Accounts</th>\n",
              "      <th>Number of Credit Problems</th>\n",
              "      <th>Current Credit Balance</th>\n",
              "      <th>Maximum Open Credit</th>\n",
              "      <th>Bankruptcies</th>\n",
              "      <th>Tax Liens</th>\n",
              "    </tr>\n",
              "  </thead>\n",
              "  <tbody>\n",
              "    <tr>\n",
              "      <th>0</th>\n",
              "      <td>12232</td>\n",
              "      <td>728.0</td>\n",
              "      <td>1.0</td>\n",
              "      <td>46643.0</td>\n",
              "      <td>777.39</td>\n",
              "      <td>18.0</td>\n",
              "      <td>10.0</td>\n",
              "      <td>12</td>\n",
              "      <td>0</td>\n",
              "      <td>6762</td>\n",
              "      <td>7946</td>\n",
              "      <td>0.0</td>\n",
              "      <td>0.0</td>\n",
              "    </tr>\n",
              "    <tr>\n",
              "      <th>1</th>\n",
              "      <td>25014</td>\n",
              "      <td>733.0</td>\n",
              "      <td>10.0</td>\n",
              "      <td>81099.0</td>\n",
              "      <td>892.09</td>\n",
              "      <td>26.7</td>\n",
              "      <td>NaN</td>\n",
              "      <td>14</td>\n",
              "      <td>0</td>\n",
              "      <td>35706</td>\n",
              "      <td>77961</td>\n",
              "      <td>0.0</td>\n",
              "      <td>0.0</td>\n",
              "    </tr>\n",
              "    <tr>\n",
              "      <th>2</th>\n",
              "      <td>16117</td>\n",
              "      <td>724.0</td>\n",
              "      <td>9.0</td>\n",
              "      <td>60438.0</td>\n",
              "      <td>1244.02</td>\n",
              "      <td>16.7</td>\n",
              "      <td>32.0</td>\n",
              "      <td>11</td>\n",
              "      <td>1</td>\n",
              "      <td>11275</td>\n",
              "      <td>14815</td>\n",
              "      <td>1.0</td>\n",
              "      <td>0.0</td>\n",
              "    </tr>\n",
              "    <tr>\n",
              "      <th>3</th>\n",
              "      <td>11716</td>\n",
              "      <td>740.0</td>\n",
              "      <td>3.0</td>\n",
              "      <td>34171.0</td>\n",
              "      <td>990.94</td>\n",
              "      <td>10.0</td>\n",
              "      <td>NaN</td>\n",
              "      <td>21</td>\n",
              "      <td>0</td>\n",
              "      <td>7009</td>\n",
              "      <td>43533</td>\n",
              "      <td>0.0</td>\n",
              "      <td>0.0</td>\n",
              "    </tr>\n",
              "    <tr>\n",
              "      <th>4</th>\n",
              "      <td>9789</td>\n",
              "      <td>686.0</td>\n",
              "      <td>10.0</td>\n",
              "      <td>47003.0</td>\n",
              "      <td>503.71</td>\n",
              "      <td>16.7</td>\n",
              "      <td>25.0</td>\n",
              "      <td>13</td>\n",
              "      <td>1</td>\n",
              "      <td>16913</td>\n",
              "      <td>19553</td>\n",
              "      <td>1.0</td>\n",
              "      <td>0.0</td>\n",
              "    </tr>\n",
              "  </tbody>\n",
              "</table>\n",
              "</div>"
            ],
            "text/plain": [
              "   Current Loan Amount  Credit Score  ...  Bankruptcies  Tax Liens\n",
              "0                12232         728.0  ...           0.0        0.0\n",
              "1                25014         733.0  ...           0.0        0.0\n",
              "2                16117         724.0  ...           1.0        0.0\n",
              "3                11716         740.0  ...           0.0        0.0\n",
              "4                 9789         686.0  ...           1.0        0.0\n",
              "\n",
              "[5 rows x 13 columns]"
            ]
          },
          "metadata": {},
          "execution_count": 8
        }
      ]
    },
    {
      "cell_type": "code",
      "metadata": {
        "colab": {
          "base_uri": "https://localhost:8080/"
        },
        "id": "9W2BqnN0alqz",
        "outputId": "220ef6dd-c41a-4bcb-c2b4-ed33ca08f364"
      },
      "source": [
        "# Impute with mean\n",
        "imp_mean = SimpleImputer(strategy='mean')\n",
        "loans_imp_mean = imp_mean.fit_transform(numeric_cols)\n",
        "\n",
        "# Convert returned array to DataFrame\n",
        "loans_imp_meanDF = pd.DataFrame(loans_imp_mean, columns=numeric_cols.columns)\n",
        "\n",
        "# Check the DataFrame's info\n",
        "print(loans_imp_meanDF.info())"
      ],
      "execution_count": null,
      "outputs": [
        {
          "output_type": "stream",
          "name": "stdout",
          "text": [
            "<class 'pandas.core.frame.DataFrame'>\n",
            "RangeIndex: 88910 entries, 0 to 88909\n",
            "Data columns (total 13 columns):\n",
            " #   Column                        Non-Null Count  Dtype  \n",
            "---  ------                        --------------  -----  \n",
            " 0   Current Loan Amount           88910 non-null  float64\n",
            " 1   Credit Score                  88910 non-null  float64\n",
            " 2   Years in current job          88910 non-null  float64\n",
            " 3   Annual Income                 88910 non-null  float64\n",
            " 4   Monthly Debt                  88910 non-null  float64\n",
            " 5   Years of Credit History       88910 non-null  float64\n",
            " 6   Months since last delinquent  88910 non-null  float64\n",
            " 7   Number of Open Accounts       88910 non-null  float64\n",
            " 8   Number of Credit Problems     88910 non-null  float64\n",
            " 9   Current Credit Balance        88910 non-null  float64\n",
            " 10  Maximum Open Credit           88910 non-null  float64\n",
            " 11  Bankruptcies                  88910 non-null  float64\n",
            " 12  Tax Liens                     88910 non-null  float64\n",
            "dtypes: float64(13)\n",
            "memory usage: 8.8 MB\n",
            "None\n"
          ]
        }
      ]
    },
    {
      "cell_type": "markdown",
      "metadata": {
        "id": "1HKtekS9VHIK"
      },
      "source": [
        "### Iterative imputation\n",
        "In the previous exercise, you derived mean imputations for missing values of loan_data. However, in a machine learning interview, you will probably be asked about more dynamic imputation techniques that rely on other features in the dataset.\n",
        "\n",
        "In this exercise, you'll practice a machine-learning based approach by imputing missing values as a function of remaining features using IterativeImputer() from sklearn.impute. This is a multivariate imputer that estimates each feature from all of the others in a 'round-robin' fashion.\n",
        "\n",
        "Note that this function is considered experimental, so please read the documentation for more information."
      ]
    },
    {
      "cell_type": "code",
      "metadata": {
        "colab": {
          "base_uri": "https://localhost:8080/"
        },
        "id": "Dmw_WkEzaTLt",
        "outputId": "13dec612-d354-4247-b97a-3062cf1cdacd"
      },
      "source": [
        "# Explicitly require this experimental feature\n",
        "from sklearn.experimental import enable_iterative_imputer\n",
        "# Now you can import normally from sklearn.impute\n",
        "from sklearn.impute import IterativeImputer\n",
        "\n",
        "# Subset numeric features: numeric_cols\n",
        "numeric_cols = loan_data.select_dtypes(include=[np.number])\n",
        "\n",
        "# Iteratively impute\n",
        "imp_iter = IterativeImputer(max_iter=5, sample_posterior=True, random_state=123)\n",
        "loans_imp_iter = imp_iter.fit_transform(numeric_cols)\n",
        "\n",
        "# Convert returned array to DataFrame\n",
        "loans_imp_iterDF = pd.DataFrame(loans_imp_iter, columns=numeric_cols.columns)\n",
        "\n",
        "# Check the DataFrame's info\n",
        "print(loans_imp_iterDF.info())\n",
        "\n"
      ],
      "execution_count": null,
      "outputs": [
        {
          "output_type": "stream",
          "name": "stdout",
          "text": [
            "<class 'pandas.core.frame.DataFrame'>\n",
            "RangeIndex: 88910 entries, 0 to 88909\n",
            "Data columns (total 13 columns):\n",
            " #   Column                        Non-Null Count  Dtype  \n",
            "---  ------                        --------------  -----  \n",
            " 0   Current Loan Amount           88910 non-null  float64\n",
            " 1   Credit Score                  88910 non-null  float64\n",
            " 2   Years in current job          88910 non-null  float64\n",
            " 3   Annual Income                 88910 non-null  float64\n",
            " 4   Monthly Debt                  88910 non-null  float64\n",
            " 5   Years of Credit History       88910 non-null  float64\n",
            " 6   Months since last delinquent  88910 non-null  float64\n",
            " 7   Number of Open Accounts       88910 non-null  float64\n",
            " 8   Number of Credit Problems     88910 non-null  float64\n",
            " 9   Current Credit Balance        88910 non-null  float64\n",
            " 10  Maximum Open Credit           88910 non-null  float64\n",
            " 11  Bankruptcies                  88910 non-null  float64\n",
            " 12  Tax Liens                     88910 non-null  float64\n",
            "dtypes: float64(13)\n",
            "memory usage: 8.8 MB\n",
            "None\n"
          ]
        }
      ]
    },
    {
      "cell_type": "markdown",
      "metadata": {
        "id": "2GiawcCeadAM"
      },
      "source": [
        "### Box-Cox Transformations\n",
        "\n",
        "\n",
        "\n",
        "```\n",
        "scipy.stats.boxcox(data, lmbda= )\n",
        "```\n",
        "\n"
      ]
    },
    {
      "cell_type": "markdown",
      "metadata": {
        "id": "KsGBgg9em-Ki"
      },
      "source": [
        "![](https://drive.google.com/uc?id=1jnvijRrYW9LN0jL7KJC52VzcGWNtgaGD)"
      ]
    },
    {
      "cell_type": "code",
      "metadata": {
        "id": "AjwMtxkNriYP"
      },
      "source": [
        "from sklearn.model_selection import train_test_split"
      ],
      "execution_count": null,
      "outputs": []
    },
    {
      "cell_type": "code",
      "metadata": {
        "id": "IO_G3NWbnht5"
      },
      "source": [
        "# Subset loan_data to only the Credit Score and Annual Income features, and the target variable Loan Status in that order.\n",
        "# Create an 80/20 split of loan_data and assign it to loan_data_subset.\n",
        "# Create pairplots of trainingSet and testSet (in that order) setting the hue argument to the target variable Loan Status.\n",
        "\n",
        "# Create `loan_data` subset: loan_data_subset\n",
        "loan_data_subset = loan_data[['Credit Score','Annual Income','Loan Status']]\n",
        "\n",
        "# Create train and test sets\n",
        "trainingSet, testSet =  train_test_split(loan_data_subset, test_size=0.20, random_state=123)"
      ],
      "execution_count": null,
      "outputs": []
    },
    {
      "cell_type": "code",
      "metadata": {
        "colab": {
          "base_uri": "https://localhost:8080/",
          "height": 206
        },
        "id": "lxMHjbeTy_Ba",
        "outputId": "239cf9ba-82d5-485e-a565-05d3683d5281"
      },
      "source": [
        "trainingSet.head()"
      ],
      "execution_count": null,
      "outputs": [
        {
          "output_type": "execute_result",
          "data": {
            "text/html": [
              "<div>\n",
              "<style scoped>\n",
              "    .dataframe tbody tr th:only-of-type {\n",
              "        vertical-align: middle;\n",
              "    }\n",
              "\n",
              "    .dataframe tbody tr th {\n",
              "        vertical-align: top;\n",
              "    }\n",
              "\n",
              "    .dataframe thead th {\n",
              "        text-align: right;\n",
              "    }\n",
              "</style>\n",
              "<table border=\"1\" class=\"dataframe\">\n",
              "  <thead>\n",
              "    <tr style=\"text-align: right;\">\n",
              "      <th></th>\n",
              "      <th>Credit Score</th>\n",
              "      <th>Annual Income</th>\n",
              "      <th>Loan Status</th>\n",
              "    </tr>\n",
              "  </thead>\n",
              "  <tbody>\n",
              "    <tr>\n",
              "      <th>83911</th>\n",
              "      <td>745.0</td>\n",
              "      <td>64819.0</td>\n",
              "      <td>Fully Paid</td>\n",
              "    </tr>\n",
              "    <tr>\n",
              "      <th>43175</th>\n",
              "      <td>693.0</td>\n",
              "      <td>20507.0</td>\n",
              "      <td>Charged Off</td>\n",
              "    </tr>\n",
              "    <tr>\n",
              "      <th>61494</th>\n",
              "      <td>736.0</td>\n",
              "      <td>85400.0</td>\n",
              "      <td>Charged Off</td>\n",
              "    </tr>\n",
              "    <tr>\n",
              "      <th>18079</th>\n",
              "      <td>NaN</td>\n",
              "      <td>NaN</td>\n",
              "      <td>Fully Paid</td>\n",
              "    </tr>\n",
              "    <tr>\n",
              "      <th>443</th>\n",
              "      <td>725.0</td>\n",
              "      <td>33667.0</td>\n",
              "      <td>Charged Off</td>\n",
              "    </tr>\n",
              "  </tbody>\n",
              "</table>\n",
              "</div>"
            ],
            "text/plain": [
              "       Credit Score  Annual Income  Loan Status\n",
              "83911         745.0        64819.0   Fully Paid\n",
              "43175         693.0        20507.0  Charged Off\n",
              "61494         736.0        85400.0  Charged Off\n",
              "18079           NaN            NaN   Fully Paid\n",
              "443           725.0        33667.0  Charged Off"
            ]
          },
          "metadata": {},
          "execution_count": 13
        }
      ]
    },
    {
      "cell_type": "code",
      "metadata": {
        "id": "fBGLHxzPnhrl"
      },
      "source": [
        "import seaborn as sns\n",
        "import matplotlib.pyplot as plt"
      ],
      "execution_count": null,
      "outputs": []
    },
    {
      "cell_type": "code",
      "metadata": {
        "colab": {
          "base_uri": "https://localhost:8080/",
          "height": 391
        },
        "id": "977mfxJMnhpa",
        "outputId": "8cdc08d7-e87e-4142-f008-78c58170d71e"
      },
      "source": [
        "# Examine pairplots\n",
        "plt.figure()\n",
        "sns.pairplot(trainingSet, hue='Loan Status', palette='RdBu')\n",
        "plt.show()"
      ],
      "execution_count": null,
      "outputs": [
        {
          "output_type": "display_data",
          "data": {
            "text/plain": [
              "<Figure size 432x288 with 0 Axes>"
            ]
          },
          "metadata": {}
        },
        {
          "output_type": "display_data",
          "data": {
            "image/png": "[encoded data removed]",
            "text/plain": [
              "<Figure size 456.375x360 with 6 Axes>"
            ]
          },
          "metadata": {
            "needs_background": "light"
          }
        }
      ]
    },
    {
      "cell_type": "code",
      "metadata": {
        "colab": {
          "base_uri": "https://localhost:8080/",
          "height": 391
        },
        "id": "kpK0TdqTnhnN",
        "outputId": "e3f02e1e-55f8-4298-f38b-88a33450e6db"
      },
      "source": [
        "plt.figure()\n",
        "sns.pairplot(testSet, hue='Loan Status', palette='RdBu')\n",
        "plt.show()"
      ],
      "execution_count": null,
      "outputs": [
        {
          "output_type": "display_data",
          "data": {
            "text/plain": [
              "<Figure size 432x288 with 0 Axes>"
            ]
          },
          "metadata": {}
        },
        {
          "output_type": "display_data",
          "data": {
            "image/png": "[encoded data removed]",
            "text/plain": [
              "<Figure size 456.375x360 with 6 Axes>"
            ]
          },
          "metadata": {
            "needs_background": "light"
          }
        }
      ]
    },
    {
      "cell_type": "markdown",
      "metadata": {
        "id": "wl1_Xeoqnhke"
      },
      "source": [
        "### Log and power transformations\n",
        "In the last exercise, you compared the distributions of a training set and test set of loan_data. This is especially poignant in a machine learning interview because the distribution observed dictates whether or not you need to use techniques which nudge your feature distributions toward a normal distribution so that normality assumptions are not violated.\n",
        "\n",
        "In this exercise, you will be using the log and power transformation from the scipy.stats module on the Years of Credit History feature of loan_data along with the distplot() function from seaborn, which plots both its distribution and kernel density estimation.\n",
        "\n",
        "All relevant packages have been imported for you.\n",
        "\n"
      ]
    },
    {
      "cell_type": "code",
      "metadata": {
        "colab": {
          "base_uri": "https://localhost:8080/",
          "height": 279
        },
        "id": "Sd47-8B_nhh6",
        "outputId": "a5d9504c-90cc-402e-d336-a17d426f8c2c"
      },
      "source": [
        "# Subset loan_data for 'Years of Credit History' and plot its distribution and kernel density estimation (kde) using distplot().\n",
        "\n",
        "# Subset loan_data\n",
        "cr_yrs = loan_data['Years of Credit History']\n",
        "\n",
        "# Histogram and kernel density estimate\n",
        "plt.figure()\n",
        "sns.histplot(cr_yrs, kde=True, bins=20)\n",
        "plt.show()"
      ],
      "execution_count": null,
      "outputs": [
        {
          "output_type": "display_data",
          "data": {
            "image/png": "[encoded data removed]",
            "text/plain": [
              "<Figure size 432x288 with 1 Axes>"
            ]
          },
          "metadata": {
            "needs_background": "light"
          }
        }
      ]
    },
    {
      "cell_type": "code",
      "metadata": {
        "id": "Uxc9aBr24sey"
      },
      "source": [
        "from scipy import stats"
      ],
      "execution_count": null,
      "outputs": []
    },
    {
      "cell_type": "code",
      "metadata": {
        "colab": {
          "base_uri": "https://localhost:8080/",
          "height": 265
        },
        "id": "Ng2URQmP1TGK",
        "outputId": "48063451-5e41-4052-c9dc-03d3058a97db"
      },
      "source": [
        "# Apply a log transformation using the Box-Cox transformation to cr_yrs and plot its distribution and kde.\n",
        "\n",
        "# Subset loan_data\n",
        "cr_yrs = loan_data['Years of Credit History']\n",
        "\n",
        "# Box-Cox transformation\n",
        "cr_yrs_log = stats.boxcox(cr_yrs, lmbda=0.0)\n",
        "\n",
        "# Histogram and kernel density estimate\n",
        "plt.figure()\n",
        "sns.histplot(cr_yrs_log, kde=True, bins=20)\n",
        "plt.show()\n"
      ],
      "execution_count": null,
      "outputs": [
        {
          "output_type": "display_data",
          "data": {
            "image/png": "[encoded data removed]",
            "text/plain": [
              "<Figure size 432x288 with 1 Axes>"
            ]
          },
          "metadata": {
            "needs_background": "light"
          }
        }
      ]
    },
    {
      "cell_type": "code",
      "metadata": {
        "colab": {
          "base_uri": "https://localhost:8080/",
          "height": 265
        },
        "id": "bra46Bgl4GrS",
        "outputId": "1837312b-1547-4b9a-ac50-50b237eda62c"
      },
      "source": [
        "# Transform 'Years of Credit History' using the Box-Cox square-root argument and plot its distribution and kde.\n",
        "\n",
        "# Subset loan_data\n",
        "cr_yrs = loan_data['Years of Credit History']\n",
        "\n",
        "# Square root transform\n",
        "cr_yrs_sqrt = stats.boxcox(cr_yrs, lmbda=0.5)\n",
        "\n",
        "# Histogram and kernel density estimate\n",
        "plt.figure()\n",
        "sns.histplot(cr_yrs_sqrt, bins=20, kde=True)\n",
        "plt.show()"
      ],
      "execution_count": null,
      "outputs": [
        {
          "output_type": "display_data",
          "data": {
            "image/png": "[encoded data removed]",
            "text/plain": [
              "<Figure size 432x288 with 1 Axes>"
            ]
          },
          "metadata": {
            "needs_background": "light"
          }
        }
      ]
    },
    {
      "cell_type": "markdown",
      "metadata": {
        "id": "vFLxf1Xd56Ga"
      },
      "source": [
        "### Preprocesing Steps:\n",
        "\n",
        "![](https://drive.google.com/uc?id=1Rhk7CWhonEwkl9uNTVJanbPJrHQTv4nP)"
      ]
    },
    {
      "cell_type": "markdown",
      "metadata": {
        "id": "M49tFGgb_Y35"
      },
      "source": [
        "### Outlier detection\n",
        "A very important aspect of preprocessing your data correctly is outlier detection. In machine learning interview questions, a common question is how to locate and process outliers. An easy way to detect outliers is by visualizing them graphically.\n",
        "\n",
        "After finding and imputing missing data, finding and figuring out what to do about outliers is another necessary preprocessing step.\n",
        "\n",
        "There's a variety of packages that let you visualize outliers, but in this exercise, you will be using seaborn to plot univariate and multivariate boxplots of selected columns of loan_data.\n",
        "\n",
        "All relevant packages have been imported for you."
      ]
    },
    {
      "cell_type": "code",
      "metadata": {
        "colab": {
          "base_uri": "https://localhost:8080/",
          "height": 290
        },
        "id": "sMu-1wlp-7P9",
        "outputId": "223b72f0-5bf9-4cb8-c491-ab27e160baad"
      },
      "source": [
        "# Create a univariate boxplot using the feature Annual Income from loan_data.\n",
        "# Create a multivariate boxplot conditioned on Loan Status using the feature Annual Income from loan_data.\n",
        "\n",
        "# Univariate and multivariate boxplots\n",
        "fig, ax = plt.subplots(1,2)\n",
        "sns.boxplot(y=loan_data['Annual Income'], ax=ax[0])\n",
        "sns.boxplot(x='Loan Status', y='Annual Income', data=loan_data, ax=ax[1])\n",
        "plt.show()"
      ],
      "execution_count": null,
      "outputs": [
        {
          "output_type": "display_data",
          "data": {
            "image/png": "[encoded data removed]",
            "text/plain": [
              "<Figure size 432x288 with 2 Axes>"
            ]
          },
          "metadata": {
            "needs_background": "light"
          }
        }
      ]
    },
    {
      "cell_type": "code",
      "metadata": {
        "colab": {
          "base_uri": "https://localhost:8080/",
          "height": 297
        },
        "id": "p1Jm5Lh3_ZkX",
        "outputId": "54754d54-09e1-43b0-97a6-483c22c7846e"
      },
      "source": [
        "# Create a univariate boxplot using the feature Monthly Debt from loan_data.\n",
        "# Create a multivariate boxplot conditioned on Loan Status using the feature Monthly Debt from loan_data.\n",
        "\n",
        "# Multivariate boxplot\n",
        "fig, ax = plt.subplots(1,2)\n",
        "sns.boxplot(y=loan_data['Monthly Debt'], ax=ax[0])\n",
        "sns.boxplot(x='Loan Status', y='Monthly Debt', data=loan_data, ax=ax[1])\n",
        "fig.tight_layout()\n",
        "plt.show()"
      ],
      "execution_count": null,
      "outputs": [
        {
          "output_type": "display_data",
          "data": {
            "image/png": "[encoded data removed]",
            "text/plain": [
              "<Figure size 432x288 with 2 Axes>"
            ]
          },
          "metadata": {
            "needs_background": "light"
          }
        }
      ]
    },
    {
      "cell_type": "code",
      "metadata": {
        "colab": {
          "base_uri": "https://localhost:8080/",
          "height": 297
        },
        "id": "q_E5IcrfAGK3",
        "outputId": "3b4bb4a7-2c07-46a2-a835-3795ade2f83f"
      },
      "source": [
        "# Create a univariate boxplot using the feature Years of Credit History from loan_data.\n",
        "# Create a multivariate boxplot conditioned on Loan Status using the feature Years of Credit History from loan_data.\n",
        "\n",
        "# Univariate and multivariate boxplots\n",
        "fig, ax =plt.subplots(1,2)\n",
        "sns.boxplot(x=loan_data['Years of Credit History'], ax=ax[0])\n",
        "sns.boxplot(x='Loan Status', y='Years of Credit History', data=loan_data, ax=ax[1])\n",
        "fig.tight_layout()\n",
        "plt.show()"
      ],
      "execution_count": null,
      "outputs": [
        {
          "output_type": "display_data",
          "data": {
            "image/png": "[encoded data removed]",
            "text/plain": [
              "<Figure size 432x288 with 2 Axes>"
            ]
          },
          "metadata": {
            "needs_background": "light"
          }
        }
      ]
    },
    {
      "cell_type": "markdown",
      "metadata": {
        "id": "Mvrc0OnDaCrE"
      },
      "source": [
        "### Handling outliers\n",
        "In the last exercise, you learned how visualizing outliers could come in handy in a machine learning interview. Another convenient way for handling outliers is by calculating the Z-score which gives a threshold for outliers approximately +/-3 standard deviations away from the mean.\n",
        "\n",
        "In this exercise, you will use the scipy.stats module to calculate the Z-score using the stats.zscore() function and the mstats.winsorize() function to replace outliers using a technique called Winsorizing.\n",
        "\n",
        "Recall from the video lesson that those points above and/or below 1.5 times the IQR should be suspected as possible outliers. For the last step in this exercise, that value is 2120.\n",
        "\n",
        "The relevant packages have been imported for you, and loan_data's numeric and categorical columns have been subset and saved as numeric_cols and categoric_cols, respectively."
      ]
    },
    {
      "cell_type": "code",
      "metadata": {
        "colab": {
          "base_uri": "https://localhost:8080/"
        },
        "id": "b9nCQa7bcG2z",
        "outputId": "a336f3c2-cf5a-4ad8-efc9-ea620b38b56c"
      },
      "source": [
        "# Print: before dropping\n",
        "print('\\n Mean of Features\\n')\n",
        "print(numeric_cols.mean())\n",
        "print('\\n Median of Features\\n')\n",
        "print(numeric_cols.median())\n",
        "print('\\n Max of Features\\n')\n",
        "print(numeric_cols.max())"
      ],
      "execution_count": null,
      "outputs": [
        {
          "output_type": "stream",
          "name": "stdout",
          "text": [
            "\n",
            " Mean of Features\n",
            "\n",
            "Current Loan Amount             1.433878e+07\n",
            "Credit Score                    7.216020e+02\n",
            "Years in current job            5.721263e+00\n",
            "Annual Income                   7.234575e+04\n",
            "Monthly Debt                    9.631021e+02\n",
            "Years of Credit History         1.831531e+01\n",
            "Months since last delinquent    3.508029e+01\n",
            "Number of Open Accounts         1.111035e+01\n",
            "Number of Credit Problems       1.604769e-01\n",
            "Current Credit Balance          1.543593e+04\n",
            "Maximum Open Credit             3.356812e+04\n",
            "Bankruptcies                    1.126716e-01\n",
            "Tax Liens                       2.822209e-02\n",
            "dtype: float64\n",
            "\n",
            " Median of Features\n",
            "\n",
            "Current Loan Amount             14355.000\n",
            "Credit Score                      730.000\n",
            "Years in current job                6.000\n",
            "Annual Income                   61494.000\n",
            "Monthly Debt                      843.925\n",
            "Years of Credit History            17.000\n",
            "Months since last delinquent       32.000\n",
            "Number of Open Accounts            10.000\n",
            "Number of Credit Problems           0.000\n",
            "Current Credit Balance          11039.000\n",
            "Maximum Open Credit             21780.500\n",
            "Bankruptcies                        0.000\n",
            "Tax Liens                           0.000\n",
            "dtype: float64\n",
            "\n",
            " Max of Features\n",
            "\n",
            "Current Loan Amount             99999999.00\n",
            "Credit Score                         751.00\n",
            "Years in current job                  10.00\n",
            "Annual Income                    8713547.00\n",
            "Monthly Debt                       22939.12\n",
            "Years of Credit History               70.50\n",
            "Months since last delinquent         176.00\n",
            "Number of Open Accounts               76.00\n",
            "Number of Credit Problems             15.00\n",
            "Current Credit Balance           1730472.00\n",
            "Maximum Open Credit             69988086.00\n",
            "Bankruptcies                           7.00\n",
            "Tax Liens                             15.00\n",
            "dtype: float64\n"
          ]
        }
      ]
    },
    {
      "cell_type": "code",
      "metadata": {
        "colab": {
          "base_uri": "https://localhost:8080/",
          "height": 423
        },
        "id": "30ENIaEC9OHS",
        "outputId": "f8e82490-79f6-4f2a-c6ed-d38d03b2773d"
      },
      "source": [
        "categoric_cols = loan_data.select_dtypes(include = ['object'])\n",
        "categoric_cols"
      ],
      "execution_count": null,
      "outputs": [
        {
          "output_type": "execute_result",
          "data": {
            "text/html": [
              "<div>\n",
              "<style scoped>\n",
              "    .dataframe tbody tr th:only-of-type {\n",
              "        vertical-align: middle;\n",
              "    }\n",
              "\n",
              "    .dataframe tbody tr th {\n",
              "        vertical-align: top;\n",
              "    }\n",
              "\n",
              "    .dataframe thead th {\n",
              "        text-align: right;\n",
              "    }\n",
              "</style>\n",
              "<table border=\"1\" class=\"dataframe\">\n",
              "  <thead>\n",
              "    <tr style=\"text-align: right;\">\n",
              "      <th></th>\n",
              "      <th>Loan Status</th>\n",
              "      <th>Term</th>\n",
              "      <th>Home Ownership</th>\n",
              "      <th>Purpose</th>\n",
              "    </tr>\n",
              "  </thead>\n",
              "  <tbody>\n",
              "    <tr>\n",
              "      <th>0</th>\n",
              "      <td>Charged Off</td>\n",
              "      <td>Short Term</td>\n",
              "      <td>Rent</td>\n",
              "      <td>DebtConsolidation</td>\n",
              "    </tr>\n",
              "    <tr>\n",
              "      <th>1</th>\n",
              "      <td>Charged Off</td>\n",
              "      <td>Long Term</td>\n",
              "      <td>Mortgage</td>\n",
              "      <td>DebtConsolidation</td>\n",
              "    </tr>\n",
              "    <tr>\n",
              "      <th>2</th>\n",
              "      <td>Charged Off</td>\n",
              "      <td>Short Term</td>\n",
              "      <td>Mortgage</td>\n",
              "      <td>HomeImprovements</td>\n",
              "    </tr>\n",
              "    <tr>\n",
              "      <th>3</th>\n",
              "      <td>Charged Off</td>\n",
              "      <td>Short Term</td>\n",
              "      <td>Rent</td>\n",
              "      <td>DebtConsolidation</td>\n",
              "    </tr>\n",
              "    <tr>\n",
              "      <th>4</th>\n",
              "      <td>Charged Off</td>\n",
              "      <td>Long Term</td>\n",
              "      <td>Mortgage</td>\n",
              "      <td>HomeImprovements</td>\n",
              "    </tr>\n",
              "    <tr>\n",
              "      <th>...</th>\n",
              "      <td>...</td>\n",
              "      <td>...</td>\n",
              "      <td>...</td>\n",
              "      <td>...</td>\n",
              "    </tr>\n",
              "    <tr>\n",
              "      <th>88905</th>\n",
              "      <td>Fully Paid</td>\n",
              "      <td>Short Term</td>\n",
              "      <td>Rent</td>\n",
              "      <td>DebtConsolidation</td>\n",
              "    </tr>\n",
              "    <tr>\n",
              "      <th>88906</th>\n",
              "      <td>Fully Paid</td>\n",
              "      <td>Short Term</td>\n",
              "      <td>Mortgage</td>\n",
              "      <td>DebtConsolidation</td>\n",
              "    </tr>\n",
              "    <tr>\n",
              "      <th>88907</th>\n",
              "      <td>Fully Paid</td>\n",
              "      <td>Short Term</td>\n",
              "      <td>Mortgage</td>\n",
              "      <td>DebtConsolidation</td>\n",
              "    </tr>\n",
              "    <tr>\n",
              "      <th>88908</th>\n",
              "      <td>Charged Off</td>\n",
              "      <td>Short Term</td>\n",
              "      <td>Rent</td>\n",
              "      <td>DebtConsolidation</td>\n",
              "    </tr>\n",
              "    <tr>\n",
              "      <th>88909</th>\n",
              "      <td>Fully Paid</td>\n",
              "      <td>Short Term</td>\n",
              "      <td>Rent</td>\n",
              "      <td>DebtConsolidation</td>\n",
              "    </tr>\n",
              "  </tbody>\n",
              "</table>\n",
              "<p>88910 rows × 4 columns</p>\n",
              "</div>"
            ],
            "text/plain": [
              "       Loan Status        Term Home Ownership            Purpose\n",
              "0      Charged Off  Short Term           Rent  DebtConsolidation\n",
              "1      Charged Off   Long Term       Mortgage  DebtConsolidation\n",
              "2      Charged Off  Short Term       Mortgage   HomeImprovements\n",
              "3      Charged Off  Short Term           Rent  DebtConsolidation\n",
              "4      Charged Off   Long Term       Mortgage   HomeImprovements\n",
              "...            ...         ...            ...                ...\n",
              "88905   Fully Paid  Short Term           Rent  DebtConsolidation\n",
              "88906   Fully Paid  Short Term       Mortgage  DebtConsolidation\n",
              "88907   Fully Paid  Short Term       Mortgage  DebtConsolidation\n",
              "88908  Charged Off  Short Term           Rent  DebtConsolidation\n",
              "88909   Fully Paid  Short Term           Rent  DebtConsolidation\n",
              "\n",
              "[88910 rows x 4 columns]"
            ]
          },
          "metadata": {},
          "execution_count": 25
        }
      ]
    },
    {
      "cell_type": "code",
      "metadata": {
        "colab": {
          "base_uri": "https://localhost:8080/"
        },
        "id": "MUDqrQfM94l6",
        "outputId": "d64eedad-322a-4dbc-a886-bb1cee62a7dc"
      },
      "source": [
        "numeric_cols_02.iloc[13,:]"
      ],
      "execution_count": null,
      "outputs": [
        {
          "output_type": "execute_result",
          "data": {
            "text/plain": [
              "Current Loan Amount              34276.00\n",
              "Credit Score                       628.00\n",
              "Years in current job                10.00\n",
              "Annual Income                   141019.00\n",
              "Monthly Debt                      2632.36\n",
              "Years of Credit History             19.90\n",
              "Months since last delinquent        14.00\n",
              "Number of Open Accounts             19.00\n",
              "Number of Credit Problems            0.00\n",
              "Current Credit Balance           20223.00\n",
              "Maximum Open Credit              31747.00\n",
              "Bankruptcies                         0.00\n",
              "Tax Liens                            0.00\n",
              "Name: 13, dtype: float64"
            ]
          },
          "metadata": {},
          "execution_count": 119
        }
      ]
    },
    {
      "cell_type": "code",
      "metadata": {
        "colab": {
          "base_uri": "https://localhost:8080/",
          "height": 101
        },
        "id": "YUIvGVq7-V4M",
        "outputId": "5136e8f4-6b37-4050-80c6-cc1b60df1d17"
      },
      "source": [
        "idx = (np.abs(stats.zscore(numeric_cols)) < 3).all(axis=1)\n",
        "\n",
        "numeric_cols.loc[idx]"
      ],
      "execution_count": null,
      "outputs": [
        {
          "output_type": "execute_result",
          "data": {
            "text/html": [
              "<div>\n",
              "<style scoped>\n",
              "    .dataframe tbody tr th:only-of-type {\n",
              "        vertical-align: middle;\n",
              "    }\n",
              "\n",
              "    .dataframe tbody tr th {\n",
              "        vertical-align: top;\n",
              "    }\n",
              "\n",
              "    .dataframe thead th {\n",
              "        text-align: right;\n",
              "    }\n",
              "</style>\n",
              "<table border=\"1\" class=\"dataframe\">\n",
              "  <thead>\n",
              "    <tr style=\"text-align: right;\">\n",
              "      <th></th>\n",
              "      <th>Current Loan Amount</th>\n",
              "      <th>Credit Score</th>\n",
              "      <th>Years in current job</th>\n",
              "      <th>Annual Income</th>\n",
              "      <th>Monthly Debt</th>\n",
              "      <th>Years of Credit History</th>\n",
              "      <th>Months since last delinquent</th>\n",
              "      <th>Number of Open Accounts</th>\n",
              "      <th>Number of Credit Problems</th>\n",
              "      <th>Current Credit Balance</th>\n",
              "      <th>Maximum Open Credit</th>\n",
              "      <th>Bankruptcies</th>\n",
              "      <th>Tax Liens</th>\n",
              "    </tr>\n",
              "  </thead>\n",
              "  <tbody>\n",
              "  </tbody>\n",
              "</table>\n",
              "</div>"
            ],
            "text/plain": [
              "Empty DataFrame\n",
              "Columns: [Current Loan Amount, Credit Score, Years in current job, Annual Income, Monthly Debt, Years of Credit History, Months since last delinquent, Number of Open Accounts, Number of Credit Problems, Current Credit Balance, Maximum Open Credit, Bankruptcies, Tax Liens]\n",
              "Index: []"
            ]
          },
          "metadata": {},
          "execution_count": 32
        }
      ]
    },
    {
      "cell_type": "code",
      "metadata": {
        "colab": {
          "base_uri": "https://localhost:8080/"
        },
        "id": "RjoX0bQ7c136",
        "outputId": "f9d884c1-121e-47d8-9bd0-61181fd77dd6"
      },
      "source": [
        "# Create an index of rows to keep for absolute z-scores less than 3 on the numeric columns and use it to index and concatenate subsets.\n",
        "# Create index of rows to keep\n",
        "\n",
        "numeric_cols_02 = pd.DataFrame(loans_imp_iter, columns=numeric_cols.columns.to_list())\n",
        "\n",
        "idx = (np.abs(stats.zscore(numeric_cols_02)) < 3).all(axis=1)\n",
        "\n",
        "# Concatenate numeric and categoric subsets\n",
        "ld_out_drop = numeric_cols_02.loc[idx]\n",
        "# ld_out_drop = pd.concat([numeric_cols_02.loc[idx], categoric_cols.loc[idx]], axis=1)\n",
        "\n",
        "# Print: after dropping\n",
        "print('\\n Mean of Features\\n')\n",
        "print(ld_out_drop.mean())\n",
        "print('\\n Median of Features\\n')\n",
        "print(ld_out_drop.median())\n",
        "print('\\n Max of Features\\n')\n",
        "print(ld_out_drop.max())"
      ],
      "execution_count": null,
      "outputs": [
        {
          "output_type": "stream",
          "name": "stdout",
          "text": [
            "\n",
            " Mean of Features\n",
            "\n",
            "Current Loan Amount             1.425369e+07\n",
            "Credit Score                    7.229980e+02\n",
            "Years in current job            5.705872e+00\n",
            "Annual Income                   6.810742e+04\n",
            "Monthly Debt                    9.084579e+02\n",
            "Years of Credit History         1.786116e+01\n",
            "Months since last delinquent    3.556495e+01\n",
            "Number of Open Accounts         1.081810e+01\n",
            "Number of Credit Problems       1.114713e-01\n",
            "Current Credit Balance          1.378140e+04\n",
            "Maximum Open Credit             2.752115e+04\n",
            "Bankruptcies                    1.001156e-01\n",
            "Tax Liens                       8.412974e-06\n",
            "dtype: float64\n",
            "\n",
            " Median of Features\n",
            "\n",
            "Current Loan Amount             13951.000000\n",
            "Credit Score                      729.000000\n",
            "Years in current job                6.000000\n",
            "Annual Income                   61411.421591\n",
            "Monthly Debt                      822.490000\n",
            "Years of Credit History            16.800000\n",
            "Months since last delinquent       34.386687\n",
            "Number of Open Accounts            10.000000\n",
            "Number of Credit Problems           0.000000\n",
            "Current Credit Balance          10802.000000\n",
            "Maximum Open Credit             21317.000000\n",
            "Bankruptcies                        0.000000\n",
            "Tax Liens                           0.000000\n",
            "dtype: float64\n",
            "\n",
            " Max of Features\n",
            "\n",
            "Current Loan Amount             1.000000e+08\n",
            "Credit Score                    8.022539e+02\n",
            "Years in current job            1.000000e+01\n",
            "Annual Income                   2.471500e+05\n",
            "Monthly Debt                    2.875310e+03\n",
            "Years of Credit History         3.940000e+01\n",
            "Months since last delinquent    1.018235e+02\n",
            "Number of Open Accounts         2.600000e+01\n",
            "Number of Credit Problems       1.000000e+00\n",
            "Current Credit Balance          7.440700e+04\n",
            "Maximum Open Credit             8.163260e+05\n",
            "Bankruptcies                    1.000000e+00\n",
            "Tax Liens                       5.322989e-01\n",
            "dtype: float64\n"
          ]
        }
      ]
    },
    {
      "cell_type": "code",
      "metadata": {
        "colab": {
          "base_uri": "https://localhost:8080/"
        },
        "id": "cxrAPNYrMUY9",
        "outputId": "93ae4d3e-e1e0-4c58-8837-d843ee4fd708"
      },
      "source": [
        "np.where(idx==False)[0]"
      ],
      "execution_count": null,
      "outputs": [
        {
          "output_type": "execute_result",
          "data": {
            "text/plain": [
              "array([   13,    32,    46, ..., 88880, 88900, 88909])"
            ]
          },
          "metadata": {},
          "execution_count": 117
        }
      ]
    },
    {
      "cell_type": "markdown",
      "metadata": {
        "id": "oRuLrNR4MUWt"
      },
      "source": [
        "\n",
        "\n",
        "### **No2: Useful Functions**:\n",
        "\n",
        "```\n",
        "sns.boxplot(x= , y='Loan Status')       boxplot conditioned on target variable\n",
        "sns.distplot()                          histogram and kernel density estimate (kde)\n",
        "np.abs() returns absolute value\n",
        "stats.zscore()                          calculated z-score\n",
        "mstats.winsorize(limits=[0.05, 0.05])   floor and ceiling applied to outliers\n",
        "np.where(condition, true, false)        replaced values\n",
        "\n",
        "\n",
        "```\n",
        "\n",
        "\n",
        "\n",
        "\n",
        "\n",
        " "
      ]
    },
    {
      "cell_type": "markdown",
      "metadata": {
        "id": "JwwONvGGc79a"
      },
      "source": [
        "**Winsorization** is a way to minimize the influence of outliers in your data by either:\n",
        "\n",
        "* Assigning the outlier a lower weight,\n",
        "* Changing the value so that it is close to other values in the set."
      ]
    },
    {
      "cell_type": "code",
      "metadata": {
        "colab": {
          "base_uri": "https://localhost:8080/"
        },
        "id": "c8fFCKHUMUUO",
        "outputId": "042542df-37e8-4a8e-e4ec-a459c112cd7f"
      },
      "source": [
        "# Winsorize 'Monthly Debt' with 5% upper and lower limits and print the mean, median and max before and after.\n",
        "\n",
        "# Print: before winsorize\n",
        "\n",
        "from scipy.stats import mstats \n",
        "\n",
        "# Print: before winsorize\n",
        "print((loan_data['Monthly Debt']).mean())\n",
        "print((loan_data['Monthly Debt']).median())\n",
        "print((loan_data['Monthly Debt']).max())\n",
        "\n",
        "# Winsorize numeric columns\n",
        "debt_win = mstats.winsorize(loan_data['Monthly Debt'], limits=[0.05, 0.05])\n",
        "\n",
        "# Convert to DataFrame, reassign column name\n",
        "debt_out = pd.DataFrame(debt_win, columns=['Monthly Debt'])\n",
        "\n",
        "# Print: after winsorize\n",
        "print(debt_out.mean())\n",
        "print(debt_out.median())\n",
        "print(debt_out.max())"
      ],
      "execution_count": null,
      "outputs": [
        {
          "output_type": "stream",
          "name": "stdout",
          "text": [
            "963.1020592734293\n",
            "843.925\n",
            "22939.12\n",
            "Monthly Debt    935.371257\n",
            "dtype: float64\n",
            "Monthly Debt    843.925\n",
            "dtype: float64\n",
            "Monthly Debt    2115.52\n",
            "dtype: float64\n"
          ]
        }
      ]
    },
    {
      "cell_type": "code",
      "metadata": {
        "id": "LMNeMCR8MUQE"
      },
      "source": [
        "# Find the median of the values of Monthly Debt that are lower than 2120 and replace outliers with it.\n",
        "\n",
        "\n",
        "# Print: before replace with median\n",
        "print((loan_data['Monthly Debt']).mean())\n",
        "print((loan_data['Monthly Debt']).median())\n",
        "print((loan_data['Monthly Debt']).max())\n",
        "\n",
        "# Find median\n",
        "median = loan_data.loc[loan_data['Monthly Debt'] < 2120, 'Monthly Debt'].median()\n",
        "loan_data['Monthly Debt'] = np.where(loan_data['Monthly Debt'] > 2120, median, loan_data['Monthly Debt'])\n",
        "\n",
        "print((loan_data['Monthly Debt']).mean())\n",
        "print((loan_data['Monthly Debt']).median())\n",
        "print((loan_data['Monthly Debt']).max())"
      ],
      "execution_count": null,
      "outputs": []
    },
    {
      "cell_type": "markdown",
      "metadata": {
        "id": "twKsINDtMUOv"
      },
      "source": [
        "### Z-score standardization\n",
        "In the last exercise, you calculated the Z-score to address outliers. In a machine learning interview, another question might be where else Z-scores are used. They are often used for scaling your data prior to creating a model.\n",
        "\n",
        "In this exercise you'll use a function from sklearn.preprocessing that was introduced in the video lesson to standardize the numeric feature columns in the loan_data dataset. Recall that this scales the data so that it has a mean of 0 and standard deviation of 1.\n",
        "\n",
        "The sklearn.preprocessing module has already been imported for you."
      ]
    },
    {
      "cell_type": "code",
      "metadata": {
        "colab": {
          "base_uri": "https://localhost:8080/"
        },
        "id": "LQKCnhROMULT",
        "outputId": "6b325b83-e47b-41af-cb7b-9bb42b5de026"
      },
      "source": [
        "# Create a subset of the numeric and categorical columns in loan_data.\n",
        "\n",
        "# Subset features\n",
        "numeric_cols = loan_data.select_dtypes(include=[np.number])\n",
        "categoric_cols = loan_data.select_dtypes(include=[object])\n",
        "\n",
        "# Instantiate\n",
        "from sklearn.preprocessing import StandardScaler\n",
        "scaler = StandardScaler()\n",
        "\n",
        "# Fit and transform, convert to DF\n",
        "numeric_cols_scaled = scaler.fit_transform(numeric_cols)\n",
        "numeric_cols_scaledDF = pd.DataFrame(numeric_cols_scaled, columns=numeric_cols.columns)\n",
        "\n",
        "\n",
        "# Concatenate categoric columns to scaled numeric columns\n",
        "final_DF = pd.concat([numeric_cols_scaledDF, categoric_cols], axis=1)\n",
        "print(final_DF.head())"
      ],
      "execution_count": null,
      "outputs": [
        {
          "output_type": "stream",
          "name": "stdout",
          "text": [
            "   Current Loan Amount  Credit Score  ...  Home Ownership            Purpose\n",
            "0            -0.408982      0.233271  ...            Rent  DebtConsolidation\n",
            "1            -0.408617      0.415570  ...        Mortgage  DebtConsolidation\n",
            "2            -0.408871      0.087432  ...        Mortgage   HomeImprovements\n",
            "3            -0.408997      0.670788  ...            Rent  DebtConsolidation\n",
            "4            -0.409052     -1.298038  ...        Mortgage   HomeImprovements\n",
            "\n",
            "[5 rows x 17 columns]\n"
          ]
        }
      ]
    }
  ]
}
